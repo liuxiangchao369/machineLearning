{
 "cells": [
  {
   "cell_type": "markdown",
   "metadata": {},
   "source": [
    "# Classifying Cars by Country (Pytorch)"
   ]
  },
  {
   "cell_type": "markdown",
   "metadata": {},
   "source": [
    "#### Importing libraries"
   ]
  },
  {
   "cell_type": "code",
   "execution_count": 62,
   "metadata": {},
   "outputs": [],
   "source": [
    "import pandas as pd\n",
    "import numpy as np\n",
    "import torch\n",
    "from torch.nn import Sequential, Linear, ReLU, CrossEntropyLoss\n",
    "from torch.optim import SGD\n",
    "from torch.autograd import Variable\n",
    "from torch import Tensor\n",
    "from sklearn.model_selection import train_test_split\n",
    "from sklearn.preprocessing import MinMaxScaler\n",
    "import matplotlib.pyplot as plt\n",
    "import os\n",
    "os.chdir('C:/Users/Nicolas/Documents/Data/thecarconnection')"
   ]
  },
  {
   "cell_type": "markdown",
   "metadata": {},
   "source": [
    "#### Importing the data"
   ]
  },
  {
   "cell_type": "code",
   "execution_count": 2,
   "metadata": {},
   "outputs": [],
   "source": [
    "df = pd.read_csv('cleaned_encoded_data.csv')"
   ]
  },
  {
   "cell_type": "markdown",
   "metadata": {},
   "source": [
    "We're only going to keep a few columns with continuous variables"
   ]
  },
  {
   "cell_type": "code",
   "execution_count": 3,
   "metadata": {},
   "outputs": [
    {
     "data": {
      "text/plain": [
       "Index(['MSRP', 'Make', 'Model', 'Style Name', 'Passenger Capacity',\n",
       "       'Passenger Doors', 'Front Shoulder Room (in)', 'Front Head Room (in)',\n",
       "       'Second Leg Room (in)', 'Front Leg Room (in)',\n",
       "       'Second Shoulder Room (in)', 'Second Head Room (in)',\n",
       "       'Height, Overall (in)', 'Wheelbase (in)', 'Width, Max w/o mirrors (in)',\n",
       "       'Fuel Tank Capacity, Approx (gal)', 'EPA Fuel Economy Est - Hwy (MPG)',\n",
       "       'EPA Fuel Economy Est - City (MPG)', 'Third Gear Ratio (:1)',\n",
       "       'First Gear Ratio (:1)', 'Fourth Gear Ratio (:1)',\n",
       "       'Second Gear Ratio (:1)', 'Front Brake Rotor Diam x Thickness (in)',\n",
       "       'Rear Brake Rotor Diam x Thickness (in)',\n",
       "       'Turning Diameter - Curb to Curb', 'Basic Miles/km', 'Basic Years',\n",
       "       'Corrosion Miles/km', 'Corrosion Years', 'Drivetrain Miles/km',\n",
       "       'Drivetrain Years', 'Roadside Assistance Miles/km',\n",
       "       'Roadside Assistance Years', 'Hybrid Engine', 'Gears', 'Net Horsepower',\n",
       "       'Net Horsepower RPM', 'Net Torque', 'Net Torque RPM', 'Cylinders',\n",
       "       'Displacement (L)', 'Displacement (cc)', 'Rear Tire Width',\n",
       "       'Front Tire Width', 'Rear Wheel Size', 'Front Wheel Size',\n",
       "       'Tire Width Ratio', 'Wheel Size Ratio', 'Tire Ratio', 'Year',\n",
       "       'Country Code', 'Drivetrain: All Wheel Drive',\n",
       "       'Drivetrain: Four Wheel Drive', 'Drivetrain: Front Wheel Drive',\n",
       "       'Drivetrain: Rear Wheel Drive'],\n",
       "      dtype='object')"
      ]
     },
     "execution_count": 3,
     "metadata": {},
     "output_type": "execute_result"
    }
   ],
   "source": [
    "df.columns[:-220]"
   ]
  },
  {
   "cell_type": "code",
   "execution_count": 4,
   "metadata": {},
   "outputs": [
    {
     "name": "stdout",
     "output_type": "stream",
     "text": [
      "The countries of origin are as follow: 17% from Germany, 30% from Japan, and 39% from the USA.\n"
     ]
    }
   ],
   "source": [
    "num_germany, num_japan, num_usa = df['Country: Germany'].sum()/df.shape[0], df['Country: Japan'].sum()/df.shape[0],\\\n",
    "    df['Country: USA'].sum()/df.shape[0]\n",
    "print('The countries of origin are as follow: {}% from Germany, {}% from Japan, and'.format(int(num_germany*100), \n",
    "                            int(num_japan*100)), '{}% from the USA.'.format(int(num_usa*100)))"
   ]
  },
  {
   "cell_type": "code",
   "execution_count": 5,
   "metadata": {},
   "outputs": [],
   "source": [
    "df = df[['MSRP', 'Front Shoulder Room (in)', 'Front Head Room (in)',\n",
    "       'Second Leg Room (in)', 'Front Leg Room (in)',\n",
    "       'Second Shoulder Room (in)', 'Second Head Room (in)',\n",
    "       'Height, Overall (in)', 'Wheelbase (in)', 'Width, Max w/o mirrors (in)',\n",
    "       'Fuel Tank Capacity, Approx (gal)', 'EPA Fuel Economy Est - Hwy (MPG)',\n",
    "       'EPA Fuel Economy Est - City (MPG)', 'Third Gear Ratio (:1)',\n",
    "       'First Gear Ratio (:1)', 'Fourth Gear Ratio (:1)',\n",
    "       'Second Gear Ratio (:1)', 'Front Brake Rotor Diam x Thickness (in)',\n",
    "       'Rear Brake Rotor Diam x Thickness (in)',\n",
    "       'Turning Diameter - Curb to Curb', 'Gears', 'Net Horsepower',\n",
    "       'Net Horsepower RPM', 'Net Torque', 'Net Torque RPM', \n",
    "       'Displacement (L)', 'Displacement (cc)', 'Rear Tire Width',\n",
    "       'Front Tire Width', 'Rear Wheel Size', 'Front Wheel Size', \n",
    "        'Country: Germany', 'Country: Japan', 'Country: USA']]"
   ]
  },
  {
   "cell_type": "code",
   "execution_count": 6,
   "metadata": {
    "scrolled": true
   },
   "outputs": [],
   "source": [
    "df = df.loc[df.iloc[:, -3:].sum(axis=1) == 1] # keeping only German, Japanese, and American cars"
   ]
  },
  {
   "cell_type": "code",
   "execution_count": 7,
   "metadata": {},
   "outputs": [
    {
     "data": {
      "text/html": [
       "<div>\n",
       "<style scoped>\n",
       "    .dataframe tbody tr th:only-of-type {\n",
       "        vertical-align: middle;\n",
       "    }\n",
       "\n",
       "    .dataframe tbody tr th {\n",
       "        vertical-align: top;\n",
       "    }\n",
       "\n",
       "    .dataframe thead th {\n",
       "        text-align: right;\n",
       "    }\n",
       "</style>\n",
       "<table border=\"1\" class=\"dataframe\">\n",
       "  <thead>\n",
       "    <tr style=\"text-align: right;\">\n",
       "      <th></th>\n",
       "      <th>MSRP</th>\n",
       "      <th>Front Shoulder Room (in)</th>\n",
       "      <th>Front Head Room (in)</th>\n",
       "      <th>Second Leg Room (in)</th>\n",
       "      <th>Front Leg Room (in)</th>\n",
       "      <th>Second Shoulder Room (in)</th>\n",
       "      <th>Second Head Room (in)</th>\n",
       "      <th>Height, Overall (in)</th>\n",
       "      <th>Wheelbase (in)</th>\n",
       "      <th>Width, Max w/o mirrors (in)</th>\n",
       "      <th>...</th>\n",
       "      <th>Net Torque RPM</th>\n",
       "      <th>Displacement (L)</th>\n",
       "      <th>Displacement (cc)</th>\n",
       "      <th>Rear Tire Width</th>\n",
       "      <th>Front Tire Width</th>\n",
       "      <th>Rear Wheel Size</th>\n",
       "      <th>Front Wheel Size</th>\n",
       "      <th>Country: Germany</th>\n",
       "      <th>Country: Japan</th>\n",
       "      <th>Country: USA</th>\n",
       "    </tr>\n",
       "  </thead>\n",
       "  <tbody>\n",
       "    <tr>\n",
       "      <th>0</th>\n",
       "      <td>30034.0</td>\n",
       "      <td>65.2</td>\n",
       "      <td>41.0</td>\n",
       "      <td>33.7</td>\n",
       "      <td>41.30</td>\n",
       "      <td>66.3</td>\n",
       "      <td>38.4</td>\n",
       "      <td>76.2</td>\n",
       "      <td>143.5</td>\n",
       "      <td>79.7</td>\n",
       "      <td>...</td>\n",
       "      <td>4000.0</td>\n",
       "      <td>6.0</td>\n",
       "      <td>364.0</td>\n",
       "      <td>245.0</td>\n",
       "      <td>245.0</td>\n",
       "      <td>16.0</td>\n",
       "      <td>16.0</td>\n",
       "      <td>0.0</td>\n",
       "      <td>0.0</td>\n",
       "      <td>1.0</td>\n",
       "    </tr>\n",
       "    <tr>\n",
       "      <th>1</th>\n",
       "      <td>19515.0</td>\n",
       "      <td>54.5</td>\n",
       "      <td>39.2</td>\n",
       "      <td>39.1</td>\n",
       "      <td>42.40</td>\n",
       "      <td>40.0</td>\n",
       "      <td>33.2</td>\n",
       "      <td>66.3</td>\n",
       "      <td>125.7</td>\n",
       "      <td>69.4</td>\n",
       "      <td>...</td>\n",
       "      <td>3750.0</td>\n",
       "      <td>2.3</td>\n",
       "      <td>140.0</td>\n",
       "      <td>225.0</td>\n",
       "      <td>225.0</td>\n",
       "      <td>15.0</td>\n",
       "      <td>15.0</td>\n",
       "      <td>0.0</td>\n",
       "      <td>0.0</td>\n",
       "      <td>1.0</td>\n",
       "    </tr>\n",
       "    <tr>\n",
       "      <th>2</th>\n",
       "      <td>24595.0</td>\n",
       "      <td>56.3</td>\n",
       "      <td>40.8</td>\n",
       "      <td>37.8</td>\n",
       "      <td>43.00</td>\n",
       "      <td>56.1</td>\n",
       "      <td>39.3</td>\n",
       "      <td>65.7</td>\n",
       "      <td>107.9</td>\n",
       "      <td>71.7</td>\n",
       "      <td>...</td>\n",
       "      <td>4000.0</td>\n",
       "      <td>2.5</td>\n",
       "      <td>150.0</td>\n",
       "      <td>225.0</td>\n",
       "      <td>225.0</td>\n",
       "      <td>17.0</td>\n",
       "      <td>17.0</td>\n",
       "      <td>0.0</td>\n",
       "      <td>1.0</td>\n",
       "      <td>0.0</td>\n",
       "    </tr>\n",
       "    <tr>\n",
       "      <th>3</th>\n",
       "      <td>56600.0</td>\n",
       "      <td>58.9</td>\n",
       "      <td>39.6</td>\n",
       "      <td>36.0</td>\n",
       "      <td>41.86</td>\n",
       "      <td>56.7</td>\n",
       "      <td>38.9</td>\n",
       "      <td>67.4</td>\n",
       "      <td>114.0</td>\n",
       "      <td>76.3</td>\n",
       "      <td>...</td>\n",
       "      <td>1750.0</td>\n",
       "      <td>3.0</td>\n",
       "      <td>181.0</td>\n",
       "      <td>255.0</td>\n",
       "      <td>255.0</td>\n",
       "      <td>18.0</td>\n",
       "      <td>18.0</td>\n",
       "      <td>1.0</td>\n",
       "      <td>0.0</td>\n",
       "      <td>0.0</td>\n",
       "    </tr>\n",
       "    <tr>\n",
       "      <th>4</th>\n",
       "      <td>21795.0</td>\n",
       "      <td>57.5</td>\n",
       "      <td>40.1</td>\n",
       "      <td>39.3</td>\n",
       "      <td>41.00</td>\n",
       "      <td>55.5</td>\n",
       "      <td>39.0</td>\n",
       "      <td>65.7</td>\n",
       "      <td>106.3</td>\n",
       "      <td>72.4</td>\n",
       "      <td>...</td>\n",
       "      <td>4000.0</td>\n",
       "      <td>2.0</td>\n",
       "      <td>122.0</td>\n",
       "      <td>225.0</td>\n",
       "      <td>225.0</td>\n",
       "      <td>17.0</td>\n",
       "      <td>17.0</td>\n",
       "      <td>0.0</td>\n",
       "      <td>1.0</td>\n",
       "      <td>0.0</td>\n",
       "    </tr>\n",
       "  </tbody>\n",
       "</table>\n",
       "<p>5 rows × 34 columns</p>\n",
       "</div>"
      ],
      "text/plain": [
       "      MSRP  Front Shoulder Room (in)  Front Head Room (in)  \\\n",
       "0  30034.0                      65.2                  41.0   \n",
       "1  19515.0                      54.5                  39.2   \n",
       "2  24595.0                      56.3                  40.8   \n",
       "3  56600.0                      58.9                  39.6   \n",
       "4  21795.0                      57.5                  40.1   \n",
       "\n",
       "   Second Leg Room (in)  Front Leg Room (in)  Second Shoulder Room (in)  \\\n",
       "0                  33.7                41.30                       66.3   \n",
       "1                  39.1                42.40                       40.0   \n",
       "2                  37.8                43.00                       56.1   \n",
       "3                  36.0                41.86                       56.7   \n",
       "4                  39.3                41.00                       55.5   \n",
       "\n",
       "   Second Head Room (in)  Height, Overall (in)  Wheelbase (in)  \\\n",
       "0                   38.4                  76.2           143.5   \n",
       "1                   33.2                  66.3           125.7   \n",
       "2                   39.3                  65.7           107.9   \n",
       "3                   38.9                  67.4           114.0   \n",
       "4                   39.0                  65.7           106.3   \n",
       "\n",
       "   Width, Max w/o mirrors (in)      ...       Net Torque RPM  \\\n",
       "0                         79.7      ...               4000.0   \n",
       "1                         69.4      ...               3750.0   \n",
       "2                         71.7      ...               4000.0   \n",
       "3                         76.3      ...               1750.0   \n",
       "4                         72.4      ...               4000.0   \n",
       "\n",
       "   Displacement (L)  Displacement (cc)  Rear Tire Width  Front Tire Width  \\\n",
       "0               6.0              364.0            245.0             245.0   \n",
       "1               2.3              140.0            225.0             225.0   \n",
       "2               2.5              150.0            225.0             225.0   \n",
       "3               3.0              181.0            255.0             255.0   \n",
       "4               2.0              122.0            225.0             225.0   \n",
       "\n",
       "   Rear Wheel Size  Front Wheel Size  Country: Germany  Country: Japan  \\\n",
       "0             16.0              16.0               0.0             0.0   \n",
       "1             15.0              15.0               0.0             0.0   \n",
       "2             17.0              17.0               0.0             1.0   \n",
       "3             18.0              18.0               1.0             0.0   \n",
       "4             17.0              17.0               0.0             1.0   \n",
       "\n",
       "   Country: USA  \n",
       "0           1.0  \n",
       "1           1.0  \n",
       "2           0.0  \n",
       "3           0.0  \n",
       "4           0.0  \n",
       "\n",
       "[5 rows x 34 columns]"
      ]
     },
     "execution_count": 7,
     "metadata": {},
     "output_type": "execute_result"
    }
   ],
   "source": [
    "df.head()"
   ]
  },
  {
   "cell_type": "markdown",
   "metadata": {},
   "source": [
    "#### Separating `X` and `y`"
   ]
  },
  {
   "cell_type": "code",
   "execution_count": 8,
   "metadata": {},
   "outputs": [],
   "source": [
    "X = df.iloc[:, :-3].values.astype(np.float64)"
   ]
  },
  {
   "cell_type": "code",
   "execution_count": 19,
   "metadata": {},
   "outputs": [],
   "source": [
    "y = df.iloc[:, -3:].values.astype(np.float64)"
   ]
  },
  {
   "cell_type": "code",
   "execution_count": 20,
   "metadata": {},
   "outputs": [],
   "source": [
    "assert X.shape[0] == y.shape[0]"
   ]
  },
  {
   "cell_type": "markdown",
   "metadata": {},
   "source": [
    "#### Scaling the data"
   ]
  },
  {
   "cell_type": "code",
   "execution_count": 21,
   "metadata": {},
   "outputs": [],
   "source": [
    "scaler = MinMaxScaler()"
   ]
  },
  {
   "cell_type": "code",
   "execution_count": 22,
   "metadata": {},
   "outputs": [],
   "source": [
    "X = scaler.fit_transform(X)"
   ]
  },
  {
   "cell_type": "code",
   "execution_count": 23,
   "metadata": {},
   "outputs": [
    {
     "data": {
      "text/plain": [
       "array([[0., 0., 1.],\n",
       "       [0., 0., 1.],\n",
       "       [0., 1., 0.],\n",
       "       [1., 0., 0.],\n",
       "       [0., 1., 0.],\n",
       "       [0., 0., 1.],\n",
       "       [0., 0., 1.],\n",
       "       [0., 1., 0.],\n",
       "       [0., 1., 0.],\n",
       "       [0., 0., 1.]])"
      ]
     },
     "execution_count": 23,
     "metadata": {},
     "output_type": "execute_result"
    }
   ],
   "source": [
    "y[:10] "
   ]
  },
  {
   "cell_type": "code",
   "execution_count": 24,
   "metadata": {},
   "outputs": [
    {
     "data": {
      "text/plain": [
       "array([2, 2, 1, 0, 1, 2, 2, 1, 1, 2], dtype=int64)"
      ]
     },
     "execution_count": 24,
     "metadata": {},
     "output_type": "execute_result"
    }
   ],
   "source": [
    "np.where(y == 1)[1][:10]"
   ]
  },
  {
   "cell_type": "code",
   "execution_count": 25,
   "metadata": {},
   "outputs": [],
   "source": [
    "y = np.where(y == 1)[1].astype(np.float64)"
   ]
  },
  {
   "cell_type": "markdown",
   "metadata": {},
   "source": [
    "#### Train test split"
   ]
  },
  {
   "cell_type": "code",
   "execution_count": 26,
   "metadata": {},
   "outputs": [],
   "source": [
    "x_train, x_test, y_train, y_test = train_test_split(X, y, test_size=0.2)"
   ]
  },
  {
   "cell_type": "markdown",
   "metadata": {},
   "source": [
    "#### Prediction "
   ]
  },
  {
   "cell_type": "code",
   "execution_count": 65,
   "metadata": {},
   "outputs": [],
   "source": [
    "hidden_units = 64"
   ]
  },
  {
   "cell_type": "code",
   "execution_count": 66,
   "metadata": {},
   "outputs": [],
   "source": [
    "model = Sequential(\n",
    "    Linear(31, 64),\n",
    "    ReLU(),\n",
    "    Linear(64, 128),\n",
    "    ReLU(),\n",
    "    Linear(128, 3)\n",
    ")"
   ]
  },
  {
   "cell_type": "code",
   "execution_count": 67,
   "metadata": {},
   "outputs": [],
   "source": [
    "criterion = CrossEntropyLoss()\n",
    "optimizer = SGD(model.parameters(), lr=1e-1, momentum=9e-1)"
   ]
  },
  {
   "cell_type": "code",
   "execution_count": 68,
   "metadata": {},
   "outputs": [],
   "source": [
    "epochs = 1_000"
   ]
  },
  {
   "cell_type": "code",
   "execution_count": 69,
   "metadata": {},
   "outputs": [
    {
     "name": "stdout",
     "output_type": "stream",
     "text": [
      "Epoch 1 Loss: 1.0874\n",
      "Epoch 100 Loss: 0.5189\n",
      "Epoch 200 Loss: 0.4697\n",
      "Epoch 300 Loss: 0.2880\n",
      "Epoch 400 Loss: 0.6979\n",
      "Epoch 500 Loss: 0.2616\n",
      "Epoch 600 Loss: 0.2342\n",
      "Epoch 700 Loss: 0.2870\n",
      "Epoch 800 Loss: 0.1909\n",
      "Epoch 900 Loss: 0.1532\n",
      "Epoch 1000 Loss: 0.1395\n"
     ]
    }
   ],
   "source": [
    "loss_history = []\n",
    "for epoch in range(epochs):\n",
    "    inx = np.random.randint(0, x_train.shape[0], 24_000)\n",
    "    inputs = Variable(Tensor(x_train[inx]).float())\n",
    "    targets = Variable(Tensor(y_train[inx]).long())\n",
    "    optimizer.zero_grad()\n",
    "    out = model(inputs)\n",
    "    loss = criterion(out, targets)\n",
    "    loss.backward()\n",
    "    optimizer.step()\n",
    "    loss_history.append(loss.item())\n",
    "    \n",
    "    if epoch == 0 or (epoch + 1) % 100 == 0:\n",
    "        print('Epoch %d Loss: %.4f' % (epoch + 1, loss.item()))    "
   ]
  },
  {
   "cell_type": "code",
   "execution_count": 76,
   "metadata": {},
   "outputs": [
    {
     "data": {
      "image/png": "[encoded data removed]",
      "text/plain": [
       "<Figure size 432x288 with 1 Axes>"
      ]
     },
     "metadata": {
      "needs_background": "light"
     },
     "output_type": "display_data"
    }
   ],
   "source": [
    "fig, ax = plt.subplots()\n",
    "ax.plot(np.arange(1, len(loss_history)+1), loss_history)\n",
    "_ = plt.title('Loss History')\n",
    "_ = plt.ylabel('Loss')\n",
    "_ = plt.xlabel('Epoch')"
   ]
  },
  {
   "cell_type": "markdown",
   "metadata": {},
   "source": [
    "#### Test accuracy"
   ]
  },
  {
   "cell_type": "code",
   "execution_count": 71,
   "metadata": {},
   "outputs": [],
   "source": [
    "inputs = Variable(Tensor(x_test).float())\n",
    "targets = Variable(Tensor(y_test).long())"
   ]
  },
  {
   "cell_type": "code",
   "execution_count": 72,
   "metadata": {},
   "outputs": [],
   "source": [
    "optimizer.zero_grad()\n",
    "out = model(inputs)\n",
    "_, predicted = torch.max(out.data, 1)"
   ]
  },
  {
   "cell_type": "code",
   "execution_count": 73,
   "metadata": {},
   "outputs": [],
   "source": [
    "error_count = y_test.size - np.count_nonzero((targets == predicted).numpy())"
   ]
  },
  {
   "cell_type": "code",
   "execution_count": 74,
   "metadata": {},
   "outputs": [
    {
     "name": "stdout",
     "output_type": "stream",
     "text": [
      "Errors: 276 — Accuracy: 94%\n"
     ]
    }
   ],
   "source": [
    "print('Errors: %d — Accuracy: %d%%' % (error_count, 100*torch.sum(targets == predicted)/y_test.size))"
   ]
  },
  {
   "cell_type": "code",
   "execution_count": 75,
   "metadata": {},
   "outputs": [
    {
     "name": "stdout",
     "output_type": "stream",
     "text": [
      "Using 1/6th of the features, we can classify cars according to their country with 94% accuracy!\n"
     ]
    }
   ],
   "source": [
    "print('Using 1/6th of the features, we can classify cars according to their',\n",
    "     'country with {}% accuracy!'.format(100*torch.sum(targets == predicted)/y_test.size))"
   ]
  }
 ],
 "metadata": {
  "kernelspec": {
   "display_name": "Python 3",
   "language": "python",
   "name": "python3"
  },
  "language_info": {
   "codemirror_mode": {
    "name": "ipython",
    "version": 3
   },
   "file_extension": ".py",
   "mimetype": "text/x-python",
   "name": "python",
   "nbconvert_exporter": "python",
   "pygments_lexer": "ipython3",
   "version": "3.7.0"
  }
 },
 "nbformat": 4,
 "nbformat_minor": 2
}
