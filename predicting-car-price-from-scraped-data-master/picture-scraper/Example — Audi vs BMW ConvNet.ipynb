{
 "cells": [
  {
   "cell_type": "markdown",
   "metadata": {},
   "source": [
    "# Pytorch Convolutional Neural Network"
   ]
  },
  {
   "cell_type": "markdown",
   "metadata": {},
   "source": [
    "<img src='https://miro.medium.com/max/3288/1*uAeANQIOQPqWZnnuH-VEyw.jpeg'   width=\"700\" height=\"350\">"
   ]
  },
  {
   "cell_type": "markdown",
   "metadata": {},
   "source": [
    "##### Importing libraries"
   ]
  },
  {
   "cell_type": "code",
   "execution_count": 1,
   "metadata": {},
   "outputs": [],
   "source": [
    "import numpy as np\n",
    "import matplotlib.pyplot as plt\n",
    "from glob import glob\n",
    "from PIL import Image\n",
    "import pandas as pd\n",
    "from time import time\n",
    "from sklearn.model_selection import train_test_split\n",
    "import torch\n",
    "import torch.nn as nn\n",
    "import torch.nn.functional as F\n",
    "import torch.optim as optim\n",
    "from torch.utils.data import DataLoader\n",
    "from torch.autograd import Variable\n",
    "from sklearn.preprocessing import LabelEncoder\n",
    "import os\n",
    "os.chdir('f:/exterior')"
   ]
  },
  {
   "cell_type": "markdown",
   "metadata": {},
   "source": [
    "##### Loading all file names"
   ]
  },
  {
   "cell_type": "code",
   "execution_count": 2,
   "metadata": {},
   "outputs": [],
   "source": [
    "files = glob('*.jpg')\n",
    "files = np.random.permutation(files)"
   ]
  },
  {
   "cell_type": "code",
   "execution_count": 3,
   "metadata": {},
   "outputs": [
    {
     "data": {
      "text/plain": [
       "array(['smart_fortwo_2013_17_15_700_10_3_61_60_106_34_RWD_2_2_Convertible_zHI.jpg',\n",
       "       'Honda_Ridgeline_2008_28_17_240_35_6_76_70_206_15_4WD_5_4_Pickup_Ttk.jpg',\n",
       "       'Audi_A7_2012_59_18_310_30_6_75_55_195_18_AWD_4_4_4dr_naU.jpg',\n",
       "       'Kia_Sedona_2017_33_18_270_33_6_78_69_201_18_FWD_8_4_Van_CVX.jpg',\n",
       "       'Volvo_V60_2016_37_17_250_25_5_73_58_182_20_AWD_5_4_4dr_nok.jpg'],\n",
       "      dtype='<U88')"
      ]
     },
     "execution_count": 3,
     "metadata": {},
     "output_type": "execute_result"
    }
   ],
   "source": [
    "files[:5]"
   ]
  },
  {
   "cell_type": "markdown",
   "metadata": {},
   "source": [
    "##### Keeping only Audi/BMW"
   ]
  },
  {
   "cell_type": "code",
   "execution_count": 4,
   "metadata": {},
   "outputs": [],
   "source": [
    "cars = [i for i in files if i.split('_')[0] in ('Audi', 'BMW')]"
   ]
  },
  {
   "cell_type": "code",
   "execution_count": 5,
   "metadata": {},
   "outputs": [
    {
     "data": {
      "text/plain": [
       "['Audi_A7_2012_59_18_310_30_6_75_55_195_18_AWD_4_4_4dr_naU.jpg',\n",
       " 'BMW_2-Series_2020_41_17_240_20_4_69_55_174_23_RWD_4_2_Convertible_DfX.jpg',\n",
       " 'Audi_A4_2019_37_17_180_20_4_72_56_186_27_FWD_5_4_4dr_CyR.jpg',\n",
       " 'BMW_X5_2017_56_19_300_30_6_76_69_192_18_RWD_5_4_SUV_eXs.jpg',\n",
       " 'Audi_Q8_2019_67_20_330_30_6_78_67_196_17_AWD_5_4_SUV_MmZ.jpg']"
      ]
     },
     "execution_count": 5,
     "metadata": {},
     "output_type": "execute_result"
    }
   ],
   "source": [
    "cars[:5]"
   ]
  },
  {
   "cell_type": "code",
   "execution_count": 6,
   "metadata": {},
   "outputs": [],
   "source": [
    "audi = [i for i in cars if i.split('_')[0] == 'Audi']\n",
    "bmw = [i for i in cars if i.split('_')[0] == 'BMW']"
   ]
  },
  {
   "cell_type": "code",
   "execution_count": 7,
   "metadata": {},
   "outputs": [
    {
     "name": "stdout",
     "output_type": "stream",
     "text": [
      "There are 3131 Audis and 4121 BMWs.\n"
     ]
    }
   ],
   "source": [
    "print(f'There are {len(audi)} Audis and {len(bmw)} BMWs.')"
   ]
  },
  {
   "cell_type": "code",
   "execution_count": 8,
   "metadata": {},
   "outputs": [],
   "source": [
    "n_each = np.minimum(len(audi), len(bmw))//1000*1000"
   ]
  },
  {
   "cell_type": "code",
   "execution_count": 9,
   "metadata": {},
   "outputs": [],
   "source": [
    "cars = np.random.choice(audi, n_each, replace=False).tolist() +\\\n",
    "       np.random.choice(bmw, n_each, replace=False).tolist()"
   ]
  },
  {
   "cell_type": "code",
   "execution_count": 10,
   "metadata": {},
   "outputs": [],
   "source": [
    "makes = np.repeat('Audi', n_each).tolist() + np.repeat('BMW', n_each).tolist()"
   ]
  },
  {
   "cell_type": "code",
   "execution_count": 11,
   "metadata": {},
   "outputs": [],
   "source": [
    "cat = ['Audi', 'BMW']"
   ]
  },
  {
   "cell_type": "code",
   "execution_count": 12,
   "metadata": {},
   "outputs": [],
   "source": [
    "assert len(makes) == len(cars), 'The X and Y are not of the same length!'"
   ]
  },
  {
   "cell_type": "code",
   "execution_count": 13,
   "metadata": {},
   "outputs": [
    {
     "name": "stdout",
     "output_type": "stream",
     "text": [
      "Total length is 6,000 cars.\n"
     ]
    }
   ],
   "source": [
    "print('Total length is {:,} cars.'.format(len(cars)))"
   ]
  },
  {
   "cell_type": "markdown",
   "metadata": {},
   "source": [
    "##### Cropping function"
   ]
  },
  {
   "cell_type": "code",
   "execution_count": 14,
   "metadata": {},
   "outputs": [],
   "source": [
    "def crop(filename, w, h):\n",
    "    image = Image.open(filename)\n",
    "    width = image.size[0]\n",
    "    height = image.size[1]\n",
    "\n",
    "    aspect = width / float(height)\n",
    "\n",
    "    ideal_width = w\n",
    "    ideal_height = h\n",
    "\n",
    "    ideal_aspect = ideal_width / float(ideal_height)\n",
    "\n",
    "    if aspect > ideal_aspect:\n",
    "        new_width = int(ideal_aspect * height)\n",
    "        offset = (width - new_width) / 2\n",
    "        resize = (offset, 0, width - offset, height)\n",
    "    else:\n",
    "        new_height = int(width / ideal_aspect)\n",
    "        offset = (height - new_height) / 2\n",
    "        resize = (0, offset, width, height - offset)\n",
    "\n",
    "    img = image.crop(resize).resize((ideal_width, ideal_height), Image.ANTIALIAS)\n",
    "\n",
    "    return np.array(img)"
   ]
  },
  {
   "cell_type": "markdown",
   "metadata": {},
   "source": [
    "##### Loading and cropping images"
   ]
  },
  {
   "cell_type": "code",
   "execution_count": 15,
   "metadata": {},
   "outputs": [
    {
     "name": "stdout",
     "output_type": "stream",
     "text": [
      "Scaling...\n",
      "10.00% elapsed.\n",
      "20.00% elapsed.\n",
      "30.00% elapsed.\n",
      "40.00% elapsed.\n",
      "50.00% elapsed.\n",
      "60.00% elapsed.\n",
      "70.00% elapsed.\n",
      "80.00% elapsed.\n",
      "90.00% elapsed.\n",
      "100.00% elapsed.\n",
      "Done. 49 seconds\n"
     ]
    }
   ],
   "source": [
    "print('Scaling...')\n",
    "start = time()\n",
    "x = []\n",
    "num_to_load = len(cars)\n",
    "for ix, file in enumerate(cars[:num_to_load], 1):\n",
    "    image = crop(file, 75, 45)\n",
    "    x.append(image)\n",
    "    if ix % (num_to_load // 10) == 0:\n",
    "        print(f'{ix/len(cars):.2%} elapsed.')\n",
    "print(f'\\rDone. {int(time() - start)} seconds')\n",
    "makes = makes[:num_to_load]"
   ]
  },
  {
   "cell_type": "markdown",
   "metadata": {},
   "source": [
    "##### Turning the pictures into arrays"
   ]
  },
  {
   "cell_type": "code",
   "execution_count": 16,
   "metadata": {},
   "outputs": [],
   "source": [
    "le = LabelEncoder()\n",
    "y = le.fit_transform(makes)"
   ]
  },
  {
   "cell_type": "code",
   "execution_count": 17,
   "metadata": {},
   "outputs": [],
   "source": [
    "x = np.array(x, dtype=np.float32)\n",
    "y = np.array(y, dtype=np.float32)"
   ]
  },
  {
   "cell_type": "code",
   "execution_count": 18,
   "metadata": {},
   "outputs": [
    {
     "name": "stdout",
     "output_type": "stream",
     "text": [
      "(6000, 45, 75, 3)\n"
     ]
    }
   ],
   "source": [
    "n, h, w, c = x.shape\n",
    "print(x.shape)"
   ]
  },
  {
   "cell_type": "code",
   "execution_count": 19,
   "metadata": {},
   "outputs": [
    {
     "name": "stdout",
     "output_type": "stream",
     "text": [
      "X and Y shapes are correct! (6000 samples each)\n"
     ]
    }
   ],
   "source": [
    "if x.shape[0] == y.shape[0]:\n",
    "    print('X and Y shapes are correct! (%i samples each)' % x.shape[0])"
   ]
  },
  {
   "cell_type": "code",
   "execution_count": 20,
   "metadata": {},
   "outputs": [],
   "source": [
    "yy, xx = y.nbytes, x.nbytes"
   ]
  },
  {
   "cell_type": "code",
   "execution_count": 21,
   "metadata": {},
   "outputs": [
    {
     "name": "stdout",
     "output_type": "stream",
     "text": [
      "The size of X is 0.24 GB and the size of Y is 0.0240 MB.\n"
     ]
    }
   ],
   "source": [
    "print(f'The size of X is {xx/1e9:,.2f} GB and the size of Y is {yy/1e6:,.4f} MB.')"
   ]
  },
  {
   "cell_type": "code",
   "execution_count": 22,
   "metadata": {},
   "outputs": [
    {
     "name": "stdout",
     "output_type": "stream",
     "text": [
      "The size of the data we are using is 6,000 pictures.\n"
     ]
    }
   ],
   "source": [
    "print(f'The size of the data we are using is {x.shape[0]:,} pictures.')"
   ]
  },
  {
   "cell_type": "code",
   "execution_count": 23,
   "metadata": {},
   "outputs": [],
   "source": [
    "# files, cars = None, None"
   ]
  },
  {
   "cell_type": "markdown",
   "metadata": {},
   "source": [
    "##### Displaying the pictures"
   ]
  },
  {
   "cell_type": "code",
   "execution_count": 24,
   "metadata": {},
   "outputs": [
    {
     "data": {
      "image/png": "[encoded data removed]",
      "text/plain": [
       "<Figure size 864x864 with 4 Axes>"
      ]
     },
     "metadata": {},
     "output_type": "display_data"
    }
   ],
   "source": [
    "np.random.seed(45)\n",
    "fig = plt.figure(figsize=(12, 12))\n",
    "for i in range(1, 5):\n",
    "    rand = np.random.randint(x.shape[0])\n",
    "    plt.subplot(1, 5, i)\n",
    "    ax = plt.imshow(x[rand].astype(np.uint8), cmap='gray')\n",
    "    plt.title('<{}>'.format(cat[int(y[rand])].capitalize()))\n",
    "    yticks = plt.xticks([])\n",
    "    yticks = plt.yticks([])"
   ]
  },
  {
   "cell_type": "markdown",
   "metadata": {},
   "source": [
    "##### Cross-validation"
   ]
  },
  {
   "cell_type": "code",
   "execution_count": 25,
   "metadata": {},
   "outputs": [],
   "source": [
    "x_train, x_test, y_train, y_test = train_test_split(x, y, test_size=2e-1, \n",
    "                                                    shuffle=True)"
   ]
  },
  {
   "cell_type": "code",
   "execution_count": 26,
   "metadata": {},
   "outputs": [
    {
     "name": "stdout",
     "output_type": "stream",
     "text": [
      "The size of the training set is 4,800 and the size of the test set is 1,200.\n"
     ]
    }
   ],
   "source": [
    "trainsize, testsize = x_train.shape[0], x_test.shape[0]\n",
    "print(f'The size of the training set is {trainsize:,} and the '\\\n",
    "     f'size of the test set is {testsize:,}.')"
   ]
  },
  {
   "cell_type": "markdown",
   "metadata": {},
   "source": [
    "##### Scaling, casting the arrays"
   ]
  },
  {
   "cell_type": "code",
   "execution_count": 27,
   "metadata": {},
   "outputs": [
    {
     "name": "stdout",
     "output_type": "stream",
     "text": [
      "Done.     \n"
     ]
    }
   ],
   "source": [
    "print('Scaling...', end='')\n",
    "x_train = x_train.reshape(-1, 3, h, w).astype('float32') / 255 \n",
    "x_test = x_test.reshape(-1, 3, h, w).astype('float32') / 255\n",
    "y_train = y_train.astype('int64')\n",
    "y_test = y_test.astype('int64')\n",
    "print('\\rDone.     ')"
   ]
  },
  {
   "cell_type": "code",
   "execution_count": 28,
   "metadata": {},
   "outputs": [
    {
     "name": "stdout",
     "output_type": "stream",
     "text": [
      "First dimension: 4800 \n",
      "Second dimension: 3 \n",
      "Third dimension: 45 \n",
      "Fourth dimension: 75\n"
     ]
    }
   ],
   "source": [
    "samples, first, second, third = x_train.shape\n",
    "print('First dimension: %i' % samples,\n",
    "     '\\nSecond dimension: %i' % first,\n",
    "     '\\nThird dimension: %i' % second,\n",
    "     '\\nFourth dimension: %i' % third)"
   ]
  },
  {
   "cell_type": "markdown",
   "metadata": {},
   "source": [
    "##### Sending the arrays to Cuda"
   ]
  },
  {
   "cell_type": "code",
   "execution_count": 29,
   "metadata": {},
   "outputs": [
    {
     "name": "stdout",
     "output_type": "stream",
     "text": [
      "Tensors successfully flushed to CUDA.\n"
     ]
    }
   ],
   "source": [
    "if torch.cuda.is_available():\n",
    "    x_train = torch.from_numpy(x_train) \n",
    "    x_test = torch.from_numpy(x_test) \n",
    "    y_train = torch.from_numpy(y_train) \n",
    "    y_test = torch.from_numpy(y_test)\n",
    "    print('Tensors successfully flushed to CUDA.')\n",
    "else:\n",
    "    print('CUDA not available!')"
   ]
  },
  {
   "cell_type": "markdown",
   "metadata": {},
   "source": [
    "##### Clearning memory"
   ]
  },
  {
   "cell_type": "code",
   "execution_count": 30,
   "metadata": {},
   "outputs": [],
   "source": [
    "# x, y = None, None"
   ]
  },
  {
   "cell_type": "markdown",
   "metadata": {},
   "source": [
    "##### Building the ConvNet"
   ]
  },
  {
   "cell_type": "markdown",
   "metadata": {},
   "source": [
    "Initially image size, W = 60 <br>\n",
    "Kernel Size, k = 3 <br>\n",
    "Stride , s = 1 <br>\n",
    "Padding, P = 0 <br>\n",
    "The formula for the number of outputs to the next layer of conv2d is: O = { (W - k + 2*P)/s } + 1"
   ]
  },
  {
   "cell_type": "code",
   "execution_count": 31,
   "metadata": {},
   "outputs": [],
   "source": [
    "class ConvNet(nn.Module):\n",
    "    \n",
    "    def __init__(self):\n",
    "        super().__init__()\n",
    "        a = 64 \n",
    "        b = 128 \n",
    "        c = 256 \n",
    "        \n",
    "        d = 1024\n",
    "        e = 2048\n",
    "        \n",
    "        self.conv1 = nn.Conv2d(3, a, 3)\n",
    "        self.conv2 = nn.Conv2d(a, b, 3)\n",
    "        self.conv3 = nn.Conv2d(b, c, 3)\n",
    "        \n",
    "        self.fc1 = nn.Linear(3*7*c, d) \n",
    "        self.fc2 = nn.Linear(d, e)\n",
    "        self.fc3 = nn.Linear(e, 2)\n",
    "    \n",
    "    def forward(self, x):\n",
    "        x = F.max_pool2d(F.relu(self.conv1(x)), (2, 2))\n",
    "        x = F.max_pool2d(F.relu(self.conv2(x)), (2, 2))\n",
    "        x = F.max_pool2d(F.relu(self.conv3(x)), (2, 2))\n",
    "        \n",
    "        x = x.view(x.size(0), -1)\n",
    "        x = F.relu(self.fc1(x))\n",
    "        x = F.relu(self.fc2(x))\n",
    "        x = F.dropout(x, 0.5)\n",
    "        x = self.fc3(x)\n",
    "        return x"
   ]
  },
  {
   "cell_type": "code",
   "execution_count": 32,
   "metadata": {},
   "outputs": [],
   "source": [
    "net = ConvNet()"
   ]
  },
  {
   "cell_type": "code",
   "execution_count": 33,
   "metadata": {},
   "outputs": [],
   "source": [
    "if torch.cuda.is_available():\n",
    "    net.cuda()"
   ]
  },
  {
   "cell_type": "code",
   "execution_count": 34,
   "metadata": {},
   "outputs": [
    {
     "name": "stdout",
     "output_type": "stream",
     "text": [
      "ConvNet(\n",
      "  (conv1): Conv2d(3, 64, kernel_size=(3, 3), stride=(1, 1))\n",
      "  (conv2): Conv2d(64, 128, kernel_size=(3, 3), stride=(1, 1))\n",
      "  (conv3): Conv2d(128, 256, kernel_size=(3, 3), stride=(1, 1))\n",
      "  (fc1): Linear(in_features=5376, out_features=1024, bias=True)\n",
      "  (fc2): Linear(in_features=1024, out_features=2048, bias=True)\n",
      "  (fc3): Linear(in_features=2048, out_features=2, bias=True)\n",
      ")\n"
     ]
    }
   ],
   "source": [
    "print(net)"
   ]
  },
  {
   "cell_type": "code",
   "execution_count": 35,
   "metadata": {},
   "outputs": [],
   "source": [
    "optimizer = optim.Adam(net.parameters(), lr=0.001)"
   ]
  },
  {
   "cell_type": "code",
   "execution_count": 36,
   "metadata": {},
   "outputs": [],
   "source": [
    "loss_function = nn.CrossEntropyLoss()"
   ]
  },
  {
   "cell_type": "markdown",
   "metadata": {},
   "source": [
    "##### Instantiating the data"
   ]
  },
  {
   "cell_type": "code",
   "execution_count": 37,
   "metadata": {},
   "outputs": [],
   "source": [
    "class CarTrain():\n",
    "    \n",
    "    def __init__(self):\n",
    "        self.len = x_train.shape[0]\n",
    "        self.x_train = x_train\n",
    "        self.y_train = y_train\n",
    "        \n",
    "    def __getitem__(self, index):\n",
    "        return x_train[index], y_train[index] \n",
    "    \n",
    "    def __len__(self):\n",
    "        return self.len"
   ]
  },
  {
   "cell_type": "code",
   "execution_count": 38,
   "metadata": {},
   "outputs": [],
   "source": [
    "class CarTest():\n",
    "    \n",
    "    def __init__(self):\n",
    "        self.len = x_test.shape[0]\n",
    "        self.x_test = x_test\n",
    "        self.y_test = y_test\n",
    "        \n",
    "    def __getitem__(self, index):\n",
    "        return x_test[index], y_test[index] \n",
    "    \n",
    "    def __len__(self):\n",
    "        return self.len"
   ]
  },
  {
   "cell_type": "markdown",
   "metadata": {},
   "source": [
    "##### Making instances of the data"
   ]
  },
  {
   "cell_type": "code",
   "execution_count": 39,
   "metadata": {},
   "outputs": [],
   "source": [
    "train = CarTrain()\n",
    "test = CarTest()"
   ]
  },
  {
   "cell_type": "markdown",
   "metadata": {},
   "source": [
    "##### Making data iterator"
   ]
  },
  {
   "cell_type": "code",
   "execution_count": 40,
   "metadata": {},
   "outputs": [],
   "source": [
    "train_loader = DataLoader(dataset=train, batch_size=64, shuffle=True)\n",
    "test_loader = DataLoader(dataset=test, batch_size=64, shuffle=True)"
   ]
  },
  {
   "cell_type": "markdown",
   "metadata": {},
   "source": [
    "##### Training the model"
   ]
  },
  {
   "cell_type": "code",
   "execution_count": 41,
   "metadata": {},
   "outputs": [
    {
     "name": "stdout",
     "output_type": "stream",
     "text": [
      "[Epoch: 1/100]  [Training Loss: 0.705]  [Test Loss: 0.692]  [Test Accuracy: 0.503]\n",
      "[Epoch: 2/100]  [Training Loss: 0.694]  [Test Loss: 0.693]  [Test Accuracy: 0.510]\n",
      "[Epoch: 3/100]  [Training Loss: 0.693]  [Test Loss: 0.693]  [Test Accuracy: 0.508]\n",
      "[Epoch: 4/100]  [Training Loss: 0.693]  [Test Loss: 0.693]  [Test Accuracy: 0.486]\n",
      "[Epoch: 5/100]  [Training Loss: 0.693]  [Test Loss: 0.694]  [Test Accuracy: 0.502]\n",
      "[Epoch: 6/100]  [Training Loss: 0.694]  [Test Loss: 0.693]  [Test Accuracy: 0.492]\n",
      "[Epoch: 7/100]  [Training Loss: 0.693]  [Test Loss: 0.693]  [Test Accuracy: 0.516]\n",
      "[Epoch: 8/100]  [Training Loss: 0.692]  [Test Loss: 0.693]  [Test Accuracy: 0.508]\n",
      "[Epoch: 9/100]  [Training Loss: 0.688]  [Test Loss: 0.690]  [Test Accuracy: 0.524]\n",
      "[Epoch: 10/100]  [Training Loss: 0.691]  [Test Loss: 0.693]  [Test Accuracy: 0.509]\n",
      "[Epoch: 11/100]  [Training Loss: 0.688]  [Test Loss: 0.690]  [Test Accuracy: 0.508]\n",
      "[Epoch: 12/100]  [Training Loss: 0.688]  [Test Loss: 0.690]  [Test Accuracy: 0.517]\n",
      "[Epoch: 13/100]  [Training Loss: 0.684]  [Test Loss: 0.687]  [Test Accuracy: 0.547]\n",
      "[Epoch: 14/100]  [Training Loss: 0.682]  [Test Loss: 0.685]  [Test Accuracy: 0.532]\n",
      "[Epoch: 15/100]  [Training Loss: 0.676]  [Test Loss: 0.672]  [Test Accuracy: 0.576]\n",
      "[Epoch: 16/100]  [Training Loss: 0.674]  [Test Loss: 0.691]  [Test Accuracy: 0.542]\n",
      "[Epoch: 17/100]  [Training Loss: 0.670]  [Test Loss: 0.662]  [Test Accuracy: 0.586]\n",
      "[Epoch: 18/100]  [Training Loss: 0.657]  [Test Loss: 0.663]  [Test Accuracy: 0.596]\n",
      "[Epoch: 19/100]  [Training Loss: 0.639]  [Test Loss: 0.653]  [Test Accuracy: 0.601]\n",
      "[Epoch: 20/100]  [Training Loss: 0.611]  [Test Loss: 0.655]  [Test Accuracy: 0.624]\n",
      "[Epoch: 21/100]  [Training Loss: 0.599]  [Test Loss: 0.658]  [Test Accuracy: 0.622]\n",
      "[Epoch: 22/100]  [Training Loss: 0.578]  [Test Loss: 0.628]  [Test Accuracy: 0.627]\n",
      "[Epoch: 23/100]  [Training Loss: 0.546]  [Test Loss: 0.613]  [Test Accuracy: 0.652]\n",
      "[Epoch: 24/100]  [Training Loss: 0.511]  [Test Loss: 0.651]  [Test Accuracy: 0.653]\n",
      "[Epoch: 25/100]  [Training Loss: 0.483]  [Test Loss: 0.653]  [Test Accuracy: 0.654]\n",
      "[Epoch: 26/100]  [Training Loss: 0.448]  [Test Loss: 0.757]  [Test Accuracy: 0.666]\n",
      "[Epoch: 27/100]  [Training Loss: 0.411]  [Test Loss: 0.744]  [Test Accuracy: 0.670]\n",
      "[Epoch: 28/100]  [Training Loss: 0.386]  [Test Loss: 0.817]  [Test Accuracy: 0.668]\n",
      "[Epoch: 29/100]  [Training Loss: 0.388]  [Test Loss: 0.838]  [Test Accuracy: 0.682]\n",
      "[Epoch: 30/100]  [Training Loss: 0.341]  [Test Loss: 0.942]  [Test Accuracy: 0.681]\n",
      "[Epoch: 31/100]  [Training Loss: 0.293]  [Test Loss: 0.963]  [Test Accuracy: 0.665]\n",
      "[Epoch: 32/100]  [Training Loss: 0.275]  [Test Loss: 1.039]  [Test Accuracy: 0.686]\n",
      "[Epoch: 33/100]  [Training Loss: 0.269]  [Test Loss: 1.049]  [Test Accuracy: 0.670]\n",
      "[Epoch: 34/100]  [Training Loss: 0.242]  [Test Loss: 1.092]  [Test Accuracy: 0.683]\n",
      "[Epoch: 35/100]  [Training Loss: 0.222]  [Test Loss: 1.187]  [Test Accuracy: 0.695]\n",
      "[Epoch: 36/100]  [Training Loss: 0.212]  [Test Loss: 1.150]  [Test Accuracy: 0.710]\n",
      "[Epoch: 37/100]  [Training Loss: 0.185]  [Test Loss: 1.355]  [Test Accuracy: 0.707]\n",
      "[Epoch: 38/100]  [Training Loss: 0.162]  [Test Loss: 1.402]  [Test Accuracy: 0.693]\n",
      "[Epoch: 39/100]  [Training Loss: 0.153]  [Test Loss: 1.562]  [Test Accuracy: 0.695]\n",
      "[Epoch: 40/100]  [Training Loss: 0.186]  [Test Loss: 1.374]  [Test Accuracy: 0.699]\n",
      "[Epoch: 41/100]  [Training Loss: 0.136]  [Test Loss: 1.452]  [Test Accuracy: 0.710]\n",
      "[Epoch: 42/100]  [Training Loss: 0.096]  [Test Loss: 1.688]  [Test Accuracy: 0.727]\n",
      "[Epoch: 43/100]  [Training Loss: 0.097]  [Test Loss: 1.740]  [Test Accuracy: 0.711]\n",
      "[Epoch: 44/100]  [Training Loss: 0.099]  [Test Loss: 1.791]  [Test Accuracy: 0.715]\n",
      "[Epoch: 45/100]  [Training Loss: 0.109]  [Test Loss: 1.839]  [Test Accuracy: 0.715]\n",
      "[Epoch: 46/100]  [Training Loss: 0.102]  [Test Loss: 1.968]  [Test Accuracy: 0.724]\n",
      "[Epoch: 47/100]  [Training Loss: 0.088]  [Test Loss: 1.980]  [Test Accuracy: 0.724]\n",
      "[Epoch: 48/100]  [Training Loss: 0.072]  [Test Loss: 2.161]  [Test Accuracy: 0.735]\n",
      "[Epoch: 49/100]  [Training Loss: 0.052]  [Test Loss: 2.196]  [Test Accuracy: 0.733]\n",
      "[Epoch: 50/100]  [Training Loss: 0.076]  [Test Loss: 2.102]  [Test Accuracy: 0.719]\n",
      "[Epoch: 51/100]  [Training Loss: 0.075]  [Test Loss: 2.157]  [Test Accuracy: 0.712]\n",
      "[Epoch: 52/100]  [Training Loss: 0.078]  [Test Loss: 2.196]  [Test Accuracy: 0.724]\n",
      "[Epoch: 53/100]  [Training Loss: 0.075]  [Test Loss: 2.195]  [Test Accuracy: 0.726]\n",
      "[Epoch: 54/100]  [Training Loss: 0.104]  [Test Loss: 1.953]  [Test Accuracy: 0.725]\n",
      "[Epoch: 55/100]  [Training Loss: 0.074]  [Test Loss: 2.087]  [Test Accuracy: 0.731]\n",
      "[Epoch: 56/100]  [Training Loss: 0.044]  [Test Loss: 2.232]  [Test Accuracy: 0.731]\n",
      "[Epoch: 57/100]  [Training Loss: 0.028]  [Test Loss: 2.331]  [Test Accuracy: 0.739]\n",
      "[Epoch: 58/100]  [Training Loss: 0.025]  [Test Loss: 2.519]  [Test Accuracy: 0.742]\n",
      "[Epoch: 59/100]  [Training Loss: 0.016]  [Test Loss: 2.701]  [Test Accuracy: 0.735]\n",
      "[Epoch: 60/100]  [Training Loss: 0.014]  [Test Loss: 2.833]  [Test Accuracy: 0.740]\n",
      "[Epoch: 61/100]  [Training Loss: 0.015]  [Test Loss: 2.921]  [Test Accuracy: 0.748]\n",
      "[Epoch: 62/100]  [Training Loss: 0.042]  [Test Loss: 2.693]  [Test Accuracy: 0.715]\n",
      "[Epoch: 63/100]  [Training Loss: 0.089]  [Test Loss: 2.389]  [Test Accuracy: 0.713]\n",
      "[Epoch: 64/100]  [Training Loss: 0.076]  [Test Loss: 2.269]  [Test Accuracy: 0.722]\n",
      "[Epoch: 65/100]  [Training Loss: 0.055]  [Test Loss: 2.266]  [Test Accuracy: 0.729]\n",
      "[Epoch: 66/100]  [Training Loss: 0.031]  [Test Loss: 2.479]  [Test Accuracy: 0.731]\n",
      "[Epoch: 67/100]  [Training Loss: 0.020]  [Test Loss: 2.621]  [Test Accuracy: 0.732]\n",
      "[Epoch: 68/100]  [Training Loss: 0.049]  [Test Loss: 2.486]  [Test Accuracy: 0.708]\n",
      "[Epoch: 69/100]  [Training Loss: 0.044]  [Test Loss: 2.189]  [Test Accuracy: 0.735]\n",
      "[Epoch: 70/100]  [Training Loss: 0.045]  [Test Loss: 2.196]  [Test Accuracy: 0.733]\n",
      "[Epoch: 71/100]  [Training Loss: 0.030]  [Test Loss: 2.541]  [Test Accuracy: 0.723]\n",
      "[Epoch: 72/100]  [Training Loss: 0.041]  [Test Loss: 2.266]  [Test Accuracy: 0.735]\n",
      "[Epoch: 73/100]  [Training Loss: 0.025]  [Test Loss: 2.717]  [Test Accuracy: 0.733]\n",
      "[Epoch: 74/100]  [Training Loss: 0.051]  [Test Loss: 2.374]  [Test Accuracy: 0.723]\n",
      "[Epoch: 75/100]  [Training Loss: 0.030]  [Test Loss: 2.558]  [Test Accuracy: 0.735]\n",
      "[Epoch: 76/100]  [Training Loss: 0.011]  [Test Loss: 2.764]  [Test Accuracy: 0.726]\n",
      "[Epoch: 77/100]  [Training Loss: 0.010]  [Test Loss: 2.766]  [Test Accuracy: 0.735]\n",
      "[Epoch: 78/100]  [Training Loss: 0.005]  [Test Loss: 2.833]  [Test Accuracy: 0.727]\n",
      "[Epoch: 79/100]  [Training Loss: 0.005]  [Test Loss: 3.201]  [Test Accuracy: 0.733]\n",
      "[Epoch: 80/100]  [Training Loss: 0.012]  [Test Loss: 3.093]  [Test Accuracy: 0.730]\n",
      "[Epoch: 81/100]  [Training Loss: 0.005]  [Test Loss: 3.225]  [Test Accuracy: 0.734]\n",
      "[Epoch: 82/100]  [Training Loss: 0.008]  [Test Loss: 3.280]  [Test Accuracy: 0.734]\n",
      "[Epoch: 83/100]  [Training Loss: 0.214]  [Test Loss: 1.391]  [Test Accuracy: 0.652]\n",
      "[Epoch: 84/100]  [Training Loss: 0.161]  [Test Loss: 1.826]  [Test Accuracy: 0.722]\n",
      "[Epoch: 85/100]  [Training Loss: 0.040]  [Test Loss: 2.001]  [Test Accuracy: 0.732]\n",
      "[Epoch: 86/100]  [Training Loss: 0.019]  [Test Loss: 2.458]  [Test Accuracy: 0.743]\n",
      "[Epoch: 87/100]  [Training Loss: 0.007]  [Test Loss: 2.771]  [Test Accuracy: 0.734]\n",
      "[Epoch: 88/100]  [Training Loss: 0.003]  [Test Loss: 2.952]  [Test Accuracy: 0.735]\n",
      "[Epoch: 89/100]  [Training Loss: 0.001]  [Test Loss: 3.063]  [Test Accuracy: 0.732]\n",
      "[Epoch: 90/100]  [Training Loss: 0.001]  [Test Loss: 3.180]  [Test Accuracy: 0.736]\n",
      "[Epoch: 91/100]  [Training Loss: 0.001]  [Test Loss: 3.324]  [Test Accuracy: 0.738]\n",
      "[Epoch: 92/100]  [Training Loss: 0.001]  [Test Loss: 3.345]  [Test Accuracy: 0.735]\n",
      "[Epoch: 93/100]  [Training Loss: 0.000]  [Test Loss: 3.505]  [Test Accuracy: 0.738]\n",
      "[Epoch: 94/100]  [Training Loss: 0.000]  [Test Loss: 3.555]  [Test Accuracy: 0.733]\n",
      "[Epoch: 95/100]  [Training Loss: 0.000]  [Test Loss: 3.612]  [Test Accuracy: 0.729]\n",
      "[Epoch: 96/100]  [Training Loss: 0.000]  [Test Loss: 3.607]  [Test Accuracy: 0.738]\n",
      "[Epoch: 97/100]  [Training Loss: 0.000]  [Test Loss: 3.766]  [Test Accuracy: 0.733]\n",
      "[Epoch: 98/100]  [Training Loss: 0.000]  [Test Loss: 3.761]  [Test Accuracy: 0.735]\n"
     ]
    },
    {
     "name": "stdout",
     "output_type": "stream",
     "text": [
      "[Epoch: 99/100]  [Training Loss: 0.000]  [Test Loss: 3.828]  [Test Accuracy: 0.732]\n",
      "[Epoch: 100/100]  [Training Loss: 0.000]  [Test Loss: 3.877]  [Test Accuracy: 0.735]\n"
     ]
    }
   ],
   "source": [
    "epochs = 100\n",
    "steps = 0\n",
    "train_losses, test_losses = [], []\n",
    "for e in range(epochs):\n",
    "    running_loss = 0\n",
    "    net.train()\n",
    "    for images, labels in train_loader:   \n",
    "        if torch.cuda.is_available():\n",
    "            images, labels = images.cuda(), labels.cuda()     \n",
    "        optimizer.zero_grad()\n",
    "        log_ps = net(images)\n",
    "        loss = loss_function(log_ps, labels)\n",
    "        loss.backward()\n",
    "        optimizer.step()        \n",
    "        running_loss += loss.item()        \n",
    "    else:\n",
    "        test_loss = 0\n",
    "        accuracy = 0        \n",
    "        net.eval()\n",
    "        with torch.no_grad():\n",
    "            for images, labels in test_loader:\n",
    "                if torch.cuda.is_available():\n",
    "                    images, labels = images.cuda(), labels.cuda()\n",
    "                log_ps = net(images)\n",
    "                test_loss += loss_function(log_ps, labels)                \n",
    "                # ps = torch.exp(log_ps)\n",
    "                top_p, top_class = log_ps.topk(1, dim=1)\n",
    "                equals = top_class.long() == labels.long().view(*top_class.shape)\n",
    "                accuracy += torch.mean(equals.type(torch.FloatTensor))                \n",
    "        train_losses.append(running_loss/len(train_loader))\n",
    "        test_losses.append(test_loss/len(test_loader))\n",
    "        print(\"[Epoch: {}/{}] \".format(e+1, epochs),\n",
    "              \"[Training Loss: {:.3f}] \".format(running_loss/len(train_loader)),\n",
    "              \"[Test Loss: {:.3f}] \".format(test_loss/len(test_loader)),\n",
    "              \"[Test Accuracy: {:.3f}]\".format(accuracy/len(test_loader)))"
   ]
  }
 ],
 "metadata": {
  "kernelspec": {
   "display_name": "Python 3",
   "language": "python",
   "name": "python3"
  },
  "language_info": {
   "codemirror_mode": {
    "name": "ipython",
    "version": 3
   },
   "file_extension": ".py",
   "mimetype": "text/x-python",
   "name": "python",
   "nbconvert_exporter": "python",
   "pygments_lexer": "ipython3",
   "version": "3.6.9"
  }
 },
 "nbformat": 4,
 "nbformat_minor": 4
}
