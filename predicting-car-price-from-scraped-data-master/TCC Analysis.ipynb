{
 "cells": [
  {
   "cell_type": "markdown",
   "metadata": {},
   "source": [
    "# Tensorflow : classifying cars and predicting their price"
   ]
  },
  {
   "cell_type": "markdown",
   "metadata": {},
   "source": [
    "##### Importing libraries"
   ]
  },
  {
   "cell_type": "code",
   "execution_count": 3,
   "metadata": {},
   "outputs": [],
   "source": [
    "import pandas as pd\n",
    "import tensorflow as tf\n",
    "from tensorflow.keras import backend\n",
    "import keras\n",
    "import matplotlib.pyplot as plt\n",
    "%matplotlib inline\n",
    "import seaborn as sns\n",
    "sns.set()\n",
    "from sklearn.preprocessing import OrdinalEncoder, MinMaxScaler, StandardScaler\n",
    "from sklearn.model_selection import train_test_split, GridSearchCV, RandomizedSearchCV\n",
    "from sklearn.ensemble import RandomForestRegressor\n",
    "from sklearn.linear_model import LinearRegression, Ridge\n",
    "from sklearn.metrics import mean_absolute_error, confusion_matrix\n",
    "from tensorflow.keras.layers import Dense, Dropout\n",
    "from tensorflow.keras.models import Sequential\n",
    "from keras.models import load_model\n",
    "from tensorflow.keras.callbacks import EarlyStopping\n",
    "import numpy as np"
   ]
  },
  {
   "cell_type": "markdown",
   "metadata": {},
   "source": [
    "##### Importing the data"
   ]
  },
  {
   "cell_type": "code",
   "execution_count": 4,
   "metadata": {},
   "outputs": [],
   "source": [
    "data = pd.read_csv('C:/Users/Nicolas/Documents/Scraping/thecarconnection/full_dataset.csv', \n",
    "                 index_col=0).sample(frac=1, random_state=42).reset_index(drop=True)\n",
    "dataset = data.copy()"
   ]
  },
  {
   "cell_type": "markdown",
   "metadata": {},
   "source": [
    "Taking a peek at the data"
   ]
  },
  {
   "cell_type": "code",
   "execution_count": 6,
   "metadata": {},
   "outputs": [
    {
     "data": {
      "text/html": [
       "<div>\n",
       "<style scoped>\n",
       "    .dataframe tbody tr th:only-of-type {\n",
       "        vertical-align: middle;\n",
       "    }\n",
       "\n",
       "    .dataframe tbody tr th {\n",
       "        vertical-align: top;\n",
       "    }\n",
       "\n",
       "    .dataframe thead th {\n",
       "        text-align: right;\n",
       "    }\n",
       "</style>\n",
       "<table border=\"1\" class=\"dataframe\">\n",
       "  <thead>\n",
       "    <tr style=\"text-align: right;\">\n",
       "      <th></th>\n",
       "      <th>MSRP</th>\n",
       "      <th>Make</th>\n",
       "      <th>Model</th>\n",
       "      <th>Drivetrain</th>\n",
       "      <th>Passenger Capacity</th>\n",
       "      <th>Passenger Doors</th>\n",
       "      <th>EPA Classification</th>\n",
       "      <th>Front Shoulder Room (in)</th>\n",
       "      <th>Front Head Room (in)</th>\n",
       "      <th>Second Leg Room (in)</th>\n",
       "      <th>...</th>\n",
       "      <th>Rear Wheel Size</th>\n",
       "      <th>Front Wheel Size</th>\n",
       "      <th>Tire Rating</th>\n",
       "      <th>Tire Width Ratio</th>\n",
       "      <th>Wheel Size Ratio</th>\n",
       "      <th>Tire Ratio</th>\n",
       "      <th>Year</th>\n",
       "      <th>Country</th>\n",
       "      <th>Country Code</th>\n",
       "      <th>Category</th>\n",
       "    </tr>\n",
       "  </thead>\n",
       "  <tbody>\n",
       "    <tr>\n",
       "      <th>0</th>\n",
       "      <td>30034.0</td>\n",
       "      <td>GMC</td>\n",
       "      <td>Sierra 2500HD</td>\n",
       "      <td>Four Wheel Drive</td>\n",
       "      <td>6.0</td>\n",
       "      <td>2.0</td>\n",
       "      <td>None</td>\n",
       "      <td>65.2</td>\n",
       "      <td>41.0</td>\n",
       "      <td>33.7</td>\n",
       "      <td>...</td>\n",
       "      <td>16.0</td>\n",
       "      <td>16.0</td>\n",
       "      <td>R</td>\n",
       "      <td>1.0</td>\n",
       "      <td>1.0</td>\n",
       "      <td>7.0</td>\n",
       "      <td>2002.0</td>\n",
       "      <td>USA</td>\n",
       "      <td>6.0</td>\n",
       "      <td>Pickup</td>\n",
       "    </tr>\n",
       "    <tr>\n",
       "      <th>1</th>\n",
       "      <td>19515.0</td>\n",
       "      <td>Ford</td>\n",
       "      <td>Ranger</td>\n",
       "      <td>Rear Wheel Drive</td>\n",
       "      <td>5.0</td>\n",
       "      <td>2.0</td>\n",
       "      <td>None</td>\n",
       "      <td>54.5</td>\n",
       "      <td>39.2</td>\n",
       "      <td>39.1</td>\n",
       "      <td>...</td>\n",
       "      <td>15.0</td>\n",
       "      <td>15.0</td>\n",
       "      <td>R</td>\n",
       "      <td>1.0</td>\n",
       "      <td>1.0</td>\n",
       "      <td>7.0</td>\n",
       "      <td>2010.0</td>\n",
       "      <td>USA</td>\n",
       "      <td>6.0</td>\n",
       "      <td>Pickup</td>\n",
       "    </tr>\n",
       "    <tr>\n",
       "      <th>2</th>\n",
       "      <td>24595.0</td>\n",
       "      <td>Subaru</td>\n",
       "      <td>Outback</td>\n",
       "      <td>All Wheel Drive</td>\n",
       "      <td>5.0</td>\n",
       "      <td>4.0</td>\n",
       "      <td>Midsize Station Wagon</td>\n",
       "      <td>56.3</td>\n",
       "      <td>40.8</td>\n",
       "      <td>37.8</td>\n",
       "      <td>...</td>\n",
       "      <td>17.0</td>\n",
       "      <td>17.0</td>\n",
       "      <td>R</td>\n",
       "      <td>1.0</td>\n",
       "      <td>1.0</td>\n",
       "      <td>6.0</td>\n",
       "      <td>2010.0</td>\n",
       "      <td>Japan</td>\n",
       "      <td>2.0</td>\n",
       "      <td>Car</td>\n",
       "    </tr>\n",
       "    <tr>\n",
       "      <th>3</th>\n",
       "      <td>56600.0</td>\n",
       "      <td>Porsche</td>\n",
       "      <td>Cayenne</td>\n",
       "      <td>All Wheel Drive</td>\n",
       "      <td>5.0</td>\n",
       "      <td>4.0</td>\n",
       "      <td>None</td>\n",
       "      <td>58.9</td>\n",
       "      <td>39.6</td>\n",
       "      <td>36.0</td>\n",
       "      <td>...</td>\n",
       "      <td>18.0</td>\n",
       "      <td>18.0</td>\n",
       "      <td>V</td>\n",
       "      <td>1.0</td>\n",
       "      <td>1.0</td>\n",
       "      <td>5.0</td>\n",
       "      <td>2014.0</td>\n",
       "      <td>Germany</td>\n",
       "      <td>0.0</td>\n",
       "      <td>SUV</td>\n",
       "    </tr>\n",
       "    <tr>\n",
       "      <th>4</th>\n",
       "      <td>21795.0</td>\n",
       "      <td>Mazda</td>\n",
       "      <td>CX-5</td>\n",
       "      <td>Front Wheel Drive</td>\n",
       "      <td>5.0</td>\n",
       "      <td>4.0</td>\n",
       "      <td>Small SUV 2WD</td>\n",
       "      <td>57.5</td>\n",
       "      <td>40.1</td>\n",
       "      <td>39.3</td>\n",
       "      <td>...</td>\n",
       "      <td>17.0</td>\n",
       "      <td>17.0</td>\n",
       "      <td>H</td>\n",
       "      <td>1.0</td>\n",
       "      <td>1.0</td>\n",
       "      <td>6.0</td>\n",
       "      <td>2016.0</td>\n",
       "      <td>Japan</td>\n",
       "      <td>2.0</td>\n",
       "      <td>SUV</td>\n",
       "    </tr>\n",
       "  </tbody>\n",
       "</table>\n",
       "<p>5 rows × 79 columns</p>\n",
       "</div>"
      ],
      "text/plain": [
       "      MSRP     Make          Model         Drivetrain  Passenger Capacity  \\\n",
       "0  30034.0      GMC  Sierra 2500HD   Four Wheel Drive                 6.0   \n",
       "1  19515.0     Ford         Ranger   Rear Wheel Drive                 5.0   \n",
       "2  24595.0   Subaru        Outback    All Wheel Drive                 5.0   \n",
       "3  56600.0  Porsche        Cayenne    All Wheel Drive                 5.0   \n",
       "4  21795.0    Mazda           CX-5  Front Wheel Drive                 5.0   \n",
       "\n",
       "   Passenger Doors     EPA Classification  Front Shoulder Room (in)  \\\n",
       "0              2.0                   None                      65.2   \n",
       "1              2.0                   None                      54.5   \n",
       "2              4.0  Midsize Station Wagon                      56.3   \n",
       "3              4.0                   None                      58.9   \n",
       "4              4.0          Small SUV 2WD                      57.5   \n",
       "\n",
       "   Front Head Room (in)  Second Leg Room (in)  ...  Rear Wheel Size  \\\n",
       "0                  41.0                  33.7  ...             16.0   \n",
       "1                  39.2                  39.1  ...             15.0   \n",
       "2                  40.8                  37.8  ...             17.0   \n",
       "3                  39.6                  36.0  ...             18.0   \n",
       "4                  40.1                  39.3  ...             17.0   \n",
       "\n",
       "   Front Wheel Size  Tire Rating  Tire Width Ratio  Wheel Size Ratio  \\\n",
       "0              16.0            R               1.0               1.0   \n",
       "1              15.0            R               1.0               1.0   \n",
       "2              17.0            R               1.0               1.0   \n",
       "3              18.0            V               1.0               1.0   \n",
       "4              17.0            H               1.0               1.0   \n",
       "\n",
       "   Tire Ratio    Year  Country  Country Code Category  \n",
       "0         7.0  2002.0      USA           6.0   Pickup  \n",
       "1         7.0  2010.0      USA           6.0   Pickup  \n",
       "2         6.0  2010.0    Japan           2.0      Car  \n",
       "3         5.0  2014.0  Germany           0.0      SUV  \n",
       "4         6.0  2016.0    Japan           2.0      SUV  \n",
       "\n",
       "[5 rows x 79 columns]"
      ]
     },
     "execution_count": 6,
     "metadata": {},
     "output_type": "execute_result"
    }
   ],
   "source": [
    "data.drop(['Style Name', 'Body Style'], axis=1).head()"
   ]
  },
  {
   "cell_type": "code",
   "execution_count": 9,
   "metadata": {},
   "outputs": [
    {
     "data": {
      "text/plain": [
       "(31237, 81)"
      ]
     },
     "execution_count": 9,
     "metadata": {},
     "output_type": "execute_result"
    }
   ],
   "source": [
    "data.shape"
   ]
  },
  {
   "cell_type": "markdown",
   "metadata": {},
   "source": [
    "31,237 rows and 81 columns"
   ]
  },
  {
   "cell_type": "markdown",
   "metadata": {},
   "source": [
    "\n",
    "## Preprocessing"
   ]
  },
  {
   "cell_type": "markdown",
   "metadata": {},
   "source": [
    "##### Making sure the data is balanced"
   ]
  },
  {
   "cell_type": "code",
   "execution_count": 10,
   "metadata": {},
   "outputs": [
    {
     "data": {
      "text/plain": [
       "None             10555\n",
       "Compact           4089\n",
       "Midsize           3585\n",
       "SUV 4WD           2150\n",
       "Subcompact        1762\n",
       "Large             1626\n",
       "SUV 2WD           1285\n",
       "Small SUV 4WD     1258\n",
       "Name: EPA Classification, dtype: int64"
      ]
     },
     "execution_count": 10,
     "metadata": {},
     "output_type": "execute_result"
    }
   ],
   "source": [
    "data['EPA Classification'].value_counts().head(8)"
   ]
  },
  {
   "cell_type": "code",
   "execution_count": 11,
   "metadata": {},
   "outputs": [],
   "source": [
    "suv_awd = data.loc[data['EPA Classification'] == 'SUV 4WD'].sample(n=2000)\n",
    "midsized_car = data.loc[data['EPA Classification'] == 'Midsize'].sample(n=2000)\n",
    "compact_car = data.loc[data['EPA Classification'] == 'Compact'].sample(n=2000)"
   ]
  },
  {
   "cell_type": "code",
   "execution_count": 12,
   "metadata": {},
   "outputs": [],
   "source": [
    "df = pd.concat([suv_awd, compact_car, midsized_car], axis=0, sort=False).sample(frac=1)"
   ]
  },
  {
   "cell_type": "markdown",
   "metadata": {},
   "source": [
    "##### Double checking the balanced data"
   ]
  },
  {
   "cell_type": "code",
   "execution_count": 13,
   "metadata": {
    "scrolled": true
   },
   "outputs": [
    {
     "data": {
      "text/plain": [
       "Midsize    2000\n",
       "SUV 4WD    2000\n",
       "Compact    2000\n",
       "Name: EPA Classification, dtype: int64"
      ]
     },
     "execution_count": 13,
     "metadata": {},
     "output_type": "execute_result"
    }
   ],
   "source": [
    "df['EPA Classification'].value_counts().head()"
   ]
  },
  {
   "cell_type": "code",
   "execution_count": 14,
   "metadata": {},
   "outputs": [
    {
     "data": {
      "text/plain": [
       "Text(0.5, 1.0, 'Pie Chart of Car Types')"
      ]
     },
     "execution_count": 14,
     "metadata": {},
     "output_type": "execute_result"
    },
    {
     "data": {
      "image/png": "[encoded data removed]",
      "text/plain": [
       "<Figure size 432x288 with 1 Axes>"
      ]
     },
     "metadata": {},
     "output_type": "display_data"
    }
   ],
   "source": [
    "df['EPA Classification'].value_counts().head().plot(kind='pie', cmap='coolwarm')\n",
    "plt.title('Pie Chart of Car Types')"
   ]
  },
  {
   "cell_type": "markdown",
   "metadata": {},
   "source": [
    "##### Separating the `x` and `y`"
   ]
  },
  {
   "cell_type": "code",
   "execution_count": 16,
   "metadata": {},
   "outputs": [],
   "source": [
    "x = df.loc[:, ['Drivetrain', 'Passenger Capacity', 'Passenger Doors', 'Body Style',\n",
    "       'EPA Classification', 'Front Shoulder Room (in)',\n",
    "       'Front Head Room (in)', 'Second Leg Room (in)', 'Front Leg Room (in)',\n",
    "       'Second Shoulder Room (in)', 'Second Head Room (in)',\n",
    "       'Height, Overall (in)', 'Wheelbase (in)', 'Width, Max w/o mirrors (in)',\n",
    "       'Fuel Tank Capacity, Approx (gal)', 'EPA Fuel Economy Est - Hwy (MPG)',\n",
    "       'EPA Fuel Economy Est - City (MPG)', 'Fuel System',\n",
    "       'Third Gear Ratio (:1)', 'First Gear Ratio (:1)',\n",
    "       'Fourth Gear Ratio (:1)', 'Second Gear Ratio (:1)',\n",
    "       'Front Brake Rotor Diam x Thickness (in)',\n",
    "       'Rear Brake Rotor Diam x Thickness (in)', 'Steering Type',\n",
    "       'Turning Diameter - Curb to Curb', 'Rear Wheel Material',\n",
    "       'Suspension Type - Front', 'Air Bag-Frontal-Driver',\n",
    "       'Air Bag-Frontal-Passenger', 'Air Bag-Passenger Switch (On/Off)',\n",
    "       'Air Bag-Side Body-Front', 'Air Bag-Side Body-Rear',\n",
    "       'Air Bag-Side Head-Front', 'Air Bag-Side Head-Rear', 'Brakes-ABS',\n",
    "       'Child Safety Rear Door Locks', 'Daytime Running Lights',\n",
    "       'Traction Control', 'Night Vision', 'Rollover Protection Bars',\n",
    "       'Fog Lamps', 'Parking Aid', 'Tire Pressure Monitor', 'Back-Up Camera',\n",
    "       'Stability Control', 'Other Features', 'Basic Miles/km', 'Basic Years',\n",
    "       'Corrosion Miles/km', 'Corrosion Years', 'Drivetrain Miles/km',\n",
    "       'Drivetrain Years', 'Roadside Assistance Miles/km',\n",
    "       'Roadside Assistance Years', 'Hybrid Engine', 'Gears', 'Net Horsepower',\n",
    "       'Net Horsepower RPM', 'Net Torque', 'Net Torque RPM', 'Cylinders',\n",
    "       'Engine Configuration', 'Displacement (L)', 'Displacement (cc)',\n",
    "       'Rear Tire Width', 'Front Tire Width', 'Rear Wheel Size',\n",
    "       'Front Wheel Size', 'Tire Rating', 'Tire Width Ratio',\n",
    "       'Wheel Size Ratio', 'Tire Ratio', 'Year', 'Country',\n",
    "       'Category']]"
   ]
  },
  {
   "cell_type": "markdown",
   "metadata": {},
   "source": [
    "Putting the target in neural network friendly format"
   ]
  },
  {
   "cell_type": "code",
   "execution_count": 19,
   "metadata": {},
   "outputs": [],
   "source": [
    "y = OrdinalEncoder().fit_transform(np.array(df['EPA Classification']).reshape(-1, 1))\n",
    "y = keras.utils.to_categorical(y, 3)"
   ]
  },
  {
   "cell_type": "code",
   "execution_count": 20,
   "metadata": {},
   "outputs": [
    {
     "data": {
      "text/plain": [
       "array([[0., 0., 1.],\n",
       "       [0., 0., 1.],\n",
       "       [0., 1., 0.],\n",
       "       [0., 0., 1.],\n",
       "       [0., 1., 0.],\n",
       "       [0., 1., 0.],\n",
       "       [0., 0., 1.],\n",
       "       [0., 1., 0.],\n",
       "       [1., 0., 0.],\n",
       "       [0., 1., 0.]], dtype=float32)"
      ]
     },
     "execution_count": 20,
     "metadata": {},
     "output_type": "execute_result"
    }
   ],
   "source": [
    "y[:10]"
   ]
  },
  {
   "cell_type": "markdown",
   "metadata": {},
   "source": [
    "##### One hot encoding certain variables"
   ]
  },
  {
   "cell_type": "code",
   "execution_count": 21,
   "metadata": {},
   "outputs": [],
   "source": [
    "specs_to_dummies = ['Drivetrain', 'Fuel System', 'Steering Type', 'Rear Wheel Material',\n",
    "                   'Suspension Type - Front', 'Engine Configuration', 'Tire Rating', 'Country',\n",
    "                   'Category']\n",
    "\n",
    "for item in specs_to_dummies:\n",
    "    dummies = pd.get_dummies(x[item], prefix_sep=': ', prefix=item)\n",
    "    x = x.drop(item, axis=1)\n",
    "    x = pd.concat([x, dummies], sort=False, axis=1)\n",
    "x = x.reset_index(drop=True)\n",
    "\n",
    "specs_to_one_two = ['Air Bag-Frontal-Driver', 'Air Bag-Frontal-Passenger', 'Air Bag-Passenger Switch (On/Off)',\n",
    "       'Air Bag-Side Body-Front', 'Air Bag-Side Body-Rear', 'Air Bag-Side Head-Front', 'Air Bag-Side Head-Rear', \n",
    "       'Brakes-ABS', 'Child Safety Rear Door Locks', 'Daytime Running Lights',\n",
    "       'Traction Control', 'Night Vision', 'Rollover Protection Bars',\n",
    "       'Fog Lamps', 'Parking Aid', 'Tire Pressure Monitor', 'Back-Up Camera',\n",
    "       'Stability Control']\n",
    "\n",
    "for item in specs_to_one_two:\n",
    "    dummies = pd.get_dummies(x[item], prefix_sep=': ', prefix=item, drop_first=True)\n",
    "    x = x.drop(item, axis=1)\n",
    "    x = pd.concat([x, dummies], sort=False, axis=1)\n",
    "x = x.reset_index(drop=True)\n",
    "\n",
    "x.drop(['Body Style', 'EPA Classification', 'Other Features'], axis=1, inplace=True)"
   ]
  },
  {
   "cell_type": "markdown",
   "metadata": {},
   "source": [
    "Checking what it looks like now..."
   ]
  },
  {
   "cell_type": "code",
   "execution_count": 22,
   "metadata": {},
   "outputs": [
    {
     "data": {
      "text/html": [
       "<div>\n",
       "<style scoped>\n",
       "    .dataframe tbody tr th:only-of-type {\n",
       "        vertical-align: middle;\n",
       "    }\n",
       "\n",
       "    .dataframe tbody tr th {\n",
       "        vertical-align: top;\n",
       "    }\n",
       "\n",
       "    .dataframe thead th {\n",
       "        text-align: right;\n",
       "    }\n",
       "</style>\n",
       "<table border=\"1\" class=\"dataframe\">\n",
       "  <thead>\n",
       "    <tr style=\"text-align: right;\">\n",
       "      <th></th>\n",
       "      <th>Passenger Capacity</th>\n",
       "      <th>Passenger Doors</th>\n",
       "      <th>Front Shoulder Room (in)</th>\n",
       "      <th>Front Head Room (in)</th>\n",
       "      <th>Second Leg Room (in)</th>\n",
       "      <th>Front Leg Room (in)</th>\n",
       "      <th>Second Shoulder Room (in)</th>\n",
       "      <th>Second Head Room (in)</th>\n",
       "      <th>Height, Overall (in)</th>\n",
       "      <th>Wheelbase (in)</th>\n",
       "      <th>...</th>\n",
       "      <th>Child Safety Rear Door Locks: Yes</th>\n",
       "      <th>Daytime Running Lights: Yes</th>\n",
       "      <th>Traction Control: Yes</th>\n",
       "      <th>Night Vision: Yes</th>\n",
       "      <th>Rollover Protection Bars: Yes</th>\n",
       "      <th>Fog Lamps: Yes</th>\n",
       "      <th>Parking Aid: Yes</th>\n",
       "      <th>Tire Pressure Monitor: Yes</th>\n",
       "      <th>Back-Up Camera: Yes</th>\n",
       "      <th>Stability Control: Yes</th>\n",
       "    </tr>\n",
       "  </thead>\n",
       "  <tbody>\n",
       "    <tr>\n",
       "      <th>0</th>\n",
       "      <td>7.0</td>\n",
       "      <td>4.0</td>\n",
       "      <td>58.6</td>\n",
       "      <td>40.1</td>\n",
       "      <td>41.8</td>\n",
       "      <td>41.3</td>\n",
       "      <td>58.1</td>\n",
       "      <td>39.0</td>\n",
       "      <td>67.4</td>\n",
       "      <td>117.9</td>\n",
       "      <td>...</td>\n",
       "      <td>1</td>\n",
       "      <td>0</td>\n",
       "      <td>1</td>\n",
       "      <td>0</td>\n",
       "      <td>0</td>\n",
       "      <td>1</td>\n",
       "      <td>1</td>\n",
       "      <td>1</td>\n",
       "      <td>1</td>\n",
       "      <td>1</td>\n",
       "    </tr>\n",
       "    <tr>\n",
       "      <th>1</th>\n",
       "      <td>5.0</td>\n",
       "      <td>4.0</td>\n",
       "      <td>58.9</td>\n",
       "      <td>39.7</td>\n",
       "      <td>36.1</td>\n",
       "      <td>42.6</td>\n",
       "      <td>58.4</td>\n",
       "      <td>39.5</td>\n",
       "      <td>71.3</td>\n",
       "      <td>106.7</td>\n",
       "      <td>...</td>\n",
       "      <td>1</td>\n",
       "      <td>0</td>\n",
       "      <td>0</td>\n",
       "      <td>0</td>\n",
       "      <td>0</td>\n",
       "      <td>0</td>\n",
       "      <td>0</td>\n",
       "      <td>0</td>\n",
       "      <td>0</td>\n",
       "      <td>0</td>\n",
       "    </tr>\n",
       "    <tr>\n",
       "      <th>2</th>\n",
       "      <td>5.0</td>\n",
       "      <td>4.0</td>\n",
       "      <td>56.2</td>\n",
       "      <td>40.3</td>\n",
       "      <td>35.7</td>\n",
       "      <td>42.2</td>\n",
       "      <td>55.3</td>\n",
       "      <td>37.3</td>\n",
       "      <td>56.5</td>\n",
       "      <td>106.3</td>\n",
       "      <td>...</td>\n",
       "      <td>1</td>\n",
       "      <td>1</td>\n",
       "      <td>1</td>\n",
       "      <td>0</td>\n",
       "      <td>0</td>\n",
       "      <td>0</td>\n",
       "      <td>0</td>\n",
       "      <td>1</td>\n",
       "      <td>1</td>\n",
       "      <td>1</td>\n",
       "    </tr>\n",
       "    <tr>\n",
       "      <th>3</th>\n",
       "      <td>7.0</td>\n",
       "      <td>4.0</td>\n",
       "      <td>61.5</td>\n",
       "      <td>41.4</td>\n",
       "      <td>39.5</td>\n",
       "      <td>42.9</td>\n",
       "      <td>61.0</td>\n",
       "      <td>40.6</td>\n",
       "      <td>70.0</td>\n",
       "      <td>112.8</td>\n",
       "      <td>...</td>\n",
       "      <td>1</td>\n",
       "      <td>1</td>\n",
       "      <td>1</td>\n",
       "      <td>0</td>\n",
       "      <td>0</td>\n",
       "      <td>1</td>\n",
       "      <td>0</td>\n",
       "      <td>1</td>\n",
       "      <td>1</td>\n",
       "      <td>1</td>\n",
       "    </tr>\n",
       "    <tr>\n",
       "      <th>4</th>\n",
       "      <td>5.0</td>\n",
       "      <td>4.0</td>\n",
       "      <td>57.3</td>\n",
       "      <td>37.7</td>\n",
       "      <td>36.0</td>\n",
       "      <td>41.5</td>\n",
       "      <td>57.2</td>\n",
       "      <td>37.0</td>\n",
       "      <td>58.3</td>\n",
       "      <td>113.7</td>\n",
       "      <td>...</td>\n",
       "      <td>0</td>\n",
       "      <td>1</td>\n",
       "      <td>1</td>\n",
       "      <td>0</td>\n",
       "      <td>0</td>\n",
       "      <td>1</td>\n",
       "      <td>0</td>\n",
       "      <td>1</td>\n",
       "      <td>0</td>\n",
       "      <td>1</td>\n",
       "    </tr>\n",
       "  </tbody>\n",
       "</table>\n",
       "<p>5 rows × 205 columns</p>\n",
       "</div>"
      ],
      "text/plain": [
       "   Passenger Capacity  Passenger Doors  Front Shoulder Room (in)  \\\n",
       "0                 7.0              4.0                      58.6   \n",
       "1                 5.0              4.0                      58.9   \n",
       "2                 5.0              4.0                      56.2   \n",
       "3                 7.0              4.0                      61.5   \n",
       "4                 5.0              4.0                      57.3   \n",
       "\n",
       "   Front Head Room (in)  Second Leg Room (in)  Front Leg Room (in)  \\\n",
       "0                  40.1                  41.8                 41.3   \n",
       "1                  39.7                  36.1                 42.6   \n",
       "2                  40.3                  35.7                 42.2   \n",
       "3                  41.4                  39.5                 42.9   \n",
       "4                  37.7                  36.0                 41.5   \n",
       "\n",
       "   Second Shoulder Room (in)  Second Head Room (in)  Height, Overall (in)  \\\n",
       "0                       58.1                   39.0                  67.4   \n",
       "1                       58.4                   39.5                  71.3   \n",
       "2                       55.3                   37.3                  56.5   \n",
       "3                       61.0                   40.6                  70.0   \n",
       "4                       57.2                   37.0                  58.3   \n",
       "\n",
       "   Wheelbase (in)  ...  Child Safety Rear Door Locks: Yes  \\\n",
       "0           117.9  ...                                  1   \n",
       "1           106.7  ...                                  1   \n",
       "2           106.3  ...                                  1   \n",
       "3           112.8  ...                                  1   \n",
       "4           113.7  ...                                  0   \n",
       "\n",
       "   Daytime Running Lights: Yes  Traction Control: Yes  Night Vision: Yes  \\\n",
       "0                            0                      1                  0   \n",
       "1                            0                      0                  0   \n",
       "2                            1                      1                  0   \n",
       "3                            1                      1                  0   \n",
       "4                            1                      1                  0   \n",
       "\n",
       "   Rollover Protection Bars: Yes  Fog Lamps: Yes  Parking Aid: Yes  \\\n",
       "0                              0               1                 1   \n",
       "1                              0               0                 0   \n",
       "2                              0               0                 0   \n",
       "3                              0               1                 0   \n",
       "4                              0               1                 0   \n",
       "\n",
       "   Tire Pressure Monitor: Yes  Back-Up Camera: Yes  Stability Control: Yes  \n",
       "0                           1                    1                       1  \n",
       "1                           0                    0                       0  \n",
       "2                           1                    1                       1  \n",
       "3                           1                    1                       1  \n",
       "4                           1                    0                       1  \n",
       "\n",
       "[5 rows x 205 columns]"
      ]
     },
     "execution_count": 22,
     "metadata": {},
     "output_type": "execute_result"
    }
   ],
   "source": [
    "x.head()"
   ]
  },
  {
   "cell_type": "code",
   "execution_count": 23,
   "metadata": {},
   "outputs": [],
   "source": [
    "x = x.astype('float64')"
   ]
  },
  {
   "cell_type": "markdown",
   "metadata": {},
   "source": [
    "Transforming the data into numbers between 0 and 1"
   ]
  },
  {
   "cell_type": "code",
   "execution_count": 24,
   "metadata": {},
   "outputs": [],
   "source": [
    "mm_scaler = MinMaxScaler(feature_range=(0, 1))\n",
    "x = mm_scaler.fit_transform(x)"
   ]
  },
  {
   "cell_type": "markdown",
   "metadata": {},
   "source": [
    "## Building and training the model"
   ]
  },
  {
   "cell_type": "markdown",
   "metadata": {},
   "source": [
    "##### Building"
   ]
  },
  {
   "cell_type": "code",
   "execution_count": 25,
   "metadata": {},
   "outputs": [],
   "source": [
    "model = Sequential()\n",
    "model.add(Dense(8, input_shape=(x.shape[1],)))\n",
    "model.add(Dense(100, activation='relu'))\n",
    "model.add(Dense(200, activation='relu'))\n",
    "model.add(Dense(3, activation='softmax'))"
   ]
  },
  {
   "cell_type": "markdown",
   "metadata": {},
   "source": [
    "##### Compiling"
   ]
  },
  {
   "cell_type": "code",
   "execution_count": 26,
   "metadata": {},
   "outputs": [],
   "source": [
    "model.compile(optimizer='adam',\n",
    "              loss='categorical_crossentropy', \n",
    "              metrics=['accuracy'])"
   ]
  },
  {
   "cell_type": "markdown",
   "metadata": {},
   "source": [
    "##### Training"
   ]
  },
  {
   "cell_type": "code",
   "execution_count": 27,
   "metadata": {},
   "outputs": [],
   "source": [
    "history = model.fit(x, y, \n",
    "                    epochs=100, \n",
    "                    batch_size=8, \n",
    "                    validation_split=0.1, \n",
    "                    verbose=0)"
   ]
  },
  {
   "cell_type": "markdown",
   "metadata": {},
   "source": [
    "## Final score and summary"
   ]
  },
  {
   "cell_type": "code",
   "execution_count": 28,
   "metadata": {},
   "outputs": [
    {
     "name": "stdout",
     "output_type": "stream",
     "text": [
      "highest validation accuracy: 0.9900000095367432\n",
      "lowest validation loss: 0.02737244809407835\n",
      "highest accuracy: 0.9962962865829468\n",
      "lowest loss: 0.008325046490525604\n"
     ]
    }
   ],
   "source": [
    "print('highest validation accuracy: {}'.format(max(history.history['val_accuracy']))) \n",
    "print('lowest validation loss: {}'.format(min(history.history['val_loss'])))\n",
    "print('highest accuracy: {}'.format(max(history.history['accuracy']))) \n",
    "print('lowest loss: {}'.format(min(history.history['loss'])))"
   ]
  },
  {
   "cell_type": "markdown",
   "metadata": {},
   "source": [
    "Highest accuracy in the validation sample: 99.00%, loss of 2.73%"
   ]
  },
  {
   "cell_type": "code",
   "execution_count": 29,
   "metadata": {
    "scrolled": true
   },
   "outputs": [
    {
     "name": "stdout",
     "output_type": "stream",
     "text": [
      "Model: \"sequential\"\n",
      "_________________________________________________________________\n",
      "Layer (type)                 Output Shape              Param #   \n",
      "=================================================================\n",
      "dense (Dense)                (None, 8)                 1648      \n",
      "_________________________________________________________________\n",
      "dense_1 (Dense)              (None, 100)               900       \n",
      "_________________________________________________________________\n",
      "dense_2 (Dense)              (None, 200)               20200     \n",
      "_________________________________________________________________\n",
      "dense_3 (Dense)              (None, 3)                 603       \n",
      "=================================================================\n",
      "Total params: 23,351\n",
      "Trainable params: 23,351\n",
      "Non-trainable params: 0\n",
      "_________________________________________________________________\n"
     ]
    }
   ],
   "source": [
    "model.summary()"
   ]
  },
  {
   "cell_type": "markdown",
   "metadata": {},
   "source": [
    "##### Tracking the loss and metrics"
   ]
  },
  {
   "cell_type": "code",
   "execution_count": 31,
   "metadata": {},
   "outputs": [
    {
     "data": {
      "text/html": [
       "<div>\n",
       "<style scoped>\n",
       "    .dataframe tbody tr th:only-of-type {\n",
       "        vertical-align: middle;\n",
       "    }\n",
       "\n",
       "    .dataframe tbody tr th {\n",
       "        vertical-align: top;\n",
       "    }\n",
       "\n",
       "    .dataframe thead th {\n",
       "        text-align: right;\n",
       "    }\n",
       "</style>\n",
       "<table border=\"1\" class=\"dataframe\">\n",
       "  <thead>\n",
       "    <tr style=\"text-align: right;\">\n",
       "      <th></th>\n",
       "      <th>loss</th>\n",
       "      <th>accuracy</th>\n",
       "      <th>val_loss</th>\n",
       "      <th>val_accuracy</th>\n",
       "    </tr>\n",
       "  </thead>\n",
       "  <tbody>\n",
       "    <tr>\n",
       "      <th>1</th>\n",
       "      <td>0.410511</td>\n",
       "      <td>0.793704</td>\n",
       "      <td>0.272235</td>\n",
       "      <td>0.883333</td>\n",
       "    </tr>\n",
       "    <tr>\n",
       "      <th>2</th>\n",
       "      <td>0.199583</td>\n",
       "      <td>0.916296</td>\n",
       "      <td>0.208159</td>\n",
       "      <td>0.918333</td>\n",
       "    </tr>\n",
       "    <tr>\n",
       "      <th>3</th>\n",
       "      <td>0.156329</td>\n",
       "      <td>0.942407</td>\n",
       "      <td>0.148261</td>\n",
       "      <td>0.936667</td>\n",
       "    </tr>\n",
       "    <tr>\n",
       "      <th>4</th>\n",
       "      <td>0.130653</td>\n",
       "      <td>0.950741</td>\n",
       "      <td>0.141427</td>\n",
       "      <td>0.938333</td>\n",
       "    </tr>\n",
       "    <tr>\n",
       "      <th>5</th>\n",
       "      <td>0.117328</td>\n",
       "      <td>0.956481</td>\n",
       "      <td>0.135560</td>\n",
       "      <td>0.943333</td>\n",
       "    </tr>\n",
       "  </tbody>\n",
       "</table>\n",
       "</div>"
      ],
      "text/plain": [
       "       loss  accuracy  val_loss  val_accuracy\n",
       "1  0.410511  0.793704  0.272235      0.883333\n",
       "2  0.199583  0.916296  0.208159      0.918333\n",
       "3  0.156329  0.942407  0.148261      0.936667\n",
       "4  0.130653  0.950741  0.141427      0.938333\n",
       "5  0.117328  0.956481  0.135560      0.943333"
      ]
     },
     "execution_count": 31,
     "metadata": {},
     "output_type": "execute_result"
    }
   ],
   "source": [
    "history_data = pd.DataFrame(history.history)\n",
    "history_data.index += 1\n",
    "history_data.head()"
   ]
  },
  {
   "cell_type": "code",
   "execution_count": 32,
   "metadata": {},
   "outputs": [],
   "source": [
    "start = 0\n",
    "stop = history_data.shape[0]"
   ]
  },
  {
   "cell_type": "code",
   "execution_count": 34,
   "metadata": {},
   "outputs": [
    {
     "data": {
      "text/plain": [
       "Text(0, 0.5, 'Loss')"
      ]
     },
     "execution_count": 34,
     "metadata": {},
     "output_type": "execute_result"
    },
    {
     "data": {
      "image/png": "[encoded data removed]",
      "text/plain": [
       "<Figure size 432x288 with 1 Axes>"
      ]
     },
     "metadata": {},
     "output_type": "display_data"
    }
   ],
   "source": [
    "plt.plot(1+np.arange(start, stop), history_data['val_loss'][start:], c='green')\n",
    "plt.plot(1+np.arange(start, stop), history_data['loss'][start:], c='red')\n",
    "plt.legend(('Validation Loss', 'Train MAPE (%)'))\n",
    "plt.title('Loss Per Epoch')\n",
    "plt.xlabel('Epoch (starts at {})'.format(start))\n",
    "plt.ylabel('Loss')"
   ]
  },
  {
   "cell_type": "code",
   "execution_count": 35,
   "metadata": {},
   "outputs": [
    {
     "data": {
      "text/plain": [
       "Text(0, 0.5, 'Accuracy')"
      ]
     },
     "execution_count": 35,
     "metadata": {},
     "output_type": "execute_result"
    },
    {
     "data": {
      "image/png": "[encoded data removed]",
      "text/plain": [
       "<Figure size 432x288 with 1 Axes>"
      ]
     },
     "metadata": {},
     "output_type": "display_data"
    }
   ],
   "source": [
    "plt.plot(1+np.arange(start, stop), history_data['val_accuracy'][start:], c='green')\n",
    "plt.plot(1+np.arange(start, stop), history_data['accuracy'][start:], c='red')\n",
    "plt.legend(('Validation Accuracy', 'Train MAE (%)'))\n",
    "plt.title('Accuracy Per Epoch')\n",
    "plt.xlabel('Epoch (starts at {})'.format(start))\n",
    "plt.ylabel('Accuracy')"
   ]
  },
  {
   "cell_type": "markdown",
   "metadata": {},
   "source": [
    "## Let's predict a continuous variable (fuel economy, highway)"
   ]
  },
  {
   "cell_type": "markdown",
   "metadata": {},
   "source": [
    "##### Removing 'not applicable' cars"
   ]
  },
  {
   "cell_type": "code",
   "execution_count": 37,
   "metadata": {},
   "outputs": [],
   "source": [
    "data_no_electric = data.loc[data['Make'] != 'Tesla']\n",
    "data_no_electric = data.loc[data['Hybrid Engine'] != 1]\n",
    "data_no_electric = data.loc[data['Engine Configuration'] != 'C']\n",
    "data_no_electric = data_no_electric.loc[data_no_electric['Model'] != 'i3']\n",
    "data_no_electric = data_no_electric.loc[data_no_electric['Model'] != 'Mirai']"
   ]
  },
  {
   "cell_type": "markdown",
   "metadata": {},
   "source": [
    "Selecting variables"
   ]
  },
  {
   "cell_type": "code",
   "execution_count": 38,
   "metadata": {},
   "outputs": [],
   "source": [
    "x_2 = data_no_electric.loc[:, ['Drivetrain', 'Passenger Capacity', 'Passenger Doors', \n",
    "       'Body Style', 'Front Shoulder Room (in)',\n",
    "       'Front Head Room (in)', 'Second Leg Room (in)', 'Front Leg Room (in)',\n",
    "       'Second Shoulder Room (in)', 'Second Head Room (in)',\n",
    "       'Height, Overall (in)', 'Wheelbase (in)', 'Width, Max w/o mirrors (in)',\n",
    "       'Fuel Tank Capacity, Approx (gal)', 'Fuel System',\n",
    "       'Third Gear Ratio (:1)', 'First Gear Ratio (:1)',\n",
    "       'Fourth Gear Ratio (:1)', 'Second Gear Ratio (:1)',\n",
    "       'Front Brake Rotor Diam x Thickness (in)',\n",
    "       'Rear Brake Rotor Diam x Thickness (in)', 'Steering Type',\n",
    "       'Turning Diameter - Curb to Curb', 'Rear Wheel Material',\n",
    "       'Suspension Type - Front', 'Air Bag-Frontal-Driver',\n",
    "       'Air Bag-Frontal-Passenger', 'Air Bag-Passenger Switch (On/Off)',\n",
    "       'Air Bag-Side Body-Front', 'Air Bag-Side Body-Rear',\n",
    "       'Air Bag-Side Head-Front', 'Air Bag-Side Head-Rear', 'Brakes-ABS',\n",
    "       'Child Safety Rear Door Locks', 'Daytime Running Lights',\n",
    "       'Traction Control', 'Night Vision', 'Rollover Protection Bars',\n",
    "       'Fog Lamps', 'Parking Aid', 'Tire Pressure Monitor', 'Back-Up Camera',\n",
    "       'Stability Control', 'Basic Miles/km', 'Basic Years',\n",
    "       'Corrosion Miles/km', 'Corrosion Years', 'Drivetrain Miles/km',\n",
    "       'Drivetrain Years', 'Roadside Assistance Miles/km',\n",
    "       'Roadside Assistance Years', 'Hybrid Engine', 'Gears', 'Net Horsepower',\n",
    "       'Net Horsepower RPM', 'Net Torque', 'Net Torque RPM', 'Cylinders',\n",
    "       'Engine Configuration', 'Displacement (L)', 'Displacement (cc)',\n",
    "       'Rear Tire Width', 'Front Tire Width', 'Rear Wheel Size',\n",
    "       'Front Wheel Size', 'Tire Rating', 'Tire Width Ratio',\n",
    "       'Wheel Size Ratio', 'Tire Ratio', 'Year', 'Country',\n",
    "       'Category']]\n",
    "y_2 = np.array(data_no_electric.loc[:, 'EPA Fuel Economy Est - City (MPG)'])"
   ]
  },
  {
   "cell_type": "markdown",
   "metadata": {},
   "source": [
    "##### One hot encoding"
   ]
  },
  {
   "cell_type": "code",
   "execution_count": 39,
   "metadata": {},
   "outputs": [],
   "source": [
    "specs_to_dummies = ['Body Style', 'Drivetrain', 'Fuel System', 'Steering Type', 'Rear Wheel Material',\n",
    "                   'Suspension Type - Front', 'Engine Configuration', 'Tire Rating', 'Country',\n",
    "                   'Category']\n",
    "\n",
    "for item in specs_to_dummies:\n",
    "    dummies = pd.get_dummies(x_2[item], prefix_sep=': ', prefix=item)\n",
    "    x_2 = x_2.drop(item, axis=1)\n",
    "    x_2 = pd.concat([x_2, dummies], sort=False, axis=1)\n",
    "x_2 = x_2.reset_index(drop=True)"
   ]
  },
  {
   "cell_type": "code",
   "execution_count": 40,
   "metadata": {},
   "outputs": [],
   "source": [
    "specs_to_one_two = ['Air Bag-Frontal-Driver', 'Air Bag-Frontal-Passenger', 'Air Bag-Passenger Switch (On/Off)',\n",
    "       'Air Bag-Side Body-Front', 'Air Bag-Side Body-Rear', 'Air Bag-Side Head-Front', 'Air Bag-Side Head-Rear', \n",
    "       'Brakes-ABS', 'Child Safety Rear Door Locks', 'Daytime Running Lights',\n",
    "       'Traction Control', 'Night Vision', 'Rollover Protection Bars',\n",
    "       'Fog Lamps', 'Parking Aid', 'Tire Pressure Monitor', 'Back-Up Camera',\n",
    "       'Stability Control']"
   ]
  },
  {
   "cell_type": "code",
   "execution_count": 41,
   "metadata": {},
   "outputs": [],
   "source": [
    "for item in specs_to_one_two:\n",
    "    dummies = pd.get_dummies(x_2[item], prefix_sep=': ', prefix=item, drop_first=True)\n",
    "    x_2 = x_2.drop(item, axis=1)\n",
    "    x_2 = pd.concat([x_2, dummies], sort=False, axis=1)\n",
    "x_2 = x_2.reset_index(drop=True)"
   ]
  },
  {
   "cell_type": "markdown",
   "metadata": {},
   "source": [
    "##### Transforming the data into numbers between 0 and 1"
   ]
  },
  {
   "cell_type": "code",
   "execution_count": 42,
   "metadata": {},
   "outputs": [],
   "source": [
    "x_2 = x_2.astype('float64')\n",
    "x_2 = mm_scaler.fit_transform(x_2)"
   ]
  },
  {
   "cell_type": "markdown",
   "metadata": {},
   "source": [
    "##### Train test split"
   ]
  },
  {
   "cell_type": "code",
   "execution_count": 43,
   "metadata": {},
   "outputs": [],
   "source": [
    "X_train, X_test, y_train, y_test = train_test_split(x_2, y_2, test_size=0.2)"
   ]
  },
  {
   "cell_type": "markdown",
   "metadata": {},
   "source": [
    "## Bulding and training the model"
   ]
  },
  {
   "cell_type": "markdown",
   "metadata": {},
   "source": [
    "##### Building"
   ]
  },
  {
   "cell_type": "code",
   "execution_count": 55,
   "metadata": {},
   "outputs": [],
   "source": [
    "model = Sequential()\n",
    "model.add(Dense(64, input_shape=(X_train.shape[1],)))\n",
    "model.add(Dense(100, activation='relu'))\n",
    "model.add(Dense(200, activation='relu'))\n",
    "model.add(Dense(1, activation='linear'))"
   ]
  },
  {
   "cell_type": "markdown",
   "metadata": {},
   "source": [
    "##### Compiling"
   ]
  },
  {
   "cell_type": "code",
   "execution_count": 56,
   "metadata": {},
   "outputs": [],
   "source": [
    "model.compile(optimizer='adam',\n",
    "              loss='mean_absolute_percentage_error',\n",
    "              metrics=['mae'])"
   ]
  },
  {
   "cell_type": "markdown",
   "metadata": {},
   "source": [
    "##### Training"
   ]
  },
  {
   "cell_type": "code",
   "execution_count": 57,
   "metadata": {},
   "outputs": [],
   "source": [
    "epochs = 1_00\n",
    "batch_size = 16\n",
    "validation_split = 0.1"
   ]
  },
  {
   "cell_type": "code",
   "execution_count": 58,
   "metadata": {},
   "outputs": [],
   "source": [
    "history = model.fit(X_train, y_train, \n",
    "                    epochs=epochs, \n",
    "                    batch_size=batch_size, \n",
    "                    validation_split=validation_split, \n",
    "                    verbose=0)"
   ]
  },
  {
   "cell_type": "markdown",
   "metadata": {},
   "source": [
    "##### Best model"
   ]
  },
  {
   "cell_type": "code",
   "execution_count": 59,
   "metadata": {
    "scrolled": true
   },
   "outputs": [
    {
     "name": "stdout",
     "output_type": "stream",
     "text": [
      "lowest validation mae: 0.5974475145339966\n",
      "lowest validation mape: 2.9362442361726293\n"
     ]
    }
   ],
   "source": [
    "print('lowest validation mae: {}'.format(min(history.history['val_mae']))) \n",
    "print('lowest validation mape: {}'.format(min(history.history['val_loss']))) "
   ]
  },
  {
   "cell_type": "code",
   "execution_count": 60,
   "metadata": {},
   "outputs": [
    {
     "data": {
      "text/html": [
       "<div>\n",
       "<style scoped>\n",
       "    .dataframe tbody tr th:only-of-type {\n",
       "        vertical-align: middle;\n",
       "    }\n",
       "\n",
       "    .dataframe tbody tr th {\n",
       "        vertical-align: top;\n",
       "    }\n",
       "\n",
       "    .dataframe thead th {\n",
       "        text-align: right;\n",
       "    }\n",
       "</style>\n",
       "<table border=\"1\" class=\"dataframe\">\n",
       "  <thead>\n",
       "    <tr style=\"text-align: right;\">\n",
       "      <th></th>\n",
       "      <th>loss</th>\n",
       "      <th>mae</th>\n",
       "      <th>val_loss</th>\n",
       "      <th>val_mae</th>\n",
       "    </tr>\n",
       "  </thead>\n",
       "  <tbody>\n",
       "    <tr>\n",
       "      <th>1</th>\n",
       "      <td>9.202828</td>\n",
       "      <td>1.915905</td>\n",
       "      <td>6.498142</td>\n",
       "      <td>1.310491</td>\n",
       "    </tr>\n",
       "    <tr>\n",
       "      <th>2</th>\n",
       "      <td>6.004429</td>\n",
       "      <td>1.235901</td>\n",
       "      <td>5.318348</td>\n",
       "      <td>1.108389</td>\n",
       "    </tr>\n",
       "    <tr>\n",
       "      <th>3</th>\n",
       "      <td>5.461716</td>\n",
       "      <td>1.116605</td>\n",
       "      <td>5.697490</td>\n",
       "      <td>1.170793</td>\n",
       "    </tr>\n",
       "    <tr>\n",
       "      <th>4</th>\n",
       "      <td>5.199555</td>\n",
       "      <td>1.063009</td>\n",
       "      <td>5.626722</td>\n",
       "      <td>1.137095</td>\n",
       "    </tr>\n",
       "    <tr>\n",
       "      <th>5</th>\n",
       "      <td>4.907773</td>\n",
       "      <td>1.003848</td>\n",
       "      <td>4.639775</td>\n",
       "      <td>0.955369</td>\n",
       "    </tr>\n",
       "  </tbody>\n",
       "</table>\n",
       "</div>"
      ],
      "text/plain": [
       "       loss       mae  val_loss   val_mae\n",
       "1  9.202828  1.915905  6.498142  1.310491\n",
       "2  6.004429  1.235901  5.318348  1.108389\n",
       "3  5.461716  1.116605  5.697490  1.170793\n",
       "4  5.199555  1.063009  5.626722  1.137095\n",
       "5  4.907773  1.003848  4.639775  0.955369"
      ]
     },
     "execution_count": 60,
     "metadata": {},
     "output_type": "execute_result"
    }
   ],
   "source": [
    "history_data = pd.DataFrame(history.history)\n",
    "history_data.index += 1\n",
    "history_data.head()"
   ]
  },
  {
   "cell_type": "code",
   "execution_count": 61,
   "metadata": {},
   "outputs": [],
   "source": [
    "start = 0\n",
    "stop = history_data.shape[0]"
   ]
  },
  {
   "cell_type": "code",
   "execution_count": 63,
   "metadata": {},
   "outputs": [
    {
     "data": {
      "text/plain": [
       "Text(0, 0.5, 'MAPE (%)')"
      ]
     },
     "execution_count": 63,
     "metadata": {},
     "output_type": "execute_result"
    },
    {
     "data": {
      "image/png": "[encoded data removed]",
      "text/plain": [
       "<Figure size 432x288 with 1 Axes>"
      ]
     },
     "metadata": {},
     "output_type": "display_data"
    }
   ],
   "source": [
    "plt.plot(1+np.arange(start, stop), history_data['val_loss'][start:], c='green')\n",
    "plt.plot(1+np.arange(start, stop), history_data['loss'][start:], c='red')\n",
    "plt.legend(('Validation MAPE (%)', 'Train MAPE (%)'))\n",
    "plt.title('Loss Per Epoch')\n",
    "plt.xlabel('Epoch (starts at {})'.format(start))\n",
    "plt.ylabel('MAPE (%)')"
   ]
  },
  {
   "cell_type": "code",
   "execution_count": 64,
   "metadata": {
    "scrolled": true
   },
   "outputs": [
    {
     "data": {
      "text/plain": [
       "Text(0, 0.5, 'MAE')"
      ]
     },
     "execution_count": 64,
     "metadata": {},
     "output_type": "execute_result"
    },
    {
     "data": {
      "image/png": "[encoded data removed]",
      "text/plain": [
       "<Figure size 432x288 with 1 Axes>"
      ]
     },
     "metadata": {},
     "output_type": "display_data"
    }
   ],
   "source": [
    "plt.plot(1+np.arange(start, stop), history_data['val_mae'][start:], c='green')\n",
    "plt.plot(1+np.arange(start, stop), history_data['mae'][start:], c='red')\n",
    "plt.legend(('Validation MAE (%)', 'Train MAE (%)'))\n",
    "plt.title('MAE Per Epoch')\n",
    "plt.xlabel('Epoch (starts at {})'.format(start))\n",
    "plt.ylabel('MAE')"
   ]
  },
  {
   "cell_type": "markdown",
   "metadata": {},
   "source": [
    "##### Plotting the predicted values"
   ]
  },
  {
   "cell_type": "code",
   "execution_count": 68,
   "metadata": {
    "scrolled": true
   },
   "outputs": [
    {
     "data": {
      "text/plain": [
       "Text(0.5, 1.0, 'Predicted vs Actual Fuel Economy - City (MPG)')"
      ]
     },
     "execution_count": 68,
     "metadata": {},
     "output_type": "execute_result"
    },
    {
     "data": {
      "image/png": "[encoded data removed]",
      "text/plain": [
       "<Figure size 432x288 with 1 Axes>"
      ]
     },
     "metadata": {},
     "output_type": "display_data"
    }
   ],
   "source": [
    "plt.scatter(model.predict(X_test), y_test + np.random.rand(len(X_test)), alpha=0.02, \n",
    "           c=y_test, cmap='summer')  \n",
    "plt.xlabel('Predicted Fuel Economy (MPG)')\n",
    "plt.ylabel('Actual Fuel Economy (MPG)')\n",
    "plt.title('Predicted vs Actual Fuel Economy - City (MPG)')"
   ]
  },
  {
   "cell_type": "code",
   "execution_count": 69,
   "metadata": {},
   "outputs": [
    {
     "name": "stdout",
     "output_type": "stream",
     "text": [
      "Model: \"sequential_3\"\n",
      "_________________________________________________________________\n",
      "Layer (type)                 Output Shape              Param #   \n",
      "=================================================================\n",
      "dense_15 (Dense)             (None, 64)                18368     \n",
      "_________________________________________________________________\n",
      "dense_16 (Dense)             (None, 100)               6500      \n",
      "_________________________________________________________________\n",
      "dense_17 (Dense)             (None, 200)               20200     \n",
      "_________________________________________________________________\n",
      "dense_18 (Dense)             (None, 1)                 201       \n",
      "=================================================================\n",
      "Total params: 45,269\n",
      "Trainable params: 45,269\n",
      "Non-trainable params: 0\n",
      "_________________________________________________________________\n"
     ]
    }
   ],
   "source": [
    "model.summary()"
   ]
  },
  {
   "cell_type": "markdown",
   "metadata": {},
   "source": [
    "# Predicting Type of Car"
   ]
  },
  {
   "cell_type": "code",
   "execution_count": 72,
   "metadata": {},
   "outputs": [
    {
     "data": {
      "text/plain": [
       "Car       14085\n",
       "SUV        8084\n",
       "Pickup     8022\n",
       "Van        1046\n",
       "Name: Category, dtype: int64"
      ]
     },
     "execution_count": 72,
     "metadata": {},
     "output_type": "execute_result"
    }
   ],
   "source": [
    "data['Category'].value_counts()"
   ]
  },
  {
   "cell_type": "code",
   "execution_count": 73,
   "metadata": {
    "scrolled": true
   },
   "outputs": [],
   "source": [
    "car = data.loc[data['Category'] == 'Car'].sample(n=8_000)\n",
    "suv = data.loc[data['Category'] == 'SUV'].sample(n=8_000)\n",
    "pickup = data.loc[data['Category'] == 'Pickup'].sample(n=8_000)"
   ]
  },
  {
   "cell_type": "code",
   "execution_count": 74,
   "metadata": {},
   "outputs": [],
   "source": [
    "df = pd.concat([car, suv, pickup], axis=0, sort=False).sample(frac=1).reset_index(drop=True)"
   ]
  },
  {
   "cell_type": "code",
   "execution_count": 76,
   "metadata": {},
   "outputs": [
    {
     "data": {
      "text/html": [
       "<div>\n",
       "<style scoped>\n",
       "    .dataframe tbody tr th:only-of-type {\n",
       "        vertical-align: middle;\n",
       "    }\n",
       "\n",
       "    .dataframe tbody tr th {\n",
       "        vertical-align: top;\n",
       "    }\n",
       "\n",
       "    .dataframe thead th {\n",
       "        text-align: right;\n",
       "    }\n",
       "</style>\n",
       "<table border=\"1\" class=\"dataframe\">\n",
       "  <thead>\n",
       "    <tr style=\"text-align: right;\">\n",
       "      <th></th>\n",
       "      <th>MSRP</th>\n",
       "      <th>Make</th>\n",
       "      <th>Model</th>\n",
       "      <th>Passenger Capacity</th>\n",
       "      <th>Passenger Doors</th>\n",
       "      <th>Front Shoulder Room (in)</th>\n",
       "      <th>Front Head Room (in)</th>\n",
       "      <th>Second Leg Room (in)</th>\n",
       "      <th>Front Leg Room (in)</th>\n",
       "      <th>Second Shoulder Room (in)</th>\n",
       "      <th>...</th>\n",
       "      <th>Rear Wheel Size</th>\n",
       "      <th>Front Wheel Size</th>\n",
       "      <th>Tire Rating</th>\n",
       "      <th>Tire Width Ratio</th>\n",
       "      <th>Wheel Size Ratio</th>\n",
       "      <th>Tire Ratio</th>\n",
       "      <th>Year</th>\n",
       "      <th>Country</th>\n",
       "      <th>Country Code</th>\n",
       "      <th>Category</th>\n",
       "    </tr>\n",
       "  </thead>\n",
       "  <tbody>\n",
       "    <tr>\n",
       "      <th>0</th>\n",
       "      <td>35795.0</td>\n",
       "      <td>Dodge</td>\n",
       "      <td>Durango</td>\n",
       "      <td>7.0</td>\n",
       "      <td>4.0</td>\n",
       "      <td>58.50</td>\n",
       "      <td>39.9</td>\n",
       "      <td>38.60</td>\n",
       "      <td>40.3</td>\n",
       "      <td>58.30</td>\n",
       "      <td>...</td>\n",
       "      <td>18.0</td>\n",
       "      <td>18.0</td>\n",
       "      <td>R</td>\n",
       "      <td>1.000000</td>\n",
       "      <td>1.0</td>\n",
       "      <td>5.0</td>\n",
       "      <td>2012.0</td>\n",
       "      <td>USA</td>\n",
       "      <td>6.0</td>\n",
       "      <td>SUV</td>\n",
       "    </tr>\n",
       "    <tr>\n",
       "      <th>1</th>\n",
       "      <td>31495.0</td>\n",
       "      <td>Subaru</td>\n",
       "      <td>Legacy</td>\n",
       "      <td>5.0</td>\n",
       "      <td>4.0</td>\n",
       "      <td>54.40</td>\n",
       "      <td>38.7</td>\n",
       "      <td>33.90</td>\n",
       "      <td>44.1</td>\n",
       "      <td>53.70</td>\n",
       "      <td>...</td>\n",
       "      <td>17.0</td>\n",
       "      <td>17.0</td>\n",
       "      <td>V</td>\n",
       "      <td>1.000000</td>\n",
       "      <td>1.0</td>\n",
       "      <td>5.0</td>\n",
       "      <td>2008.0</td>\n",
       "      <td>Japan</td>\n",
       "      <td>2.0</td>\n",
       "      <td>Car</td>\n",
       "    </tr>\n",
       "    <tr>\n",
       "      <th>2</th>\n",
       "      <td>32395.0</td>\n",
       "      <td>Ram</td>\n",
       "      <td>2500</td>\n",
       "      <td>3.0</td>\n",
       "      <td>2.0</td>\n",
       "      <td>66.00</td>\n",
       "      <td>40.3</td>\n",
       "      <td>40.43</td>\n",
       "      <td>41.0</td>\n",
       "      <td>65.69</td>\n",
       "      <td>...</td>\n",
       "      <td>17.0</td>\n",
       "      <td>17.0</td>\n",
       "      <td>R</td>\n",
       "      <td>1.000000</td>\n",
       "      <td>1.0</td>\n",
       "      <td>7.0</td>\n",
       "      <td>2013.0</td>\n",
       "      <td>USA</td>\n",
       "      <td>6.0</td>\n",
       "      <td>Pickup</td>\n",
       "    </tr>\n",
       "    <tr>\n",
       "      <th>3</th>\n",
       "      <td>33645.0</td>\n",
       "      <td>Chevrolet</td>\n",
       "      <td>Silverado 1500</td>\n",
       "      <td>6.0</td>\n",
       "      <td>4.0</td>\n",
       "      <td>65.93</td>\n",
       "      <td>42.8</td>\n",
       "      <td>34.63</td>\n",
       "      <td>45.0</td>\n",
       "      <td>65.80</td>\n",
       "      <td>...</td>\n",
       "      <td>17.0</td>\n",
       "      <td>17.0</td>\n",
       "      <td>R</td>\n",
       "      <td>1.000000</td>\n",
       "      <td>1.0</td>\n",
       "      <td>5.0</td>\n",
       "      <td>2017.0</td>\n",
       "      <td>USA</td>\n",
       "      <td>6.0</td>\n",
       "      <td>Pickup</td>\n",
       "    </tr>\n",
       "    <tr>\n",
       "      <th>4</th>\n",
       "      <td>81800.0</td>\n",
       "      <td>Porsche</td>\n",
       "      <td>911</td>\n",
       "      <td>4.0</td>\n",
       "      <td>2.0</td>\n",
       "      <td>51.70</td>\n",
       "      <td>38.0</td>\n",
       "      <td>29.80</td>\n",
       "      <td>41.6</td>\n",
       "      <td>47.42</td>\n",
       "      <td>...</td>\n",
       "      <td>18.0</td>\n",
       "      <td>18.0</td>\n",
       "      <td>Z</td>\n",
       "      <td>1.311111</td>\n",
       "      <td>1.0</td>\n",
       "      <td>4.0</td>\n",
       "      <td>2003.0</td>\n",
       "      <td>Germany</td>\n",
       "      <td>0.0</td>\n",
       "      <td>Car</td>\n",
       "    </tr>\n",
       "  </tbody>\n",
       "</table>\n",
       "<p>5 rows × 77 columns</p>\n",
       "</div>"
      ],
      "text/plain": [
       "      MSRP       Make           Model  Passenger Capacity  Passenger Doors  \\\n",
       "0  35795.0      Dodge         Durango                 7.0              4.0   \n",
       "1  31495.0     Subaru          Legacy                 5.0              4.0   \n",
       "2  32395.0        Ram            2500                 3.0              2.0   \n",
       "3  33645.0  Chevrolet  Silverado 1500                 6.0              4.0   \n",
       "4  81800.0    Porsche             911                 4.0              2.0   \n",
       "\n",
       "   Front Shoulder Room (in)  Front Head Room (in)  Second Leg Room (in)  \\\n",
       "0                     58.50                  39.9                 38.60   \n",
       "1                     54.40                  38.7                 33.90   \n",
       "2                     66.00                  40.3                 40.43   \n",
       "3                     65.93                  42.8                 34.63   \n",
       "4                     51.70                  38.0                 29.80   \n",
       "\n",
       "   Front Leg Room (in)  Second Shoulder Room (in)  ...  Rear Wheel Size  \\\n",
       "0                 40.3                      58.30  ...             18.0   \n",
       "1                 44.1                      53.70  ...             17.0   \n",
       "2                 41.0                      65.69  ...             17.0   \n",
       "3                 45.0                      65.80  ...             17.0   \n",
       "4                 41.6                      47.42  ...             18.0   \n",
       "\n",
       "   Front Wheel Size  Tire Rating  Tire Width Ratio  Wheel Size Ratio  \\\n",
       "0              18.0            R          1.000000               1.0   \n",
       "1              17.0            V          1.000000               1.0   \n",
       "2              17.0            R          1.000000               1.0   \n",
       "3              17.0            R          1.000000               1.0   \n",
       "4              18.0            Z          1.311111               1.0   \n",
       "\n",
       "   Tire Ratio    Year  Country  Country Code  Category  \n",
       "0         5.0  2012.0      USA           6.0       SUV  \n",
       "1         5.0  2008.0    Japan           2.0       Car  \n",
       "2         7.0  2013.0      USA           6.0    Pickup  \n",
       "3         5.0  2017.0      USA           6.0    Pickup  \n",
       "4         4.0  2003.0  Germany           0.0       Car  \n",
       "\n",
       "[5 rows x 77 columns]"
      ]
     },
     "execution_count": 76,
     "metadata": {},
     "output_type": "execute_result"
    }
   ],
   "source": [
    "df.drop(['Body Style', 'Style Name', 'Drivetrain', 'EPA Classification'], axis=1).head()"
   ]
  },
  {
   "cell_type": "markdown",
   "metadata": {},
   "source": [
    "Choosing variables"
   ]
  },
  {
   "cell_type": "code",
   "execution_count": 77,
   "metadata": {},
   "outputs": [],
   "source": [
    "X = df.loc[:, ['Drivetrain', 'Passenger Capacity', 'Passenger Doors', 'Body Style',\n",
    "       'EPA Classification', 'Front Shoulder Room (in)',\n",
    "       'Front Head Room (in)', 'Second Leg Room (in)', 'Front Leg Room (in)',\n",
    "       'Second Shoulder Room (in)', 'Second Head Room (in)',\n",
    "       'Height, Overall (in)', 'Wheelbase (in)', 'Width, Max w/o mirrors (in)',\n",
    "       'Fuel Tank Capacity, Approx (gal)', 'EPA Fuel Economy Est - Hwy (MPG)',\n",
    "       'EPA Fuel Economy Est - City (MPG)', 'Fuel System',\n",
    "       'Third Gear Ratio (:1)', 'First Gear Ratio (:1)',\n",
    "       'Fourth Gear Ratio (:1)', 'Second Gear Ratio (:1)',\n",
    "       'Front Brake Rotor Diam x Thickness (in)',\n",
    "       'Rear Brake Rotor Diam x Thickness (in)', 'Steering Type',\n",
    "       'Turning Diameter - Curb to Curb', 'Rear Wheel Material',\n",
    "       'Suspension Type - Front', 'Air Bag-Frontal-Driver',\n",
    "       'Air Bag-Frontal-Passenger', 'Air Bag-Passenger Switch (On/Off)',\n",
    "       'Air Bag-Side Body-Front', 'Air Bag-Side Body-Rear',\n",
    "       'Air Bag-Side Head-Front', 'Air Bag-Side Head-Rear', 'Brakes-ABS',\n",
    "       'Child Safety Rear Door Locks', 'Daytime Running Lights',\n",
    "       'Traction Control', 'Night Vision', 'Rollover Protection Bars',\n",
    "       'Fog Lamps', 'Parking Aid', 'Tire Pressure Monitor', 'Back-Up Camera',\n",
    "       'Stability Control', 'Other Features', 'Basic Miles/km', 'Basic Years',\n",
    "       'Corrosion Miles/km', 'Corrosion Years', 'Drivetrain Miles/km',\n",
    "       'Drivetrain Years', 'Roadside Assistance Miles/km',\n",
    "       'Roadside Assistance Years', 'Hybrid Engine', 'Gears', 'Net Horsepower',\n",
    "       'Net Horsepower RPM', 'Net Torque', 'Net Torque RPM', 'Cylinders',\n",
    "       'Engine Configuration', 'Displacement (L)', 'Displacement (cc)',\n",
    "       'Rear Tire Width', 'Front Tire Width', 'Rear Wheel Size',\n",
    "       'Front Wheel Size', 'Tire Rating', 'Tire Width Ratio',\n",
    "       'Wheel Size Ratio', 'Tire Ratio', 'Year', 'Country']]\n",
    "y = df['Category']"
   ]
  },
  {
   "cell_type": "markdown",
   "metadata": {},
   "source": [
    "Making the target a neural network friendly format"
   ]
  },
  {
   "cell_type": "code",
   "execution_count": 78,
   "metadata": {},
   "outputs": [],
   "source": [
    "y = OrdinalEncoder().fit_transform(np.array(y).reshape(-1, 1))\n",
    "y = keras.utils.to_categorical(y, 3)"
   ]
  },
  {
   "cell_type": "code",
   "execution_count": 79,
   "metadata": {},
   "outputs": [
    {
     "data": {
      "text/plain": [
       "array([[0., 0., 1.],\n",
       "       [1., 0., 0.],\n",
       "       [0., 1., 0.],\n",
       "       [0., 1., 0.],\n",
       "       [1., 0., 0.],\n",
       "       [0., 0., 1.],\n",
       "       [0., 1., 0.],\n",
       "       [0., 1., 0.],\n",
       "       [0., 0., 1.],\n",
       "       [0., 0., 1.]], dtype=float32)"
      ]
     },
     "execution_count": 79,
     "metadata": {},
     "output_type": "execute_result"
    }
   ],
   "source": [
    "y[:10]"
   ]
  },
  {
   "cell_type": "markdown",
   "metadata": {},
   "source": [
    "##### One hot encoding"
   ]
  },
  {
   "cell_type": "code",
   "execution_count": 80,
   "metadata": {},
   "outputs": [],
   "source": [
    "specs_to_dummies = ['Drivetrain', 'Fuel System', 'Steering Type', 'Rear Wheel Material',\n",
    "                   'Suspension Type - Front', 'Engine Configuration', 'Tire Rating', 'Country']"
   ]
  },
  {
   "cell_type": "code",
   "execution_count": 81,
   "metadata": {},
   "outputs": [],
   "source": [
    "for item in specs_to_dummies:\n",
    "    dummies = pd.get_dummies(X[item], prefix_sep=': ', prefix=item)\n",
    "    X = X.drop(item, axis=1)\n",
    "    X = pd.concat([X, dummies], sort=False, axis=1)\n",
    "X = X.reset_index(drop=True)"
   ]
  },
  {
   "cell_type": "code",
   "execution_count": 82,
   "metadata": {},
   "outputs": [],
   "source": [
    "specs_to_one_two = ['Air Bag-Frontal-Driver', 'Air Bag-Frontal-Passenger', 'Air Bag-Passenger Switch (On/Off)',\n",
    "       'Air Bag-Side Body-Front', 'Air Bag-Side Body-Rear', 'Air Bag-Side Head-Front', 'Air Bag-Side Head-Rear', \n",
    "       'Brakes-ABS', 'Child Safety Rear Door Locks', 'Daytime Running Lights',\n",
    "       'Traction Control', 'Night Vision', 'Rollover Protection Bars',\n",
    "       'Fog Lamps', 'Parking Aid', 'Tire Pressure Monitor', 'Back-Up Camera',\n",
    "       'Stability Control']"
   ]
  },
  {
   "cell_type": "code",
   "execution_count": 83,
   "metadata": {},
   "outputs": [],
   "source": [
    "for item in specs_to_one_two:\n",
    "    dummies = pd.get_dummies(X[item], prefix_sep=': ', prefix=item, drop_first=True)\n",
    "    X = X.drop(item, axis=1)\n",
    "    X = pd.concat([X, dummies], sort=False, axis=1)\n",
    "X = X.reset_index(drop=True)"
   ]
  },
  {
   "cell_type": "markdown",
   "metadata": {},
   "source": [
    "Dropping target-like variables"
   ]
  },
  {
   "cell_type": "code",
   "execution_count": 84,
   "metadata": {},
   "outputs": [],
   "source": [
    "X.drop(['Body Style', 'EPA Classification', 'Other Features'], axis=1, inplace=True)"
   ]
  },
  {
   "cell_type": "markdown",
   "metadata": {},
   "source": [
    "Scaling the predictors for the neural net"
   ]
  },
  {
   "cell_type": "code",
   "execution_count": 85,
   "metadata": {},
   "outputs": [],
   "source": [
    "X = X.astype('float64')"
   ]
  },
  {
   "cell_type": "code",
   "execution_count": 86,
   "metadata": {},
   "outputs": [],
   "source": [
    "mm_scaler = MinMaxScaler(feature_range=(0, 1))\n",
    "X = mm_scaler.fit_transform(X)"
   ]
  },
  {
   "cell_type": "markdown",
   "metadata": {},
   "source": [
    "##### Building the model"
   ]
  },
  {
   "cell_type": "code",
   "execution_count": 87,
   "metadata": {},
   "outputs": [],
   "source": [
    "model = Sequential()\n",
    "model.add(Dense(64, input_shape=(X.shape[1],)))\n",
    "model.add(Dense(100, activation='relu'))\n",
    "model.add(Dense(200, activation='relu'))\n",
    "model.add(Dropout(.05))\n",
    "model.add(Dense(3, activation='softmax'))"
   ]
  },
  {
   "cell_type": "markdown",
   "metadata": {},
   "source": [
    "##### Compiling the model"
   ]
  },
  {
   "cell_type": "code",
   "execution_count": 90,
   "metadata": {},
   "outputs": [],
   "source": [
    "model.compile(optimizer='adam', loss='categorical_crossentropy', metrics=['accuracy'])"
   ]
  },
  {
   "cell_type": "markdown",
   "metadata": {},
   "source": [
    "##### Model parameters"
   ]
  },
  {
   "cell_type": "code",
   "execution_count": 93,
   "metadata": {},
   "outputs": [],
   "source": [
    "epochs = 1_00\n",
    "batch_size = 32\n",
    "validation_split = 0.1"
   ]
  },
  {
   "cell_type": "markdown",
   "metadata": {},
   "source": [
    "##### Training the model"
   ]
  },
  {
   "cell_type": "code",
   "execution_count": 94,
   "metadata": {
    "scrolled": true
   },
   "outputs": [],
   "source": [
    "history = model.fit(X, y, \n",
    "                    epochs=epochs, \n",
    "                    batch_size=batch_size, \n",
    "                    validation_split=validation_split, \n",
    "                    verbose=0)"
   ]
  },
  {
   "cell_type": "code",
   "execution_count": 95,
   "metadata": {
    "scrolled": true
   },
   "outputs": [
    {
     "name": "stdout",
     "output_type": "stream",
     "text": [
      "highest accuracy: 0.9991666674613953\n",
      "lowest loss: 0.001651650071304592\n"
     ]
    }
   ],
   "source": [
    "print('highest validation accuracy: {}'.format(max(history.history['val_accuracy']))) \n",
    "print('lowest validation loss: {}'.format(min(history.history['val_loss'])))"
   ]
  },
  {
   "cell_type": "code",
   "execution_count": 96,
   "metadata": {},
   "outputs": [
    {
     "data": {
      "text/html": [
       "<div>\n",
       "<style scoped>\n",
       "    .dataframe tbody tr th:only-of-type {\n",
       "        vertical-align: middle;\n",
       "    }\n",
       "\n",
       "    .dataframe tbody tr th {\n",
       "        vertical-align: top;\n",
       "    }\n",
       "\n",
       "    .dataframe thead th {\n",
       "        text-align: right;\n",
       "    }\n",
       "</style>\n",
       "<table border=\"1\" class=\"dataframe\">\n",
       "  <thead>\n",
       "    <tr style=\"text-align: right;\">\n",
       "      <th></th>\n",
       "      <th>loss</th>\n",
       "      <th>accuracy</th>\n",
       "      <th>val_loss</th>\n",
       "      <th>val_accuracy</th>\n",
       "    </tr>\n",
       "  </thead>\n",
       "  <tbody>\n",
       "    <tr>\n",
       "      <th>1</th>\n",
       "      <td>0.023580</td>\n",
       "      <td>0.991574</td>\n",
       "      <td>0.018765</td>\n",
       "      <td>0.994583</td>\n",
       "    </tr>\n",
       "    <tr>\n",
       "      <th>2</th>\n",
       "      <td>0.022685</td>\n",
       "      <td>0.991898</td>\n",
       "      <td>0.016947</td>\n",
       "      <td>0.994583</td>\n",
       "    </tr>\n",
       "    <tr>\n",
       "      <th>3</th>\n",
       "      <td>0.017729</td>\n",
       "      <td>0.993796</td>\n",
       "      <td>0.034263</td>\n",
       "      <td>0.987500</td>\n",
       "    </tr>\n",
       "    <tr>\n",
       "      <th>4</th>\n",
       "      <td>0.021513</td>\n",
       "      <td>0.992639</td>\n",
       "      <td>0.038565</td>\n",
       "      <td>0.989583</td>\n",
       "    </tr>\n",
       "    <tr>\n",
       "      <th>5</th>\n",
       "      <td>0.015843</td>\n",
       "      <td>0.994352</td>\n",
       "      <td>0.033469</td>\n",
       "      <td>0.988333</td>\n",
       "    </tr>\n",
       "  </tbody>\n",
       "</table>\n",
       "</div>"
      ],
      "text/plain": [
       "       loss  accuracy  val_loss  val_accuracy\n",
       "1  0.023580  0.991574  0.018765      0.994583\n",
       "2  0.022685  0.991898  0.016947      0.994583\n",
       "3  0.017729  0.993796  0.034263      0.987500\n",
       "4  0.021513  0.992639  0.038565      0.989583\n",
       "5  0.015843  0.994352  0.033469      0.988333"
      ]
     },
     "execution_count": 96,
     "metadata": {},
     "output_type": "execute_result"
    }
   ],
   "source": [
    "history_cat = pd.DataFrame(history.history)\n",
    "history_cat.index += 1\n",
    "history_cat.head()"
   ]
  },
  {
   "cell_type": "code",
   "execution_count": 97,
   "metadata": {},
   "outputs": [],
   "source": [
    "start = 0\n",
    "stop = history_cat.shape[0]"
   ]
  },
  {
   "cell_type": "code",
   "execution_count": 98,
   "metadata": {},
   "outputs": [
    {
     "data": {
      "text/plain": [
       "Text(0, 0.5, 'Accuracy (%)')"
      ]
     },
     "execution_count": 98,
     "metadata": {},
     "output_type": "execute_result"
    },
    {
     "data": {
      "image/png": "[encoded data removed]",
      "text/plain": [
       "<Figure size 432x288 with 1 Axes>"
      ]
     },
     "metadata": {},
     "output_type": "display_data"
    }
   ],
   "source": [
    "plt.plot(1+np.arange(start, stop), history_cat['val_accuracy'][start:], c='green')\n",
    "plt.plot(1+np.arange(start, stop), history_cat['accuracy'][start:], c='red')\n",
    "plt.legend(('Validation Accuracy (%)', 'Train Accuracy (%)'))\n",
    "plt.title('Accuracy Per Epoch')\n",
    "plt.xlabel('Epoch (starts at {})'.format(start))\n",
    "plt.ylabel('Accuracy (%)')"
   ]
  },
  {
   "cell_type": "code",
   "execution_count": 99,
   "metadata": {},
   "outputs": [
    {
     "data": {
      "text/plain": [
       "Text(0, 0.5, 'Loss')"
      ]
     },
     "execution_count": 99,
     "metadata": {},
     "output_type": "execute_result"
    },
    {
     "data": {
      "image/png": "[encoded data removed]",
      "text/plain": [
       "<Figure size 432x288 with 1 Axes>"
      ]
     },
     "metadata": {},
     "output_type": "display_data"
    }
   ],
   "source": [
    "plt.plot(1+np.arange(start, stop), history_cat['val_loss'][start:], 'green')\n",
    "plt.plot(1+np.arange(start, stop), history_cat['loss'][start:], c='red')\n",
    "plt.legend(('Validation Loss (%)', 'Train Loss (%)'))\n",
    "plt.title('Loss Per Epoch')\n",
    "plt.xlabel('Epoch (starts at {})'.format(start))\n",
    "plt.ylabel('Loss')"
   ]
  },
  {
   "cell_type": "markdown",
   "metadata": {},
   "source": [
    "# Predicting `MSRP`"
   ]
  },
  {
   "cell_type": "markdown",
   "metadata": {},
   "source": [
    "#### Picking the features"
   ]
  },
  {
   "cell_type": "code",
   "execution_count": 100,
   "metadata": {},
   "outputs": [],
   "source": [
    "x = dataset.loc[:, ['Drivetrain', 'Passenger Capacity', 'Passenger Doors', 'Body Style',\n",
    "       'EPA Classification', 'Front Shoulder Room (in)',\n",
    "       'Front Head Room (in)', 'Second Leg Room (in)', 'Front Leg Room (in)',\n",
    "       'Second Shoulder Room (in)', 'Second Head Room (in)',\n",
    "       'Height, Overall (in)', 'Wheelbase (in)', 'Width, Max w/o mirrors (in)',\n",
    "       'Fuel Tank Capacity, Approx (gal)', 'EPA Fuel Economy Est - Hwy (MPG)',\n",
    "       'EPA Fuel Economy Est - City (MPG)', 'Fuel System',\n",
    "       'Third Gear Ratio (:1)', 'First Gear Ratio (:1)',\n",
    "       'Fourth Gear Ratio (:1)', 'Second Gear Ratio (:1)',\n",
    "       'Front Brake Rotor Diam x Thickness (in)',\n",
    "       'Rear Brake Rotor Diam x Thickness (in)', 'Steering Type',\n",
    "       'Turning Diameter - Curb to Curb', 'Rear Wheel Material',\n",
    "       'Suspension Type - Front', 'Air Bag-Frontal-Driver',\n",
    "       'Air Bag-Frontal-Passenger', 'Air Bag-Passenger Switch (On/Off)',\n",
    "       'Air Bag-Side Body-Front', 'Air Bag-Side Body-Rear',\n",
    "       'Air Bag-Side Head-Front', 'Air Bag-Side Head-Rear', 'Brakes-ABS',\n",
    "       'Child Safety Rear Door Locks', 'Daytime Running Lights',\n",
    "       'Traction Control', 'Night Vision', 'Rollover Protection Bars',\n",
    "       'Fog Lamps', 'Parking Aid', 'Tire Pressure Monitor', 'Back-Up Camera',\n",
    "       'Stability Control', 'Other Features', 'Basic Miles/km', 'Basic Years',\n",
    "       'Corrosion Miles/km', 'Corrosion Years', 'Drivetrain Miles/km',\n",
    "       'Drivetrain Years', 'Roadside Assistance Miles/km',\n",
    "       'Roadside Assistance Years', 'Hybrid Engine', 'Gears', 'Net Horsepower',\n",
    "       'Net Horsepower RPM', 'Net Torque', 'Net Torque RPM', 'Cylinders',\n",
    "       'Engine Configuration', 'Displacement (L)', 'Displacement (cc)',\n",
    "       'Rear Tire Width', 'Front Tire Width', 'Rear Wheel Size',\n",
    "       'Front Wheel Size', 'Tire Rating', 'Tire Width Ratio',\n",
    "       'Wheel Size Ratio', 'Tire Ratio', 'Year', 'Country',\n",
    "       'Category', 'Make']] # make was added"
   ]
  },
  {
   "cell_type": "code",
   "execution_count": 101,
   "metadata": {},
   "outputs": [],
   "source": [
    "y = dataset['MSRP']"
   ]
  },
  {
   "cell_type": "markdown",
   "metadata": {},
   "source": [
    "#### Encoding dummy variables"
   ]
  },
  {
   "cell_type": "code",
   "execution_count": 102,
   "metadata": {},
   "outputs": [],
   "source": [
    "specs_to_dummies = ['Drivetrain', 'Fuel System', 'Steering Type', 'Rear Wheel Material',\n",
    "                   'Suspension Type - Front', 'Engine Configuration', 'Tire Rating', 'Country',\n",
    "                   'Category', 'Make']\n",
    "\n",
    "for item in specs_to_dummies:\n",
    "    dummies = pd.get_dummies(x[item], prefix_sep=': ', prefix=item)\n",
    "    x = x.drop(item, axis=1)\n",
    "    x = pd.concat([x, dummies], sort=False, axis=1)\n",
    "x = x.reset_index(drop=True)\n",
    "\n",
    "specs_to_one_two = ['Air Bag-Frontal-Driver', 'Air Bag-Frontal-Passenger', 'Air Bag-Passenger Switch (On/Off)',\n",
    "       'Air Bag-Side Body-Front', 'Air Bag-Side Body-Rear', 'Air Bag-Side Head-Front', 'Air Bag-Side Head-Rear', \n",
    "       'Brakes-ABS', 'Child Safety Rear Door Locks', 'Daytime Running Lights',\n",
    "       'Traction Control', 'Night Vision', 'Rollover Protection Bars',\n",
    "       'Fog Lamps', 'Parking Aid', 'Tire Pressure Monitor', 'Back-Up Camera',\n",
    "       'Stability Control']\n",
    "\n",
    "for item in specs_to_one_two:\n",
    "    dummies = pd.get_dummies(x[item], prefix_sep=': ', prefix=item, drop_first=True)\n",
    "    x = x.drop(item, axis=1)\n",
    "    x = pd.concat([x, dummies], sort=False, axis=1)\n",
    "x = x.reset_index(drop=True)\n",
    "\n",
    "x.drop(['Body Style', 'EPA Classification', 'Other Features'], axis=1, inplace=True)"
   ]
  },
  {
   "cell_type": "markdown",
   "metadata": {},
   "source": [
    "#### Scaling between 0 and 1"
   ]
  },
  {
   "cell_type": "code",
   "execution_count": 103,
   "metadata": {},
   "outputs": [],
   "source": [
    "mm_scaler = MinMaxScaler()\n",
    "x = x.astype('float64')\n",
    "x = mm_scaler.fit_transform(x)"
   ]
  },
  {
   "cell_type": "markdown",
   "metadata": {},
   "source": [
    "#### Building the model"
   ]
  },
  {
   "cell_type": "code",
   "execution_count": 121,
   "metadata": {},
   "outputs": [],
   "source": [
    "model = Sequential()\n",
    "model.add(Dense(150, input_shape=(x.shape[1],)))\n",
    "model.add(Dense(200, activation='relu'))\n",
    "model.add(Dropout(0.05)) \n",
    "model.add(Dense(300, activation='elu'))\n",
    "model.add(Dense(1, activation='linear'))"
   ]
  },
  {
   "cell_type": "markdown",
   "metadata": {},
   "source": [
    "#### Compiling the model"
   ]
  },
  {
   "cell_type": "code",
   "execution_count": 122,
   "metadata": {},
   "outputs": [],
   "source": [
    "model.compile(optimizer='adam', loss='mean_absolute_percentage_error', metrics=['mae'])"
   ]
  },
  {
   "cell_type": "markdown",
   "metadata": {},
   "source": [
    "#### Model settings"
   ]
  },
  {
   "cell_type": "code",
   "execution_count": 125,
   "metadata": {},
   "outputs": [],
   "source": [
    "epochs = 4_00\n",
    "batch_size = 32\n",
    "validation_split = 0.1"
   ]
  },
  {
   "cell_type": "markdown",
   "metadata": {},
   "source": [
    "#### Training the model"
   ]
  },
  {
   "cell_type": "code",
   "execution_count": 126,
   "metadata": {
    "scrolled": true
   },
   "outputs": [],
   "source": [
    "history = model.fit(x, y, \n",
    "                    epochs=epochs, \n",
    "                    batch_size=batch_size, \n",
    "                    validation_split=validation_split, \n",
    "                    callbacks=[EarlyStopping(monitor='val_loss', patience=2e2)], \n",
    "                    verbose=0)"
   ]
  },
  {
   "cell_type": "markdown",
   "metadata": {},
   "source": [
    "#### Accuracy score"
   ]
  },
  {
   "cell_type": "code",
   "execution_count": 127,
   "metadata": {
    "scrolled": true
   },
   "outputs": [
    {
     "name": "stdout",
     "output_type": "stream",
     "text": [
      "lowest validation mae: 2060.009765625\n",
      "lowest validation mape: 4.244674996438313\n"
     ]
    }
   ],
   "source": [
    "print('lowest validation mae: {}'.format(min(history.history['val_mae'])))\n",
    "print('lowest validation mape: {}'.format(min(history.history['val_loss'])))"
   ]
  },
  {
   "cell_type": "markdown",
   "metadata": {},
   "source": [
    "#### Model summary"
   ]
  },
  {
   "cell_type": "code",
   "execution_count": 128,
   "metadata": {
    "scrolled": false
   },
   "outputs": [
    {
     "name": "stdout",
     "output_type": "stream",
     "text": [
      "Model: \"sequential_9\"\n",
      "_________________________________________________________________\n",
      "Layer (type)                 Output Shape              Param #   \n",
      "=================================================================\n",
      "dense_39 (Dense)             (None, 150)               47100     \n",
      "_________________________________________________________________\n",
      "dense_40 (Dense)             (None, 200)               30200     \n",
      "_________________________________________________________________\n",
      "dropout_6 (Dropout)          (None, 200)               0         \n",
      "_________________________________________________________________\n",
      "dense_41 (Dense)             (None, 300)               60300     \n",
      "_________________________________________________________________\n",
      "dense_42 (Dense)             (None, 1)                 301       \n",
      "=================================================================\n",
      "Total params: 137,901\n",
      "Trainable params: 137,901\n",
      "Non-trainable params: 0\n",
      "_________________________________________________________________\n"
     ]
    }
   ],
   "source": [
    "model.summary()"
   ]
  },
  {
   "cell_type": "markdown",
   "metadata": {},
   "source": [
    "#### Evolution of learning"
   ]
  },
  {
   "cell_type": "code",
   "execution_count": 129,
   "metadata": {},
   "outputs": [
    {
     "data": {
      "text/html": [
       "<div>\n",
       "<style scoped>\n",
       "    .dataframe tbody tr th:only-of-type {\n",
       "        vertical-align: middle;\n",
       "    }\n",
       "\n",
       "    .dataframe tbody tr th {\n",
       "        vertical-align: top;\n",
       "    }\n",
       "\n",
       "    .dataframe thead th {\n",
       "        text-align: right;\n",
       "    }\n",
       "</style>\n",
       "<table border=\"1\" class=\"dataframe\">\n",
       "  <thead>\n",
       "    <tr style=\"text-align: right;\">\n",
       "      <th></th>\n",
       "      <th>loss</th>\n",
       "      <th>mae</th>\n",
       "      <th>val_loss</th>\n",
       "      <th>val_mae</th>\n",
       "    </tr>\n",
       "  </thead>\n",
       "  <tbody>\n",
       "    <tr>\n",
       "      <th>1</th>\n",
       "      <td>5.230608</td>\n",
       "      <td>2525.578857</td>\n",
       "      <td>5.316065</td>\n",
       "      <td>2804.738037</td>\n",
       "    </tr>\n",
       "    <tr>\n",
       "      <th>2</th>\n",
       "      <td>5.194536</td>\n",
       "      <td>2523.652588</td>\n",
       "      <td>5.664205</td>\n",
       "      <td>2898.323730</td>\n",
       "    </tr>\n",
       "    <tr>\n",
       "      <th>3</th>\n",
       "      <td>5.195554</td>\n",
       "      <td>2528.257080</td>\n",
       "      <td>5.144912</td>\n",
       "      <td>2678.854248</td>\n",
       "    </tr>\n",
       "    <tr>\n",
       "      <th>4</th>\n",
       "      <td>5.194593</td>\n",
       "      <td>2517.620117</td>\n",
       "      <td>5.180580</td>\n",
       "      <td>2660.681885</td>\n",
       "    </tr>\n",
       "    <tr>\n",
       "      <th>5</th>\n",
       "      <td>5.205696</td>\n",
       "      <td>2520.112305</td>\n",
       "      <td>5.195058</td>\n",
       "      <td>2665.555908</td>\n",
       "    </tr>\n",
       "  </tbody>\n",
       "</table>\n",
       "</div>"
      ],
      "text/plain": [
       "       loss          mae  val_loss      val_mae\n",
       "1  5.230608  2525.578857  5.316065  2804.738037\n",
       "2  5.194536  2523.652588  5.664205  2898.323730\n",
       "3  5.195554  2528.257080  5.144912  2678.854248\n",
       "4  5.194593  2517.620117  5.180580  2660.681885\n",
       "5  5.205696  2520.112305  5.195058  2665.555908"
      ]
     },
     "execution_count": 129,
     "metadata": {},
     "output_type": "execute_result"
    }
   ],
   "source": [
    "history_df = pd.DataFrame(history.history)\n",
    "history_df.index += 1\n",
    "history_df.head()"
   ]
  },
  {
   "cell_type": "code",
   "execution_count": 130,
   "metadata": {},
   "outputs": [],
   "source": [
    "start = 0\n",
    "stop = history_df.shape[0]"
   ]
  },
  {
   "cell_type": "code",
   "execution_count": 132,
   "metadata": {
    "scrolled": true
   },
   "outputs": [
    {
     "data": {
      "text/plain": [
       "Text(0, 0.5, 'MAPE (%)')"
      ]
     },
     "execution_count": 132,
     "metadata": {},
     "output_type": "execute_result"
    },
    {
     "data": {
      "image/png": "[encoded data removed]",
      "text/plain": [
       "<Figure size 432x288 with 1 Axes>"
      ]
     },
     "metadata": {},
     "output_type": "display_data"
    }
   ],
   "source": [
    "plt.plot(1+np.arange(start, stop), history_df['val_loss'][start:], c='green')\n",
    "plt.plot(1+np.arange(start, stop), history_df['loss'][start:], c='red')\n",
    "plt.legend(('Validation MAPE (%)', 'Train MAPE (%)'))\n",
    "plt.title('Loss Per Epoch')\n",
    "plt.xlabel('Epoch (starts at {})'.format(start))\n",
    "plt.ylabel('MAPE (%)')"
   ]
  },
  {
   "cell_type": "code",
   "execution_count": 133,
   "metadata": {},
   "outputs": [
    {
     "data": {
      "text/plain": [
       "Text(0, 0.5, 'MAE')"
      ]
     },
     "execution_count": 133,
     "metadata": {},
     "output_type": "execute_result"
    },
    {
     "data": {
      "image/png": "[encoded data removed]",
      "text/plain": [
       "<Figure size 432x288 with 1 Axes>"
      ]
     },
     "metadata": {},
     "output_type": "display_data"
    }
   ],
   "source": [
    "plt.plot(1+np.arange(start, stop), history_df['val_mae'][start:], 'green')\n",
    "plt.plot(1+np.arange(start, stop), history_df['mae'][start:], c='red')\n",
    "plt.legend(('Validation MAPE (%)', 'Train MAPE (%)'))\n",
    "plt.title('MAE Per Epoch')\n",
    "plt.xlabel('Epoch (starts at {})'.format(start))\n",
    "plt.ylabel('MAE')"
   ]
  },
  {
   "cell_type": "markdown",
   "metadata": {},
   "source": [
    "#### Plotting actual vs predicted `MSRP` (not actual test data)"
   ]
  },
  {
   "cell_type": "code",
   "execution_count": 134,
   "metadata": {},
   "outputs": [],
   "source": [
    "pred = model.predict(x)"
   ]
  },
  {
   "cell_type": "code",
   "execution_count": 137,
   "metadata": {},
   "outputs": [
    {
     "data": {
      "image/png": "[encoded data removed]",
      "text/plain": [
       "<Figure size 432x288 with 1 Axes>"
      ]
     },
     "metadata": {},
     "output_type": "display_data"
    }
   ],
   "source": [
    "plt.scatter(pred, y, alpha=0.05, c=np.log(pred), cmap='winter', s=8) # winter, summer\n",
    "plt.xlabel('Predicted MSRP')\n",
    "plt.ylabel('Actual MSRP')\n",
    "plt.title('Predicted vs Actual MSRP')\n",
    "xticks = plt.xticks(ticks, labels)\n",
    "yticks = plt.yticks(ticks, labels)\n",
    "plt.yscale('log')\n",
    "plt.xscale('log')\n",
    "# plt.savefig('C:/Users/Nicolas/Documents/Scraping/thecarconnection/pred_msrp.jpg')"
   ]
  },
  {
   "cell_type": "code",
   "execution_count": 138,
   "metadata": {
    "scrolled": true
   },
   "outputs": [
    {
     "data": {
      "text/plain": [
       "array([[1.        , 0.99222246],\n",
       "       [0.99222246, 1.        ]])"
      ]
     },
     "execution_count": 138,
     "metadata": {},
     "output_type": "execute_result"
    }
   ],
   "source": [
    "np.corrcoef(model.predict(x).ravel(), y)"
   ]
  },
  {
   "cell_type": "markdown",
   "metadata": {},
   "source": [
    "# Comparing performance with Linear Regression"
   ]
  },
  {
   "cell_type": "code",
   "execution_count": 139,
   "metadata": {},
   "outputs": [],
   "source": [
    "lin_reg = LinearRegression()"
   ]
  },
  {
   "cell_type": "code",
   "execution_count": 140,
   "metadata": {},
   "outputs": [],
   "source": [
    "x = dataset.loc[:, ['Drivetrain', 'Passenger Capacity', 'Passenger Doors', 'Body Style',\n",
    "       'EPA Classification', 'Front Shoulder Room (in)',\n",
    "       'Front Head Room (in)', 'Second Leg Room (in)', 'Front Leg Room (in)',\n",
    "       'Second Shoulder Room (in)', 'Second Head Room (in)',\n",
    "       'Height, Overall (in)', 'Wheelbase (in)', 'Width, Max w/o mirrors (in)',\n",
    "       'Fuel Tank Capacity, Approx (gal)', 'EPA Fuel Economy Est - Hwy (MPG)',\n",
    "       'EPA Fuel Economy Est - City (MPG)', 'Fuel System',\n",
    "       'Third Gear Ratio (:1)', 'First Gear Ratio (:1)',\n",
    "       'Fourth Gear Ratio (:1)', 'Second Gear Ratio (:1)',\n",
    "       'Front Brake Rotor Diam x Thickness (in)',\n",
    "       'Rear Brake Rotor Diam x Thickness (in)', 'Steering Type',\n",
    "       'Turning Diameter - Curb to Curb', 'Rear Wheel Material',\n",
    "       'Suspension Type - Front', 'Air Bag-Frontal-Driver',\n",
    "       'Air Bag-Frontal-Passenger', 'Air Bag-Passenger Switch (On/Off)',\n",
    "       'Air Bag-Side Body-Front', 'Air Bag-Side Body-Rear',\n",
    "       'Air Bag-Side Head-Front', 'Air Bag-Side Head-Rear', 'Brakes-ABS',\n",
    "       'Child Safety Rear Door Locks', 'Daytime Running Lights',\n",
    "       'Traction Control', 'Night Vision', 'Rollover Protection Bars',\n",
    "       'Fog Lamps', 'Parking Aid', 'Tire Pressure Monitor', 'Back-Up Camera',\n",
    "       'Stability Control', 'Other Features', 'Basic Miles/km', 'Basic Years',\n",
    "       'Corrosion Miles/km', 'Corrosion Years', 'Drivetrain Miles/km',\n",
    "       'Drivetrain Years', 'Roadside Assistance Miles/km',\n",
    "       'Roadside Assistance Years', 'Hybrid Engine', 'Gears', 'Net Horsepower',\n",
    "       'Net Horsepower RPM', 'Net Torque', 'Net Torque RPM', 'Cylinders',\n",
    "       'Engine Configuration', 'Displacement (L)', 'Displacement (cc)',\n",
    "       'Rear Tire Width', 'Front Tire Width', 'Rear Wheel Size',\n",
    "       'Front Wheel Size', 'Tire Rating', 'Tire Width Ratio',\n",
    "       'Wheel Size Ratio', 'Tire Ratio', 'Year', 'Country',\n",
    "       'Category', 'Make']] # make was added\n",
    "y = dataset['MSRP']"
   ]
  },
  {
   "cell_type": "code",
   "execution_count": 141,
   "metadata": {},
   "outputs": [],
   "source": [
    "specs_to_dummies = ['Drivetrain', 'Fuel System', 'Steering Type', 'Rear Wheel Material',\n",
    "                   'Suspension Type - Front', 'Engine Configuration', 'Tire Rating', 'Country',\n",
    "                   'Category', 'Make']\n",
    "\n",
    "for item in specs_to_dummies:\n",
    "    dummies = pd.get_dummies(x[item], prefix_sep=': ', prefix=item)\n",
    "    x = x.drop(item, axis=1)\n",
    "    x = pd.concat([x, dummies], sort=False, axis=1)\n",
    "x = x.reset_index(drop=True)\n",
    "\n",
    "specs_to_one_two = ['Air Bag-Frontal-Driver', 'Air Bag-Frontal-Passenger', 'Air Bag-Passenger Switch (On/Off)',\n",
    "       'Air Bag-Side Body-Front', 'Air Bag-Side Body-Rear', 'Air Bag-Side Head-Front', 'Air Bag-Side Head-Rear', \n",
    "       'Brakes-ABS', 'Child Safety Rear Door Locks', 'Daytime Running Lights',\n",
    "       'Traction Control', 'Night Vision', 'Rollover Protection Bars',\n",
    "       'Fog Lamps', 'Parking Aid', 'Tire Pressure Monitor', 'Back-Up Camera',\n",
    "       'Stability Control']\n",
    "\n",
    "for item in specs_to_one_two:\n",
    "    dummies = pd.get_dummies(x[item], prefix_sep=': ', prefix=item, drop_first=True)\n",
    "    x = x.drop(item, axis=1)\n",
    "    x = pd.concat([x, dummies], sort=False, axis=1)\n",
    "x = x.reset_index(drop=True)\n",
    "\n",
    "x.drop(['Body Style', 'EPA Classification', 'Other Features'], axis=1, inplace=True)"
   ]
  },
  {
   "cell_type": "code",
   "execution_count": 142,
   "metadata": {},
   "outputs": [],
   "source": [
    "x = StandardScaler().fit_transform(x.astype(np.float64))"
   ]
  },
  {
   "cell_type": "code",
   "execution_count": 143,
   "metadata": {},
   "outputs": [],
   "source": [
    "X_train, X_test, y_train, y_test = train_test_split(x, y, test_size=.2)"
   ]
  },
  {
   "cell_type": "code",
   "execution_count": 144,
   "metadata": {},
   "outputs": [
    {
     "data": {
      "text/plain": [
       "5248.367074221975"
      ]
     },
     "execution_count": 144,
     "metadata": {},
     "output_type": "execute_result"
    }
   ],
   "source": [
    "lin_reg.fit(X_train, y_train)\n",
    "y_pred = lin_reg.predict(X_test)\n",
    "mean_absolute_error(y_test, y_pred)"
   ]
  },
  {
   "cell_type": "markdown",
   "metadata": {},
   "source": [
    "Neural network wins again."
   ]
  },
  {
   "cell_type": "markdown",
   "metadata": {},
   "source": [
    "# Comparing performance with Ridge Regression"
   ]
  },
  {
   "cell_type": "code",
   "execution_count": 145,
   "metadata": {},
   "outputs": [],
   "source": [
    "ridge = Ridge()"
   ]
  },
  {
   "cell_type": "code",
   "execution_count": 146,
   "metadata": {},
   "outputs": [
    {
     "data": {
      "text/plain": [
       "5248.658302008889"
      ]
     },
     "execution_count": 146,
     "metadata": {},
     "output_type": "execute_result"
    }
   ],
   "source": [
    "ridge.fit(X_train, y_train)\n",
    "y_pred = ridge.predict(X_test)\n",
    "mean_absolute_error(y_test, y_pred)"
   ]
  }
 ],
 "metadata": {
  "kernelspec": {
   "display_name": "Python 3",
   "language": "python",
   "name": "python3"
  },
  "language_info": {
   "codemirror_mode": {
    "name": "ipython",
    "version": 3
   },
   "file_extension": ".py",
   "mimetype": "text/x-python",
   "name": "python",
   "nbconvert_exporter": "python",
   "pygments_lexer": "ipython3",
   "version": "3.6.8"
  }
 },
 "nbformat": 4,
 "nbformat_minor": 2
}
