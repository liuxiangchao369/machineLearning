{
 "cells": [
  {
   "cell_type": "markdown",
   "metadata": {},
   "source": [
    "# Cleaning the Car Dataset"
   ]
  },
  {
   "cell_type": "markdown",
   "metadata": {},
   "source": [
    "### Importing libraries"
   ]
  },
  {
   "cell_type": "code",
   "execution_count": 1,
   "metadata": {},
   "outputs": [],
   "source": [
    "import pandas as pd\n",
    "import numpy as np\n",
    "from scipy import stats\n",
    "import matplotlib.pyplot as plt\n",
    "%matplotlib inline\n",
    "import seaborn as sns\n",
    "sns.set()"
   ]
  },
  {
   "cell_type": "markdown",
   "metadata": {},
   "source": [
    "### Importing the data"
   ]
  },
  {
   "cell_type": "code",
   "execution_count": 2,
   "metadata": {},
   "outputs": [],
   "source": [
    "df = pd.read_csv(\"C:/Users/Nicolas/Documents/Scraping/thecarconnection/full_specs.csv\", index_col=0, \n",
    "                 low_memory=False).transpose()\n",
    "df.index = df.index.str.replace(' Specs: ', ' ')"
   ]
  },
  {
   "cell_type": "code",
   "execution_count": 3,
   "metadata": {},
   "outputs": [],
   "source": [
    "symbols = '!@#$%^&*()_+[]-–'\n",
    "letters = 'abcdefghijklmnopqrstuvwxyzABCDEFGHIJKLMNOPQRSTUVWXYZ'\n",
    "numbers = '0123456789'"
   ]
  },
  {
   "cell_type": "markdown",
   "metadata": {},
   "source": [
    "### Editing Columns"
   ]
  },
  {
   "cell_type": "markdown",
   "metadata": {},
   "source": [
    "#### Detecting hybrid cars"
   ]
  },
  {
   "cell_type": "code",
   "execution_count": 4,
   "metadata": {},
   "outputs": [
    {
     "data": {
      "text/plain": [
       "0    34363\n",
       "1      971\n",
       "Name: Hybrid, dtype: int64"
      ]
     },
     "execution_count": 4,
     "metadata": {},
     "output_type": "execute_result"
    }
   ],
   "source": [
    "df['Hybrid'] = df['Hybrid/Electric Components Years'].apply(lambda x: 1 if len(str(x))!=3 else 0)\n",
    "df['Hybrid'].value_counts()"
   ]
  },
  {
   "cell_type": "markdown",
   "metadata": {},
   "source": [
    "#### Detecting hybrid cars (2)"
   ]
  },
  {
   "cell_type": "code",
   "execution_count": 5,
   "metadata": {},
   "outputs": [
    {
     "data": {
      "text/plain": [
       "0    34230\n",
       "1     1104\n",
       "Name: Hybrid Engine, dtype: int64"
      ]
     },
     "execution_count": 5,
     "metadata": {},
     "output_type": "execute_result"
    }
   ],
   "source": [
    "df['Hybrid Engine'] = df['Engine Type'].apply(lambda x: 1 if 'electric' in str.lower(str(x)) else 0)\n",
    "df['Hybrid Engine'].value_counts()"
   ]
  },
  {
   "cell_type": "markdown",
   "metadata": {},
   "source": [
    "#### Replace 'NA' and 'TBD' with `np.nan`"
   ]
  },
  {
   "cell_type": "code",
   "execution_count": 6,
   "metadata": {},
   "outputs": [],
   "source": [
    "df = df.replace(\"- TBD –\", 'NA')\n",
    "df = df.replace(\"- TBD -\", 'NA')\n",
    "df = df.replace(\"NA\", np.nan)"
   ]
  },
  {
   "cell_type": "markdown",
   "metadata": {},
   "source": [
    "#### Forbidden characters"
   ]
  },
  {
   "cell_type": "code",
   "execution_count": 7,
   "metadata": {},
   "outputs": [],
   "source": [
    "df = df.rename(columns=lambda x: x.split(\" (ft\")[0])\n",
    "df['EPA Fuel Economy Est - City (MPG)'] = df['EPA Fuel Economy Est - City (MPG)'].str.replace(r\"\\(.*\\)\",\"\")\n",
    "df['Passenger Volume'] = df['Passenger Volume'].str.replace(r\"\\(.*\\)\",\"\")"
   ]
  },
  {
   "cell_type": "markdown",
   "metadata": {},
   "source": [
    "#### `MSRP`"
   ]
  },
  {
   "cell_type": "code",
   "execution_count": 8,
   "metadata": {},
   "outputs": [],
   "source": [
    "df.MSRP = df.MSRP.str.replace(\"$\", \"\").str.replace(\",\", \"\").astype(float)"
   ]
  },
  {
   "cell_type": "markdown",
   "metadata": {},
   "source": [
    "#### `Make`"
   ]
  },
  {
   "cell_type": "code",
   "execution_count": 9,
   "metadata": {},
   "outputs": [
    {
     "data": {
      "text/plain": [
       "Index(['Ford', 'Chevrolet', 'Toyota', 'Nissan', 'GMC', 'Honda', 'Volkswagen',\n",
       "       'Subaru', 'BMW', 'Audi', 'Ram', 'Hyundai', 'Mercedes-Benz', 'Jeep',\n",
       "       'Mazda', 'Kia', 'Porsche', 'Cadillac', 'Volvo', 'Dodge', 'Jaguar',\n",
       "       'Buick', 'Acura', 'Land Rover', 'Lincoln', 'Mitsubishi', 'Lexus',\n",
       "       'Infiniti', 'Chrysler', 'Fiat', 'Maserati', 'Mini', 'Bentley', 'Tesla',\n",
       "       'Rolls-Royce', 'Smart', 'Aston Martin', 'Alfa Romeo', 'Lamborghini',\n",
       "       'Genesis', 'Lotus', 'McLaren', 'Ferrari'],\n",
       "      dtype='object')"
      ]
     },
     "execution_count": 9,
     "metadata": {},
     "output_type": "execute_result"
    }
   ],
   "source": [
    "df['Make'] = df['Make'].str.replace('INFINITI', 'Infiniti').replace('smart', 'Smart')\n",
    "df.index = df.index.str.replace('INFINITI', 'Infiniti').str.replace('smart', 'Smart')\n",
    "df['Make'] = df['Make'].str.replace('FIAT', 'Fiat').replace('MINI', 'Mini')\n",
    "df['Make'].value_counts().index"
   ]
  },
  {
   "cell_type": "markdown",
   "metadata": {},
   "source": [
    "#### `Basic miles`"
   ]
  },
  {
   "cell_type": "code",
   "execution_count": 10,
   "metadata": {},
   "outputs": [
    {
     "data": {
      "text/plain": [
       "36000.0     21525\n",
       "50000.0      7997\n",
       "60000.0      2633\n",
       "150000.0      344\n",
       "100000.0      295\n",
       "24000.0       255\n",
       "72000.0       162\n",
       "42000.0         5\n",
       "Name: Basic Miles/km, dtype: int64"
      ]
     },
     "execution_count": 10,
     "metadata": {},
     "output_type": "execute_result"
    }
   ],
   "source": [
    "df['Basic Miles/km'] = df['Basic Miles/km'].str.replace(\",\", \"\").str.replace(\"Unlimited\", \"150000\")\n",
    "df['Basic Miles/km'] = df['Basic Miles/km'].str.replace(\"49999\", \"50000\")\n",
    "df['Basic Miles/km'] = df['Basic Miles/km'].astype(float)\n",
    "df['Basic Miles/km'].value_counts()"
   ]
  },
  {
   "cell_type": "markdown",
   "metadata": {},
   "source": [
    "#### `Drivetrain miles` "
   ]
  },
  {
   "cell_type": "code",
   "execution_count": 11,
   "metadata": {},
   "outputs": [
    {
     "data": {
      "text/plain": [
       "60000.0     14495\n",
       "100000.0     6800\n",
       "50000.0      5521\n",
       "36000.0      2973\n",
       "70000.0      1871\n",
       "150000.0      476\n",
       "24000.0       227\n",
       "72000.0       162\n",
       "80000.0        10\n",
       "120000.0        7\n",
       "125000.0        1\n",
       "Name: Drivetrain Miles/km, dtype: int64"
      ]
     },
     "execution_count": 11,
     "metadata": {},
     "output_type": "execute_result"
    }
   ],
   "source": [
    "df['Drivetrain Miles/km'] = df['Drivetrain Miles/km'].str.replace(\",\", \"\").str.replace(\"Unlimited\", \"150000\")\n",
    "df['Drivetrain Miles/km'] = df['Drivetrain Miles/km'].astype(float)\n",
    "df['Drivetrain Miles/km'].value_counts()"
   ]
  },
  {
   "cell_type": "markdown",
   "metadata": {},
   "source": [
    "#### `Roadside assistance`"
   ]
  },
  {
   "cell_type": "code",
   "execution_count": 12,
   "metadata": {},
   "outputs": [
    {
     "data": {
      "text/plain": [
       "100000.0    10644\n",
       "36000.0      7841\n",
       "60000.0      5785\n",
       "50000.0      2798\n",
       "70000.0       767\n",
       "25000.0       401\n",
       "24000.0        35\n",
       "Name: Roadside Assistance Miles/km, dtype: int64"
      ]
     },
     "execution_count": 12,
     "metadata": {},
     "output_type": "execute_result"
    }
   ],
   "source": [
    "df['Roadside Assistance Miles/km'] = df['Roadside Assistance Miles/km'].str.replace(\",\", \"\")\n",
    "df['Roadside Assistance Miles/km'] = df['Roadside Assistance Miles/km'].str.replace(\"Unlimited\", \"100000\")\n",
    "df['Roadside Assistance Miles/km'] = df['Roadside Assistance Miles/km'].astype(float)\n",
    "df['Roadside Assistance Miles/km'].value_counts()"
   ]
  },
  {
   "cell_type": "markdown",
   "metadata": {},
   "source": [
    "#### `Turning diameter`"
   ]
  },
  {
   "cell_type": "code",
   "execution_count": 13,
   "metadata": {},
   "outputs": [],
   "source": [
    "df['Turning Diameter - Curb to Curb'] = df['Turning Diameter - Curb to Curb'].str.strip('-')\n",
    "df['Turning Diameter - Curb to Curb'] = df['Turning Diameter - Curb to Curb'].str.split().str.get(0)\n",
    "df['Turning Diameter - Curb to Curb'] = df['Turning Diameter - Curb to Curb'].str.replace('TBD', \n",
    "                                                            '').replace(r'^\\s*$', np.nan, regex=True).astype(float)"
   ]
  },
  {
   "cell_type": "code",
   "execution_count": 14,
   "metadata": {},
   "outputs": [
    {
     "name": "stderr",
     "output_type": "stream",
     "text": [
      "C:\\Users\\Nicolas\\Anaconda3\\lib\\site-packages\\scipy\\stats\\stats.py:1713: FutureWarning: Using a non-tuple sequence for multidimensional indexing is deprecated; use `arr[tuple(seq)]` instead of `arr[seq]`. In the future this will be interpreted as an array index, `arr[np.array(seq)]`, which will result either in an error or a different result.\n",
      "  return np.add.reduce(sorted[indexer] * weights, axis=axis) / sumval\n"
     ]
    },
    {
     "data": {
      "text/plain": [
       "<matplotlib.axes._subplots.AxesSubplot at 0x1a331272a58>"
      ]
     },
     "execution_count": 14,
     "metadata": {},
     "output_type": "execute_result"
    },
    {
     "data": {
      "image/png": "[encoded data removed]",
      "text/plain": [
       "<Figure size 432x288 with 1 Axes>"
      ]
     },
     "metadata": {
      "needs_background": "light"
     },
     "output_type": "display_data"
    }
   ],
   "source": [
    "sns.distplot(df['Turning Diameter - Curb to Curb'].dropna(), color='cadetblue')"
   ]
  },
  {
   "cell_type": "code",
   "execution_count": 15,
   "metadata": {},
   "outputs": [
    {
     "data": {
      "text/plain": [
       "Full-size Cargo Van           22\n",
       "Crew Cab Pickup - Long Bed    21\n",
       "Specialty Vehicle             20\n",
       "Mini-van, Cargo                3\n",
       "Name: Body Style, dtype: int64"
      ]
     },
     "execution_count": 15,
     "metadata": {},
     "output_type": "execute_result"
    }
   ],
   "source": [
    "df.loc[df['Turning Diameter - Curb to Curb'] > 60]['Body Style'].value_counts()"
   ]
  },
  {
   "cell_type": "markdown",
   "metadata": {},
   "source": [
    "#### `Reverse ratio`"
   ]
  },
  {
   "cell_type": "code",
   "execution_count": 16,
   "metadata": {},
   "outputs": [],
   "source": [
    "df['Reverse Ratio (:1)'] = df['Reverse Ratio (:1)'].str.split('/').str.get(0).str.strip('-TBD-')\n",
    "df['Reverse Ratio (:1)'] = df['Reverse Ratio (:1)'].str.split('-').str.get(0).str.strip('Variable')\n",
    "df['Reverse Ratio (:1)'] = df['Reverse Ratio (:1)'].str.split().str.get(0).astype(float)"
   ]
  },
  {
   "cell_type": "code",
   "execution_count": 17,
   "metadata": {},
   "outputs": [
    {
     "name": "stderr",
     "output_type": "stream",
     "text": [
      "C:\\Users\\Nicolas\\Anaconda3\\lib\\site-packages\\scipy\\stats\\stats.py:1713: FutureWarning: Using a non-tuple sequence for multidimensional indexing is deprecated; use `arr[tuple(seq)]` instead of `arr[seq]`. In the future this will be interpreted as an array index, `arr[np.array(seq)]`, which will result either in an error or a different result.\n",
      "  return np.add.reduce(sorted[indexer] * weights, axis=axis) / sumval\n"
     ]
    },
    {
     "data": {
      "text/plain": [
       "<matplotlib.axes._subplots.AxesSubplot at 0x1a34af89f28>"
      ]
     },
     "execution_count": 17,
     "metadata": {},
     "output_type": "execute_result"
    },
    {
     "data": {
      "image/png": "[encoded data removed]",
      "text/plain": [
       "<Figure size 432x288 with 1 Axes>"
      ]
     },
     "metadata": {
      "needs_background": "light"
     },
     "output_type": "display_data"
    }
   ],
   "source": [
    "sns.distplot(df['Reverse Ratio (:1)'].dropna(), color='forestgreen')"
   ]
  },
  {
   "cell_type": "code",
   "execution_count": 18,
   "metadata": {},
   "outputs": [],
   "source": [
    "df['Reverse Ratio (:1)'] = df['Reverse Ratio (:1)'].clip(upper=10, inplace=True)"
   ]
  },
  {
   "cell_type": "markdown",
   "metadata": {},
   "source": [
    "#### `Number of gears`"
   ]
  },
  {
   "cell_type": "code",
   "execution_count": 19,
   "metadata": {},
   "outputs": [
    {
     "data": {
      "text/plain": [
       "6.0     12541\n",
       "5.0      8336\n",
       "4.0      5168\n",
       "8.0      3418\n",
       "7.0      1579\n",
       "9.0       554\n",
       "10.0      190\n",
       "1.0       106\n",
       "3.0        21\n",
       "Name: Gears, dtype: int64"
      ]
     },
     "execution_count": 19,
     "metadata": {},
     "output_type": "execute_result"
    }
   ],
   "source": [
    "df['Transmission'] = df['Transmission'].str.lower()\n",
    "df['Gears'] = df['Transmission'].str.split(\"-speed\", expand=True, n = 1)[0].str[-2:].str.strip()\n",
    "df['Gears'] = df['Gears'].str.strip(letters).str.strip('/').str.strip(',').replace(r'^\\s*$', np.nan, regex=True)\n",
    "df['Gears'] = df['Gears'].astype(float)\n",
    "df['Gears'].value_counts()"
   ]
  },
  {
   "cell_type": "markdown",
   "metadata": {},
   "source": [
    "#### `Horsepower`"
   ]
  },
  {
   "cell_type": "code",
   "execution_count": 20,
   "metadata": {},
   "outputs": [],
   "source": [
    "df['Net Horsepower'] = df['SAE Net Horsepower @ RPM'].str.split(\"@\",expand=True)[0]\n",
    "df['Net Horsepower'] = df['Net Horsepower'].str.replace('\\–|\\(|T|\\-', '').str.replace('BD', '')\n",
    "df['Net Horsepower'] = df['Net Horsepower'].replace(\" \", 'NA')\n",
    "df['Net Horsepower'] = df['Net Horsepower'].str[:3]\n",
    "df['Net Horsepower'] = df['Net Horsepower'].replace(r'^\\s*$', np.nan, regex=True)\n",
    "df['Net Horsepower'] = df['Net Horsepower'].astype(float)"
   ]
  },
  {
   "cell_type": "markdown",
   "metadata": {},
   "source": [
    "#### `Net Horsepower RPM`"
   ]
  },
  {
   "cell_type": "code",
   "execution_count": 21,
   "metadata": {},
   "outputs": [],
   "source": [
    "df['Net Horsepower RPM'] = df['SAE Net Horsepower @ RPM'].str.split(\"@\",expand=True)[1].str.split('-').str.get(0)\n",
    "df['Net Horsepower RPM'] = df['Net Horsepower RPM'].str.replace(\"- TBD -\", \"NA\").replace(\"NA\", np.nan)\n",
    "df['Net Horsepower RPM'] = df['Net Horsepower RPM'].str.split('/').str.get(0).str.replace('\\(est\\)', '').str.strip(symbols)\n",
    "df['Net Horsepower RPM'] = df['Net Horsepower RPM'].str[:4]\n",
    "df['Net Horsepower RPM'] = df['Net Horsepower RPM'].replace(r'^\\s*$', np.nan, regex=True).astype(float)"
   ]
  },
  {
   "cell_type": "markdown",
   "metadata": {},
   "source": [
    "#### `Net Torque`"
   ]
  },
  {
   "cell_type": "code",
   "execution_count": 22,
   "metadata": {},
   "outputs": [],
   "source": [
    "df['Net Torque'] = df['SAE Net Torque @ RPM']\n",
    "df['Net Torque'] = df['Net Torque'].str.split(\"@\", expand=True)\n",
    "df['Net Torque'] = df['Net Torque'].str.split(\" \", expand=True)[0]\n",
    "df['Net Torque'] = df['Net Torque'].str.replace('3350', '335').str.strip(symbols).replace(r'^\\s*$', np.nan, regex=True)\n",
    "df['Net Torque'] = df['Net Torque'].astype(float)\n",
    "# df[df['Net Torque'].apply(lambda x: len(str(x)) >= 5)]['Net Torque']"
   ]
  },
  {
   "cell_type": "markdown",
   "metadata": {},
   "source": [
    "#### `Net Torque RPM`"
   ]
  },
  {
   "cell_type": "code",
   "execution_count": 23,
   "metadata": {},
   "outputs": [],
   "source": [
    "df['Net Torque RPM'] = df['SAE Net Torque @ RPM'].str.split().str.get(2)\n",
    "df['Net Torque RPM'] = df['Net Torque RPM'].str.split('-').str.get(0)\n",
    "df['Net Torque RPM'] = df['Net Torque RPM'].str.split('/').str.get(0)\n",
    "df['Net Torque RPM'] = df['Net Torque RPM'].replace(r'^\\s*$', np.nan, regex=True)\n",
    "df['Net Torque RPM'] = df['Net Torque RPM'].astype(float)"
   ]
  },
  {
   "cell_type": "markdown",
   "metadata": {},
   "source": [
    "#### `Cylinders`"
   ]
  },
  {
   "cell_type": "code",
   "execution_count": 24,
   "metadata": {},
   "outputs": [
    {
     "data": {
      "text/plain": [
       "4.0     11750\n",
       "6.0     10970\n",
       "8.0      9316\n",
       "5.0       531\n",
       "12.0      310\n",
       "3.0       136\n",
       "10.0       87\n",
       "Name: Cylinders, dtype: int64"
      ]
     },
     "execution_count": 24,
     "metadata": {},
     "output_type": "execute_result"
    }
   ],
   "source": [
    "df['Cylinders'] = df['Engine Type'].str.strip(letters).str.strip(symbols).str.strip(letters).str.strip(symbols)\n",
    "df['Cylinders'] = df['Cylinders'].str.strip().str.split().str.get(-1)\n",
    "df['Cylinders'] = df['Cylinders'].str.replace(\"-\", \"\").str.replace(\"/\", \"\")\n",
    "df['Cylinders'] = df['Cylinders'].str.lstrip(letters)\n",
    "df['Cylinders'] = df['Cylinders'].replace(r'^\\s*$', np.nan, regex=True).replace('4Cyl', '4')\n",
    "df['Cylinders'] = df['Cylinders'].astype(float)\n",
    "df['Cylinders'].value_counts()"
   ]
  },
  {
   "cell_type": "markdown",
   "metadata": {},
   "source": [
    "#### `Engine Configuration`"
   ]
  },
  {
   "cell_type": "code",
   "execution_count": 25,
   "metadata": {},
   "outputs": [
    {
     "data": {
      "text/plain": [
       "V       19155\n",
       "I       11742\n",
       "FLAT      966\n",
       "H         431\n",
       "W          83\n",
       "Name: Engine Configuration, dtype: int64"
      ]
     },
     "execution_count": 25,
     "metadata": {},
     "output_type": "execute_result"
    }
   ],
   "source": [
    "config = ['turbo', 'supercharger', 'regular', 'unleaded', 'premium', 'gas', 'electric', 'turbocharged', 'flexible',\n",
    "          'intercooled', 'twin', 'unleaded', 'charged', 'ethanol', 'natural', 'high pressure', 'low pressure',\n",
    "          'ecotec', 'cyl', 'diesel', 'compressed', 'super', 'vortec', '4', '6', '8', '5', '(']\n",
    "df['Engine Configuration'] = df['Engine Type'].str.lower() \n",
    "df['Engine Configuration'] = df['Engine Configuration'].str.strip(numbers).str.lower()\n",
    "df['Engine Configuration'] = df['Engine Configuration'].str.replace('-', \" \").str.replace('/', \" \")\n",
    "df['Engine Configuration'] = df['Engine Configuration'].str.strip(symbols).str.rstrip(numbers)\n",
    "\n",
    "for i in config:\n",
    "    df['Engine Configuration'] = df['Engine Configuration'].str.replace(i, \" \")\n",
    "df['Engine Configuration'] = df['Engine Configuration'].str.strip().str[-1]\n",
    "df['Engine Configuration'] = df['Engine Configuration'].str.upper().str.replace('T', 'FLAT').replace('L', np.nan)\n",
    "df['Engine Configuration'].value_counts()"
   ]
  },
  {
   "cell_type": "markdown",
   "metadata": {},
   "source": [
    "#### `Displacement (L)`"
   ]
  },
  {
   "cell_type": "code",
   "execution_count": 26,
   "metadata": {},
   "outputs": [
    {
     "data": {
      "text/plain": [
       "2.0    4334\n",
       "3.5    2419\n",
       "2.5    2410\n",
       "3.0    2179\n",
       "3.6    1962\n",
       "Name: Displacement (L), dtype: int64"
      ]
     },
     "execution_count": 26,
     "metadata": {},
     "output_type": "execute_result"
    }
   ],
   "source": [
    "df['Displacement (L)'] = df['Displacement'].str.split(\"/\", expand=True)[0].str[:3]\n",
    "df['Displacement (L)'] = df['Displacement (L)'].str.replace('39.', '3.9')\n",
    "df['Displacement (L)'] = df['Displacement (L)'].str.strip(symbols).str.strip(letters).replace(r'^\\s*$',\n",
    "                                                                        np.nan, regex=True).astype(float)\n",
    "df['Displacement (L)'].value_counts().head()"
   ]
  },
  {
   "cell_type": "markdown",
   "metadata": {},
   "source": [
    "#### `Displacement (cc)`"
   ]
  },
  {
   "cell_type": "code",
   "execution_count": 27,
   "metadata": {},
   "outputs": [],
   "source": [
    "df['Displacement (cc)'] = df['Displacement'].str.split(\"/\", expand=True)[1]\n",
    "df['Displacement (cc)'] = df['Displacement (cc)'].str.replace('- TBD -', 'NA')\n",
    "df['Displacement (cc)'] = df['Displacement (cc)'].str.replace('- TBD –', 'NA')\n",
    "df['Displacement (cc)'] = df['Displacement (cc)'].replace('NA', np.nan).str.strip(letters)\n",
    "df['Displacement (cc)'] = df['Displacement (cc)'].replace(r'^\\s*$', np.nan, regex=True).astype(float)"
   ]
  },
  {
   "cell_type": "markdown",
   "metadata": {},
   "source": [
    "#### `Rear Tire Width`"
   ]
  },
  {
   "cell_type": "code",
   "execution_count": 28,
   "metadata": {},
   "outputs": [
    {
     "data": {
      "text/plain": [
       "245.0    5851\n",
       "235.0    4869\n",
       "225.0    4265\n",
       "265.0    3542\n",
       "215.0    2916\n",
       "205.0    2715\n",
       "255.0    2500\n",
       "275.0    2497\n",
       "Name: Rear Tire Width, dtype: int64"
      ]
     },
     "execution_count": 28,
     "metadata": {},
     "output_type": "execute_result"
    }
   ],
   "source": [
    "df[\"Rear Tire Width\"] = df[\"Rear Tire Size\"].str.split(\"/\").str.get(0).str[-3:].str.strip()\n",
    "df[\"Rear Tire Width\"] = df[\"Rear Tire Width\"].replace('R20', np.nan).replace('R18', np.nan)\n",
    "df[\"Rear Tire Width\"] = df[\"Rear Tire Width\"].replace('D -', np.nan).replace('R15', np.nan).replace('R15', np.nan)\n",
    "df[\"Rear Tire Width\"] = df[\"Rear Tire Width\"].replace('18\"', np.nan).replace('60A', np.nan)\n",
    "df[\"Rear Tire Width\"] = df[\"Rear Tire Width\"].astype(float)\n",
    "df[\"Rear Tire Width\"].value_counts().head(8)"
   ]
  },
  {
   "cell_type": "markdown",
   "metadata": {},
   "source": [
    "#### `Front Tire Width`"
   ]
  },
  {
   "cell_type": "code",
   "execution_count": 29,
   "metadata": {},
   "outputs": [
    {
     "data": {
      "text/plain": [
       "245.0    6472\n",
       "235.0    5203\n",
       "225.0    4634\n",
       "265.0    3522\n",
       "215.0    2947\n",
       "205.0    2795\n",
       "255.0    2702\n",
       "275.0    2142\n",
       "Name: Front Tire Width, dtype: int64"
      ]
     },
     "execution_count": 29,
     "metadata": {},
     "output_type": "execute_result"
    }
   ],
   "source": [
    "df[\"Front Tire Width\"] = df[\"Front Tire Size\"].str.split(\"/\").str.get(0).str[-3:].str.strip()\n",
    "df[\"Front Tire Width\"] = df[\"Front Tire Width\"].replace('R20', 'NA').str.strip(letters).str.strip(symbols)\n",
    "df[\"Front Tire Width\"] = df[\"Front Tire Width\"].replace('18\"', 'NA').replace('R15', '').replace('D -', '')\n",
    "df[\"Front Tire Width\"] = df[\"Front Tire Width\"].replace(\"NA\", np.nan).replace(\"60\", np.nan).replace(\"15\", np.nan)\n",
    "df[\"Front Tire Width\"] = df[\"Front Tire Width\"].replace(r'^\\s*$', np.nan, regex=True).astype(float)\n",
    "df[\"Front Tire Width\"].value_counts().head(8)"
   ]
  },
  {
   "cell_type": "markdown",
   "metadata": {},
   "source": [
    "#### `Rear Wheel Size`"
   ]
  },
  {
   "cell_type": "code",
   "execution_count": 30,
   "metadata": {},
   "outputs": [
    {
     "data": {
      "text/plain": [
       "17.0    8952\n",
       "18.0    7500\n",
       "16.0    7188\n",
       "15.0    3268\n",
       "19.0    2581\n",
       "14.0     495\n",
       "13.0      84\n",
       "Name: Rear Wheel Size, dtype: int64"
      ]
     },
     "execution_count": 30,
     "metadata": {},
     "output_type": "execute_result"
    }
   ],
   "source": [
    "df[\"Rear Wheel Size\"] = df[\"Rear Wheel Size (in)\"].str[:2].str.strip('-').str.strip('P2')\n",
    "df[\"Rear Wheel Size\"] = df[\"Rear Wheel Size\"].replace(r'^\\s*$', np.nan, regex=True)\n",
    "df[\"Rear Wheel Size\"] = df[\"Rear Wheel Size\"].replace('1', np.nan).replace('0', np.nan).astype(float)\n",
    "df[\"Rear Wheel Size\"].value_counts()"
   ]
  },
  {
   "cell_type": "markdown",
   "metadata": {},
   "source": [
    "#### `Front Wheel Size`"
   ]
  },
  {
   "cell_type": "code",
   "execution_count": 31,
   "metadata": {},
   "outputs": [
    {
     "data": {
      "text/plain": [
       "17.0    8962\n",
       "18.0    7614\n",
       "16.0    7208\n",
       "15.0    3272\n",
       "19.0    2606\n",
       "14.0     495\n",
       "13.0      84\n",
       "Name: Front Wheel Size, dtype: int64"
      ]
     },
     "execution_count": 31,
     "metadata": {},
     "output_type": "execute_result"
    }
   ],
   "source": [
    "df[\"Front Wheel Size\"] = df[\"Front Wheel Size (in)\"].str[:2].str.strip('-').str.strip('P2')\n",
    "df[\"Front Wheel Size\"] = df[\"Front Wheel Size\"].replace('0', np.nan).replace('1', np.nan)\n",
    "df[\"Front Wheel Size\"] = df[\"Front Wheel Size\"].replace(r'^\\s*$', np.nan, regex=True).astype(float)\n",
    "df[\"Front Wheel Size\"].value_counts()"
   ]
  },
  {
   "cell_type": "markdown",
   "metadata": {},
   "source": [
    "#### `Tire Rating`"
   ]
  },
  {
   "cell_type": "code",
   "execution_count": 32,
   "metadata": {},
   "outputs": [
    {
     "data": {
      "text/plain": [
       "R    16516\n",
       "H     6054\n",
       "V     3028\n",
       "S     2754\n",
       "T     1516\n",
       "Y     1289\n",
       "Z     1254\n",
       "W      903\n",
       "Name: Tire Rating, dtype: int64"
      ]
     },
     "execution_count": 32,
     "metadata": {},
     "output_type": "execute_result"
    }
   ],
   "source": [
    "df[\"Tire Rating\"] = df[\"Front Tire Size\"].str.split(\"/\").str.get(-1).str.strip(numbers).str[0].str.upper()\n",
    "df[\"Tire Rating\"] = df[\"Tire Rating\"].replace(r'^\\s*$', np.nan, regex=True).replace('-', np.nan)\n",
    "df[\"Tire Rating\"] = df[\"Tire Rating\"].replace('\"', np.nan).replace('P', np.nan).replace('X', np.nan)\n",
    "df[\"Tire Rating\"].value_counts()"
   ]
  },
  {
   "cell_type": "markdown",
   "metadata": {},
   "source": [
    "#### `Tire Width Ratio`"
   ]
  },
  {
   "cell_type": "code",
   "execution_count": 33,
   "metadata": {},
   "outputs": [],
   "source": [
    "df[\"Tire Width Ratio\"] = df[\"Rear Tire Width\"]/df[\"Front Tire Width\"]"
   ]
  },
  {
   "cell_type": "markdown",
   "metadata": {},
   "source": [
    "#### `Wheel Size Ratio`"
   ]
  },
  {
   "cell_type": "code",
   "execution_count": 34,
   "metadata": {},
   "outputs": [],
   "source": [
    "df[\"Wheel Size Ratio\"] = df[\"Rear Wheel Size\"] / df[\"Front Wheel Size\"]"
   ]
  },
  {
   "cell_type": "markdown",
   "metadata": {},
   "source": [
    "#### `Tire Ratio`"
   ]
  },
  {
   "cell_type": "code",
   "execution_count": 35,
   "metadata": {},
   "outputs": [],
   "source": [
    "df[\"Tire Ratio\"] = df[\"Front Tire Size\"].str.split(\"/\").str.get(1).str[0]\n",
    "df[\"Tire Ratio\"] = df[\"Tire Ratio\"].replace('Y', 'NA').replace('NA', np.nan).astype(float)"
   ]
  },
  {
   "cell_type": "markdown",
   "metadata": {},
   "source": [
    "#### `Year`"
   ]
  },
  {
   "cell_type": "code",
   "execution_count": 36,
   "metadata": {},
   "outputs": [
    {
     "data": {
      "text/plain": [
       "2018.0    2806\n",
       "2019.0    2722\n",
       "2017.0    2624\n",
       "2016.0    2233\n",
       "2015.0    2118\n",
       "Name: Year, dtype: int64"
      ]
     },
     "execution_count": 36,
     "metadata": {},
     "output_type": "execute_result"
    }
   ],
   "source": [
    "df[\"Year\"] = df.index.str[:4].astype(float)\n",
    "df[\"Year\"].value_counts().head()"
   ]
  },
  {
   "cell_type": "markdown",
   "metadata": {},
   "source": [
    "#### `Drivetrain`"
   ]
  },
  {
   "cell_type": "code",
   "execution_count": 37,
   "metadata": {},
   "outputs": [
    {
     "data": {
      "text/plain": [
       "Rear Wheel Drive     10035\n",
       "Front Wheel Drive     9962\n",
       "Four Wheel Drive      6939\n",
       "All Wheel Drive       6682\n",
       "Name: Drivetrain, dtype: int64"
      ]
     },
     "execution_count": 37,
     "metadata": {},
     "output_type": "execute_result"
    }
   ],
   "source": [
    "df['Drivetrain'] = df['Drivetrain'].str.replace('-', '').str.title()\n",
    "df['Drivetrain'] = df['Drivetrain'].str.replace('4', 'Four').str.replace('2', 'Four')\n",
    "df['Drivetrain'] = df['Drivetrain'].str.replace('FourWheel', 'Four Wheel').str.replace('FrontWheel', 'Front Wheel')\n",
    "df['Drivetrain'] = df['Drivetrain'].str.replace('Allwheel', 'All Wheel').str.replace('Frontwheel', 'Front Wheel')\n",
    "df['Drivetrain'] = df['Drivetrain'].str.replace('Fourwheel', 'Four Wheel').str.replace('Rearwheel', 'Rear Wheel')\n",
    "df['Drivetrain'] = df['Drivetrain'].str.replace('Awd', 'All Wheel Drive').str.replace('FourWd', 'Four Wheel Drive')\n",
    "df['Drivetrain'] = df['Drivetrain'].str.replace('Rwd', 'Rear Wheel Drive')\n",
    "df['Drivetrain'].value_counts()"
   ]
  },
  {
   "cell_type": "markdown",
   "metadata": {},
   "source": [
    "#### `Sixth Gear Ratio (:1)`"
   ]
  },
  {
   "cell_type": "code",
   "execution_count": 38,
   "metadata": {},
   "outputs": [],
   "source": [
    "df['Sixth Gear Ratio (:1)'] = df['Sixth Gear Ratio (:1)'].str.strip(letters).str.strip(symbols)\n",
    "df['Sixth Gear Ratio (:1)'] = df['Sixth Gear Ratio (:1)'].str.strip(' TBD ').replace(r'^\\s*$', np.nan, regex=True).astype(float)"
   ]
  },
  {
   "cell_type": "markdown",
   "metadata": {},
   "source": [
    "#### `Country of origin`"
   ]
  },
  {
   "cell_type": "code",
   "execution_count": 39,
   "metadata": {},
   "outputs": [
    {
     "data": {
      "text/plain": [
       "Index(['Ford', 'Chevrolet', 'Toyota', 'Nissan', 'GMC', 'Honda', 'Volkswagen',\n",
       "       'Subaru', 'BMW', 'Audi', 'Ram', 'Hyundai', 'Mercedes-Benz', 'Jeep',\n",
       "       'Mazda', 'Kia', 'Porsche', 'Cadillac', 'Volvo', 'Dodge', 'Jaguar',\n",
       "       'Buick', 'Acura', 'Land Rover', 'Lincoln', 'Mitsubishi', 'Lexus',\n",
       "       'Infiniti', 'Chrysler', 'Fiat', 'Maserati', 'Mini', 'Bentley', 'Tesla',\n",
       "       'Rolls-Royce', 'Smart', 'Aston Martin', 'Alfa Romeo', 'Lamborghini',\n",
       "       'Genesis', 'Lotus', 'McLaren', 'Ferrari'],\n",
       "      dtype='object')"
      ]
     },
     "execution_count": 39,
     "metadata": {},
     "output_type": "execute_result"
    }
   ],
   "source": [
    "df['Make'].value_counts().index"
   ]
  },
  {
   "cell_type": "code",
   "execution_count": 40,
   "metadata": {},
   "outputs": [],
   "source": [
    "df['Country'] = df['Make']"
   ]
  },
  {
   "cell_type": "code",
   "execution_count": 41,
   "metadata": {},
   "outputs": [],
   "source": [
    "df['Country'] = df['Country'].replace(['Ford', 'Chevrolet', 'GMC', 'Ram', 'Jeep', 'Cadillac', 'Dodge',\n",
    "                                      'Buick', 'Lincoln', 'Chrysler', 'Tesla'], 'USA')\n",
    "df['Country'] = df['Country'].replace(['Jaguar', 'Land Rover', 'Bentley', 'Rolls-Royce', \n",
    "                                       'Aston Martin', 'Lotus', 'McLaren', 'Mini'], 'UK')\n",
    "df['Country'] = df['Country'].replace(['Toyota', 'Nissan', 'Honda', 'Subaru', 'Mazda', 'Acura', \n",
    "                                       'Mitsubishi', 'Lexus', 'Infiniti'], 'Japan')\n",
    "df['Country'] = df['Country'].replace(['Volkswagen', 'BMW', 'Audi', 'Mercedes-Benz', 'Porsche', 'Smart'], 'Germany')\n",
    "df['Country'] = df['Country'].replace(['Hyundai', 'Kia', 'Genesis'], 'Korea')\n",
    "df['Country'] = df['Country'].replace(['Volvo'], 'Sweden')\n",
    "df['Country'] = df['Country'].replace(['Fiat', 'Maserati', 'Alfa Romeo', 'Lamborghini', 'Ferrari'], 'Italy')"
   ]
  },
  {
   "cell_type": "code",
   "execution_count": 42,
   "metadata": {
    "scrolled": true
   },
   "outputs": [
    {
     "data": {
      "text/plain": [
       "USA        14072\n",
       "Japan      10942\n",
       "Germany     6164\n",
       "Korea       1964\n",
       "UK          1221\n",
       "Sweden       572\n",
       "Italy        399\n",
       "Name: Country, dtype: int64"
      ]
     },
     "execution_count": 42,
     "metadata": {},
     "output_type": "execute_result"
    }
   ],
   "source": [
    "df['Country'].value_counts()"
   ]
  },
  {
   "cell_type": "markdown",
   "metadata": {},
   "source": [
    "#### `Country Code`"
   ]
  },
  {
   "cell_type": "code",
   "execution_count": 43,
   "metadata": {},
   "outputs": [],
   "source": [
    "df['Country Code'] = df['Country'].astype(\"category\").cat.codes"
   ]
  },
  {
   "cell_type": "code",
   "execution_count": 44,
   "metadata": {},
   "outputs": [
    {
     "data": {
      "text/plain": [
       "6    14072\n",
       "2    10942\n",
       "0     6164\n",
       "3     1964\n",
       "5     1221\n",
       "4      572\n",
       "1      399\n",
       "Name: Country Code, dtype: int64"
      ]
     },
     "execution_count": 44,
     "metadata": {},
     "output_type": "execute_result"
    }
   ],
   "source": [
    "df['Country Code'].value_counts()"
   ]
  },
  {
   "cell_type": "markdown",
   "metadata": {},
   "source": [
    "#### `Redundant Specs`"
   ]
  },
  {
   "cell_type": "code",
   "execution_count": 45,
   "metadata": {},
   "outputs": [],
   "source": [
    "specs_to_delete = ['Gas Mileage', 'Engine', 'Engine Type', 'SAE Net Horsepower @ RPM', 'SAE Net Torque @ RPM',\n",
    "                  'Displacement', 'Trans Description Cont.', 'Rear Tire Size', 'Front Tire Size', 'Rear Wheel Size (in)',\n",
    "                  'Front Wheel Size (in)', 'Transmission', 'EPA Class', 'Brake ABS System', 'Disc - Front (Yes or   )',\n",
    "                  'Brake Type', 'Disc - Rear (Yes or   )', 'Spare Tire Size', 'Spare Wheel Size (in)',\n",
    "                   'Spare Wheel Material', 'Trans Type']\n",
    "df = df.drop(specs_to_delete, axis=1)"
   ]
  },
  {
   "cell_type": "markdown",
   "metadata": {},
   "source": [
    "#### Identifying columns with NaN totalling more than `threshold` elements"
   ]
  },
  {
   "cell_type": "code",
   "execution_count": 46,
   "metadata": {},
   "outputs": [],
   "source": [
    "threshold = 9e3"
   ]
  },
  {
   "cell_type": "code",
   "execution_count": 47,
   "metadata": {},
   "outputs": [],
   "source": [
    "col_to_delete = df.columns[df.isna().sum() >= threshold].tolist()\n",
    "col_to_delete.remove('EPA Classification')"
   ]
  },
  {
   "cell_type": "code",
   "execution_count": 48,
   "metadata": {},
   "outputs": [
    {
     "data": {
      "text/plain": [
       "['Base Curb Weight (lbs)',\n",
       " 'Second Hip Room (in)',\n",
       " 'Front Hip Room (in)',\n",
       " 'Passenger Volume',\n",
       " 'Track Width, Rear (in)',\n",
       " 'Min Ground Clearance (in)',\n",
       " 'Track Width, Front (in)',\n",
       " 'Cargo Volume to Seat 3',\n",
       " 'Cargo Volume to Seat 1',\n",
       " 'Cargo Volume to Seat 2',\n",
       " 'Fuel Economy Est-Combined (MPG)',\n",
       " 'Engine Order Code',\n",
       " 'Trans Description Cont. Again',\n",
       " 'Fifth Gear Ratio (:1)',\n",
       " 'Final Drive Axle Ratio (:1)',\n",
       " 'Sixth Gear Ratio (:1)',\n",
       " 'Trans Order Code',\n",
       " 'Reverse Ratio (:1)',\n",
       " 'Rear Drum Diam x Width (in)',\n",
       " 'Drum - Rear (Yes or   )',\n",
       " 'Spare Tire Order Code',\n",
       " 'Front Tire Order Code',\n",
       " 'Rear Tire Order Code',\n",
       " 'Suspension Type - Front (Cont.)',\n",
       " 'Suspension Type - Rear (Cont.)',\n",
       " 'Cold Cranking Amps @ 0° F (Primary)',\n",
       " 'Maximum Alternator Capacity (amps)',\n",
       " 'Maximum Trailering Capacity (lbs)',\n",
       " 'Wt Distributing Hitch - Max Trailer Wt. (lbs)',\n",
       " 'Dead Weight Hitch - Max Trailer Wt. (lbs)']"
      ]
     },
     "execution_count": 48,
     "metadata": {},
     "output_type": "execute_result"
    }
   ],
   "source": [
    "col_to_delete[:30]"
   ]
  },
  {
   "cell_type": "code",
   "execution_count": 49,
   "metadata": {},
   "outputs": [],
   "source": [
    "df = df.drop(col_to_delete, axis=1)"
   ]
  },
  {
   "cell_type": "code",
   "execution_count": 50,
   "metadata": {},
   "outputs": [],
   "source": [
    "# df.to_csv(r'C:/Users/Nicolas/Documents/Scraping/thecarconnection/df_cleaning_all_may.csv')"
   ]
  },
  {
   "cell_type": "markdown",
   "metadata": {},
   "source": [
    "### Inspecting remaining columns"
   ]
  },
  {
   "cell_type": "code",
   "execution_count": 51,
   "metadata": {},
   "outputs": [
    {
     "data": {
      "text/plain": [
       "Index(['MSRP', 'Make', 'Model', 'Style Name', 'Drivetrain',\n",
       "       'Passenger Capacity', 'Passenger Doors', 'Body Style',\n",
       "       'EPA Classification', 'Front Shoulder Room (in)',\n",
       "       'Front Head Room (in)', 'Second Leg Room (in)', 'Front Leg Room (in)',\n",
       "       'Second Shoulder Room (in)', 'Second Head Room (in)',\n",
       "       'Height, Overall (in)', 'Wheelbase (in)', 'Width, Max w/o mirrors (in)',\n",
       "       'Fuel Tank Capacity, Approx (gal)', 'EPA Fuel Economy Est - Hwy (MPG)',\n",
       "       'EPA Fuel Economy Est - City (MPG)', 'Fuel System',\n",
       "       'Third Gear Ratio (:1)', 'First Gear Ratio (:1)',\n",
       "       'Fourth Gear Ratio (:1)', 'Second Gear Ratio (:1)',\n",
       "       'Front Brake Rotor Diam x Thickness (in)',\n",
       "       'Rear Brake Rotor Diam x Thickness (in)', 'Steering Type',\n",
       "       'Turning Diameter - Curb to Curb', 'Rear Wheel Material',\n",
       "       'Front Wheel Material', 'Suspension Type - Front',\n",
       "       'Suspension Type - Rear', 'Air Bag-Frontal-Driver',\n",
       "       'Air Bag-Frontal-Passenger', 'Air Bag-Passenger Switch (On/Off)',\n",
       "       'Air Bag-Side Body-Front', 'Air Bag-Side Body-Rear',\n",
       "       'Air Bag-Side Head-Front', 'Air Bag-Side Head-Rear', 'Brakes-ABS',\n",
       "       'Child Safety Rear Door Locks', 'Daytime Running Lights',\n",
       "       'Traction Control', 'Night Vision', 'Rollover Protection Bars',\n",
       "       'Fog Lamps', 'Parking Aid', 'Tire Pressure Monitor', 'Back-Up Camera',\n",
       "       'Stability Control', 'Other Features', 'Basic Miles/km', 'Basic Years',\n",
       "       'Corrosion Miles/km', 'Corrosion Years', 'Drivetrain Miles/km',\n",
       "       'Drivetrain Years', 'Roadside Assistance Miles/km',\n",
       "       'Roadside Assistance Years', 'Hybrid', 'Hybrid Engine', 'Gears',\n",
       "       'Net Horsepower', 'Net Horsepower RPM', 'Net Torque', 'Net Torque RPM',\n",
       "       'Cylinders', 'Engine Configuration', 'Displacement (L)',\n",
       "       'Displacement (cc)', 'Rear Tire Width', 'Front Tire Width',\n",
       "       'Rear Wheel Size', 'Front Wheel Size', 'Tire Rating',\n",
       "       'Tire Width Ratio', 'Wheel Size Ratio', 'Tire Ratio', 'Year', 'Country',\n",
       "       'Country Code'],\n",
       "      dtype='object')"
      ]
     },
     "execution_count": 51,
     "metadata": {},
     "output_type": "execute_result"
    }
   ],
   "source": [
    "df.columns"
   ]
  },
  {
   "cell_type": "code",
   "execution_count": 52,
   "metadata": {},
   "outputs": [
    {
     "data": {
      "text/plain": [
       "MSRP                                          67\n",
       "Make                                           0\n",
       "Model                                          0\n",
       "Style Name                                     0\n",
       "Drivetrain                                  1716\n",
       "Passenger Capacity                             0\n",
       "Passenger Doors                                0\n",
       "Body Style                                  1716\n",
       "EPA Classification                         13445\n",
       "Front Shoulder Room (in)                    3312\n",
       "Front Head Room (in)                        3258\n",
       "Second Leg Room (in)                        6777\n",
       "Front Leg Room (in)                         3265\n",
       "Second Shoulder Room (in)                   6851\n",
       "Second Head Room (in)                       6757\n",
       "Height, Overall (in)                        2177\n",
       "Wheelbase (in)                              2019\n",
       "Width, Max w/o mirrors (in)                 2117\n",
       "Fuel Tank Capacity, Approx (gal)            2217\n",
       "EPA Fuel Economy Est - Hwy (MPG)            5774\n",
       "EPA Fuel Economy Est - City (MPG)           5770\n",
       "Fuel System                                 2875\n",
       "Third Gear Ratio (:1)                       5292\n",
       "First Gear Ratio (:1)                       3863\n",
       "Fourth Gear Ratio (:1)                      5303\n",
       "Second Gear Ratio (:1)                      5287\n",
       "Front Brake Rotor Diam x Thickness (in)     4439\n",
       "Rear Brake Rotor Diam x Thickness (in)      8155\n",
       "Steering Type                               2024\n",
       "Turning Diameter - Curb to Curb             3549\n",
       "                                           ...  \n",
       "Basic Miles/km                              2118\n",
       "Basic Years                                 2118\n",
       "Corrosion Miles/km                          2946\n",
       "Corrosion Years                             2906\n",
       "Drivetrain Miles/km                         2791\n",
       "Drivetrain Years                            2791\n",
       "Roadside Assistance Miles/km                7063\n",
       "Roadside Assistance Years                   7060\n",
       "Hybrid                                         0\n",
       "Hybrid Engine                                  0\n",
       "Gears                                       3421\n",
       "Net Horsepower                              2010\n",
       "Net Horsepower RPM                          2308\n",
       "Net Torque                                  2073\n",
       "Net Torque RPM                              2431\n",
       "Cylinders                                   2234\n",
       "Engine Configuration                        2957\n",
       "Displacement (L)                            2193\n",
       "Displacement (cc)                           3177\n",
       "Rear Tire Width                             2006\n",
       "Front Tire Width                            2005\n",
       "Rear Wheel Size                             5266\n",
       "Front Wheel Size                            5093\n",
       "Tire Rating                                 2020\n",
       "Tire Width Ratio                            2009\n",
       "Wheel Size Ratio                            5266\n",
       "Tire Ratio                                  2012\n",
       "Year                                           0\n",
       "Country                                        0\n",
       "Country Code                                   0\n",
       "Length: 83, dtype: int64"
      ]
     },
     "execution_count": 52,
     "metadata": {},
     "output_type": "execute_result"
    }
   ],
   "source": [
    "df.isnull().sum()"
   ]
  },
  {
   "cell_type": "markdown",
   "metadata": {},
   "source": [
    "#### `MSRP`"
   ]
  },
  {
   "cell_type": "code",
   "execution_count": 53,
   "metadata": {
    "scrolled": true
   },
   "outputs": [
    {
     "name": "stderr",
     "output_type": "stream",
     "text": [
      "C:\\Users\\Nicolas\\Anaconda3\\lib\\site-packages\\scipy\\stats\\stats.py:1713: FutureWarning: Using a non-tuple sequence for multidimensional indexing is deprecated; use `arr[tuple(seq)]` instead of `arr[seq]`. In the future this will be interpreted as an array index, `arr[np.array(seq)]`, which will result either in an error or a different result.\n",
      "  return np.add.reduce(sorted[indexer] * weights, axis=axis) / sumval\n"
     ]
    },
    {
     "data": {
      "text/plain": [
       "Text(0.5,1,'MSRP Distribution (clipped at 100,000$)')"
      ]
     },
     "execution_count": 53,
     "metadata": {},
     "output_type": "execute_result"
    },
    {
     "data": {
      "image/png": "[encoded data removed]",
      "text/plain": [
       "<Figure size 432x288 with 1 Axes>"
      ]
     },
     "metadata": {
      "needs_background": "light"
     },
     "output_type": "display_data"
    }
   ],
   "source": [
    "sns.distplot(df['MSRP'].dropna(), color='orange').set_title('MSRP Distribution (clipped at 100,000$)')"
   ]
  },
  {
   "cell_type": "code",
   "execution_count": 54,
   "metadata": {
    "scrolled": true
   },
   "outputs": [
    {
     "data": {
      "text/plain": [
       "Text(0.5,1,'Average MSRP per country of origin')"
      ]
     },
     "execution_count": 54,
     "metadata": {},
     "output_type": "execute_result"
    },
    {
     "data": {
      "image/png": "[encoded data removed]",
      "text/plain": [
       "<Figure size 432x288 with 1 Axes>"
      ]
     },
     "metadata": {
      "needs_background": "light"
     },
     "output_type": "display_data"
    }
   ],
   "source": [
    "msrp_dist = df.groupby('Country').mean()['MSRP']\n",
    "plt.scatter(msrp_dist.index, msrp_dist, c=np.arange(1, 8), s=200, marker='o', cmap='tab20b')\n",
    "plt.xlabel('Country of origin')\n",
    "plt.ylabel('Average MSRP')\n",
    "plt.title('Average MSRP per country of origin')"
   ]
  },
  {
   "cell_type": "markdown",
   "metadata": {},
   "source": [
    "#### `Passenger Capacity`"
   ]
  },
  {
   "cell_type": "code",
   "execution_count": 55,
   "metadata": {
    "scrolled": true
   },
   "outputs": [
    {
     "data": {
      "text/plain": [
       "5     18366\n",
       "6      4172\n",
       "4      3304\n",
       "7      2235\n",
       "0      1969\n",
       "2      1937\n",
       "3      1780\n",
       "8      1168\n",
       "12      257\n",
       "9       140\n",
       "15        5\n",
       "1         1\n",
       "Name: Passenger Capacity, dtype: int64"
      ]
     },
     "execution_count": 55,
     "metadata": {},
     "output_type": "execute_result"
    }
   ],
   "source": [
    "df['Passenger Capacity'].value_counts()"
   ]
  },
  {
   "cell_type": "code",
   "execution_count": 56,
   "metadata": {},
   "outputs": [],
   "source": [
    "df['Passenger Capacity'] = df['Passenger Capacity']"
   ]
  },
  {
   "cell_type": "markdown",
   "metadata": {},
   "source": [
    "That's weird. 0 passengers? Maybe it's the old data"
   ]
  },
  {
   "cell_type": "code",
   "execution_count": 57,
   "metadata": {
    "scrolled": true
   },
   "outputs": [
    {
     "data": {
      "text/plain": [
       "1995.0    385\n",
       "1994.0    298\n",
       "1992.0    286\n",
       "1991.0    261\n",
       "1996.0    253\n",
       "1993.0    251\n",
       "1990.0    235\n",
       "Name: Year, dtype: int64"
      ]
     },
     "execution_count": 57,
     "metadata": {},
     "output_type": "execute_result"
    }
   ],
   "source": [
    "df.loc[df['Passenger Capacity'] == '0']['Year'].value_counts()"
   ]
  },
  {
   "cell_type": "markdown",
   "metadata": {},
   "source": [
    "We will delete all cars dating before 2000"
   ]
  },
  {
   "cell_type": "code",
   "execution_count": 58,
   "metadata": {},
   "outputs": [],
   "source": [
    "df['Year'] = df['Year'].astype(int)\n",
    "df = df.loc[df['Year'] >= 2e3]"
   ]
  },
  {
   "cell_type": "code",
   "execution_count": 59,
   "metadata": {
    "scrolled": true
   },
   "outputs": [
    {
     "data": {
      "text/plain": [
       "31738"
      ]
     },
     "execution_count": 59,
     "metadata": {},
     "output_type": "execute_result"
    }
   ],
   "source": [
    "len(df)"
   ]
  },
  {
   "cell_type": "code",
   "execution_count": 60,
   "metadata": {},
   "outputs": [
    {
     "data": {
      "text/plain": [
       "5.0     17488\n",
       "6.0      4000\n",
       "4.0      3042\n",
       "7.0      2212\n",
       "2.0      1876\n",
       "3.0      1577\n",
       "8.0      1159\n",
       "22.0      241\n",
       "9.0       138\n",
       "25.0        5\n",
       "Name: Passenger Capacity, dtype: int64"
      ]
     },
     "execution_count": 60,
     "metadata": {},
     "output_type": "execute_result"
    }
   ],
   "source": [
    "df['Passenger Capacity'] = df['Passenger Capacity'].str.replace('1', '2').astype(float)\n",
    "df['Passenger Capacity'].value_counts()"
   ]
  },
  {
   "cell_type": "markdown",
   "metadata": {},
   "source": [
    "#### `Passenger Doors`"
   ]
  },
  {
   "cell_type": "code",
   "execution_count": 61,
   "metadata": {},
   "outputs": [
    {
     "data": {
      "text/plain": [
       "4    22970\n",
       "2     7992\n",
       "3      776\n",
       "Name: Passenger Doors, dtype: int64"
      ]
     },
     "execution_count": 61,
     "metadata": {},
     "output_type": "execute_result"
    }
   ],
   "source": [
    "df['Passenger Doors'].value_counts()"
   ]
  },
  {
   "cell_type": "code",
   "execution_count": 62,
   "metadata": {},
   "outputs": [],
   "source": [
    "df['Passenger Doors'] = df['Passenger Doors'].astype(float)"
   ]
  },
  {
   "cell_type": "markdown",
   "metadata": {},
   "source": [
    "#### `Body Style`"
   ]
  },
  {
   "cell_type": "code",
   "execution_count": 63,
   "metadata": {},
   "outputs": [
    {
     "data": {
      "text/plain": [
       "0"
      ]
     },
     "execution_count": 63,
     "metadata": {},
     "output_type": "execute_result"
    }
   ],
   "source": [
    "df['Body Style'].isnull().sum()"
   ]
  },
  {
   "cell_type": "code",
   "execution_count": 64,
   "metadata": {},
   "outputs": [],
   "source": [
    "df['Body Style'] = df['Body Style'].str.replace('Crew Cab Pickup', 'Crew Cab Pickup - Standard Bed')\n",
    "df['Body Style'] = df['Body Style'].str.replace('Extended Cab Pickup', 'Extended Cab Pickup - Standard Bed')\n",
    "df['Body Style'] = df['Body Style'].str.replace('Regular Cab Chassis-Cab', 'Regular Cab Pickup - Standard Bed')\n",
    "df.loc[df['Body Style'] == 'Hatchback', 'Body Style'] = '3dr Car'\n",
    "df.loc[df['Body Style'] == 'Crew Cab Pickup - Standard Bed', 'Body Style'] = np.nan\n",
    "df.loc[df['Body Style'] == 'Extended Cab Pickup - Standard Bed'] = np.nan"
   ]
  },
  {
   "cell_type": "code",
   "execution_count": 65,
   "metadata": {
    "scrolled": true
   },
   "outputs": [
    {
     "data": {
      "text/plain": [
       "4dr Car                                              9178\n",
       "Sport Utility                                        8086\n",
       "2dr Car                                              2513\n",
       "Crew Cab Pickup - Standard Bed - Short Bed           1672\n",
       "Convertible                                          1480\n",
       "Crew Cab Pickup - Standard Bed - Standard Bed        1371\n",
       "Extended Cab Pickup - Standard Bed - Short Bed        974\n",
       "Station Wagon                                         915\n",
       "Extended Cab Pickup - Standard Bed - Standard Bed     866\n",
       "Extended Cab Pickup - Standard Bed - Long Bed         836\n",
       "Regular Cab Pickup - Long Bed                         777\n",
       "Crew Cab Pickup - Standard Bed - Long Bed             746\n",
       "Mini-van, Passenger                                   491\n",
       "Regular Cab Pickup - Short Bed                        400\n",
       "Regular Cab Pickup - Standard Bed                     388\n",
       "Full-size Passenger Van                               371\n",
       "Full-size Cargo Van                                   369\n",
       "Specialty Vehicle                                     132\n",
       "Mini-van, Cargo                                       104\n",
       "3dr Car                                                64\n",
       "Name: Body Style, dtype: int64"
      ]
     },
     "execution_count": 65,
     "metadata": {},
     "output_type": "execute_result"
    }
   ],
   "source": [
    "df['Body Style'].value_counts()"
   ]
  },
  {
   "cell_type": "code",
   "execution_count": 66,
   "metadata": {},
   "outputs": [
    {
     "data": {
      "text/plain": [
       "Text(0.5,0,'Count')"
      ]
     },
     "execution_count": 66,
     "metadata": {},
     "output_type": "execute_result"
    },
    {
     "data": {
      "image/png": "[encoded data removed]",
      "text/plain": [
       "<Figure size 432x288 with 1 Axes>"
      ]
     },
     "metadata": {
      "needs_background": "light"
     },
     "output_type": "display_data"
    }
   ],
   "source": [
    "df['Body Style'].value_counts().plot(kind='bar', title='Body Style Count')\n",
    "plt.xlabel('Count')"
   ]
  },
  {
   "cell_type": "markdown",
   "metadata": {},
   "source": [
    "#### `Category`"
   ]
  },
  {
   "cell_type": "code",
   "execution_count": 67,
   "metadata": {},
   "outputs": [],
   "source": [
    "df['Category'] = df['Body Style']\n",
    "\n",
    "van = ['Mini-van, Cargo', 'Full-size Passenger Van', 'Full-size Cargo Van', 'Mini-van, Passenger', 'Specialty Vehicle']\n",
    "\n",
    "for item in van:\n",
    "    df['Category'] = df['Category'].str.replace(item, 'Van')\n",
    "    \n",
    "pickups = ['Crew Cab Pickup - Short Bed', 'Crew Cab Pickup - Standard Bed', \n",
    "        'Extended Cab Pickup - Short Bed', 'Extended Cab Pickup - Standard Bed',\n",
    "        'Extended Cab Pickup - Long Bed', 'Regular Cab Pickup - Long Bed', \n",
    "        'Crew Cab Pickup - Long Bed', 'Regular Cab Pickup - Short Bed', \n",
    "        'Regular Cab Pickup - Standard Bed', 'Extended Cab Pickup', 'Crew Cab Pickup',\n",
    "        'Regular Cab Chassis-Cab', 'Pickup - Short Bed', 'Pickup - Standard Bed', 'Pickup - Long Bed']\n",
    "\n",
    "for item in pickups:\n",
    "    df['Category'] = df['Category'].str.replace(item, 'Pickup')\n",
    "    \n",
    "df['Category'] = df['Category'].str.replace('Sport Utility', 'SUV')\n",
    "\n",
    "car = ['2dr Car', '4dr Car', 'Convertible', 'Station Wagon', '3dr Car', 'Hatchback']\n",
    "\n",
    "for item in car:\n",
    "    df['Category'] = df['Category'].str.replace(item, 'Car')"
   ]
  },
  {
   "cell_type": "code",
   "execution_count": 68,
   "metadata": {
    "scrolled": false
   },
   "outputs": [
    {
     "data": {
      "text/plain": [
       "Car       14150\n",
       "SUV        8086\n",
       "Pickup     8030\n",
       "Van        1467\n",
       "Name: Category, dtype: int64"
      ]
     },
     "execution_count": 68,
     "metadata": {},
     "output_type": "execute_result"
    }
   ],
   "source": [
    "df['Category'].value_counts()"
   ]
  },
  {
   "cell_type": "markdown",
   "metadata": {},
   "source": [
    "#### `EPA Classification`"
   ]
  },
  {
   "cell_type": "code",
   "execution_count": 69,
   "metadata": {},
   "outputs": [
    {
     "data": {
      "text/plain": [
       "10950"
      ]
     },
     "execution_count": 69,
     "metadata": {},
     "output_type": "execute_result"
    }
   ],
   "source": [
    "df['EPA Classification'].isnull().sum()"
   ]
  },
  {
   "cell_type": "code",
   "execution_count": 70,
   "metadata": {},
   "outputs": [],
   "source": [
    "df['EPA Classification'] = df['EPA Classification'].str.replace('Compact Cars', 'Compact')\n",
    "df['EPA Classification'] = df['EPA Classification'].str.replace('Mid-Size Cars', 'Midsize')\n",
    "df['EPA Classification'] = df['EPA Classification'].str.replace('Small Sport Utility Vehicles 4WD', 'Small SUV 4WD')\n",
    "df['EPA Classification'] = df['EPA Classification'].str.replace('4WD Sport Utility Vehicle', 'SUV 4WD')\n",
    "df['EPA Classification'] = df['EPA Classification'].str.replace('Small Sport Utility Vehicles 2WD', 'Small SUV 2WD')\n",
    "df['EPA Classification'] = df['EPA Classification'].str.replace('Mid-Size', 'Midsize')\n",
    "df['EPA Classification'] = df['EPA Classification'].str.replace('Two-Seaters', 'Two-Seater')\n",
    "df['EPA Classification'] = df['EPA Classification'].str.replace('Sub-Compact', 'Subcompact')\n",
    "df['EPA Classification'] = df['EPA Classification'].str.replace('Small Station Wgn', 'Small Station Wagon')\n",
    "df['EPA Classification'] = df['EPA Classification'].str.replace('Large Cars', 'Large')\n",
    "df['EPA Classification'] = df['EPA Classification'].str.replace('Subcompact Cars', 'Subcompact')\n",
    "df['EPA Classification'] = df['EPA Classification'].str.replace('4WD Sport Utility', 'SUV 4WD')\n",
    "df['EPA Classification'] = df['EPA Classification'].str.replace('Standard Sport Utility Vehicles 4WD', 'SUV 4WD')\n",
    "df['EPA Classification'] = df['EPA Classification'].str.replace('SUV 4WDs', 'SUV 4WD')\n",
    "df['EPA Classification'] = df['EPA Classification'].str.replace('Sport Utility Vehicle - 4WD', 'SUV 4WD')\n",
    "df['EPA Classification'] = df['EPA Classification'].str.replace('Sport Utility Vehicle - 2WD', 'SUV 2WD')\n",
    "df['EPA Classification'] = df['EPA Classification'].str.replace('SUV 4WDs', 'SUV 4WD')\n",
    "df['EPA Classification'] = df['EPA Classification'].str.replace('Large Car', 'Large')\n",
    "df['EPA Classification'] = df['EPA Classification'].str.replace('2WD Sport Utility', 'SUV 2WD')\n",
    "df['EPA Classification'] = df['EPA Classification'].str.replace('Subcompact car', 'Subcompact')\n",
    "df['EPA Classification'] = df['EPA Classification'].str.replace('2WD Sport Utility Vehicles', 'SUV 2WD')\n",
    "df['EPA Classification'] = df['EPA Classification'].str.replace('Standard Sport Utility Vehicles 2WD', 'SUV 2WD')\n",
    "df['EPA Classification'] = df['EPA Classification'].str.replace('Mini-Compact', 'Minicompact Cars')\n",
    "df['EPA Classification'] = df['EPA Classification'].str.replace('Midsize Car', 'Midsize')\n",
    "df['EPA Classification'] = df['EPA Classification'].str.replace('AWD Sport Utility', 'SUV 4WD')\n",
    "df['EPA Classification'] = df['EPA Classification'].str.replace('SUV 2WD Vehicle', 'SUV 2WD')\n",
    "df['EPA Classification'] = df['EPA Classification'].str.replace('Two-Seater', 'Two Seater')\n",
    "df['EPA Classification'] = df['EPA Classification'].str.replace('Sport Utility Vehicle', 'SUV')\n",
    "df['EPA Classification'] = df['EPA Classification'].str.replace('Midsizes', 'Midsize')\n",
    "df['EPA Classification'] = df['EPA Classification'].str.replace('2WD Minivans', '2WD Minivan')\n",
    "df['EPA Classification'] = df['EPA Classification'].str.replace('Special Purpose Vehicle', 'Special Purpose')\n",
    "df['EPA Classification'] = df['EPA Classification'].str.replace('Small Station Wagons', 'Small Station Wagon')\n",
    "df['EPA Classification'] = df['EPA Classification'].str.replace('SUV 2WDs', 'SUV 2WD')\n",
    "df['EPA Classification'] = df['EPA Classification'].str.replace('Midsize Sedan', 'Midsize')\n",
    "df['EPA Classification'] = df['EPA Classification'].str.replace('2WD Sport Utililty', 'SUV 2WD')\n",
    "df['EPA Classification'] = df['EPA Classification'].str.replace('FWD SUV', 'SUV 2WD')\n",
    "df['EPA Classification'] = df['EPA Classification'].str.replace('Midsize cars', 'Midsize')\n",
    "df['EPA Classification'] = df['EPA Classification'].str.replace('SUV - AWD', 'SUV 4WD')\n",
    "df['EPA Classification'] = df['EPA Classification'].str.replace('Minicompact Car', 'Minicompact')\n",
    "df['EPA Classification'] = df['EPA Classification'].str.replace('Minicompact Cars ', 'Minicompact')\n",
    "df['EPA Classification'] = df['EPA Classification'].str.replace('Mid-size', 'Midsize')\n",
    "df['EPA Classification'] = df['EPA Classification'].str.replace('FWD Sport Utility', 'SUV 2WD')\n",
    "df['EPA Classification'] = df['EPA Classification'].str.replace('Sub-compact', 'Subcompact')\n",
    "df['EPA Classification'] = df['EPA Classification'].str.replace('SUVs', 'SUV')\n",
    "df['EPA Classification'] = df['EPA Classification'].str.replace('2 Seater', 'Two Seater')\n",
    "df['EPA Classification'] = df['EPA Classification'].str.replace('SUV 4WD Vehicle', 'SUV 4WD')\n",
    "df['EPA Classification'] = df['EPA Classification'].str.replace('2WD sport Utility Vehicle', 'SUV 2WD')\n",
    "df['EPA Classification'] = df['EPA Classification'].str.replace('Sport Utility', 'SUV')\n",
    "df['EPA Classification'] = df['EPA Classification'].str.replace('MidSize Cars', 'Midsize')\n",
    "df['EPA Classification'] = df['EPA Classification'].str.replace('Small station wagon', 'Small Station Wagon')\n",
    "df['EPA Classification'] = df['EPA Classification'].str.replace('Minicompacts Car', 'Minicompact')\n",
    "df['EPA Classification'] = df['EPA Classification'].str.replace('Sub Compact', 'Subcompact')\n",
    "df['EPA Classification'] = df['EPA Classification'].str.replace('Mini-compact', 'Minicompact')\n",
    "df['EPA Classification'] = df['EPA Classification'].str.replace('SUV 4WDs', 'SUV 4WD')\n",
    "df['EPA Classification'] = df['EPA Classification'].str.replace('large', 'Large')\n",
    "df['EPA Classification'] = df['EPA Classification'].str.replace('Two seaters', 'Two Seater')\n",
    "df['EPA Classification'] = df['EPA Classification'].str.replace('Midsize sedan', 'Midsize')\n",
    "df['EPA Classification'] = df['EPA Classification'].str.replace('Subcompacts', 'Subcompact')\n",
    "df['EPA Classification'] = df['EPA Classification'].str.replace('Compact Car', 'Compact')\n",
    "df['EPA Classification'] = df['EPA Classification'].str.replace('Midsize Station Wagons', 'Midsize Station Wagon')\n",
    "df['EPA Classification'] = df['EPA Classification'].str.replace('Two seater', 'Two Seater')\n",
    "df['EPA Classification'] = df['EPA Classification'].str.replace('4WD sport Utility Vehicle', 'SUV 4WD')\n",
    "df['EPA Classification'] = df['EPA Classification'].str.replace('Compact Sedan', 'Compact')\n",
    "df['EPA Classification'] = df['EPA Classification'].str.replace('Large car', 'Large')\n",
    "df['EPA Classification'] = df['EPA Classification'].str.replace('Subcompact Car', 'Subcompact')\n",
    "df['EPA Classification'] = df['EPA Classification'].str.replace('Two Seaters', 'Two Seater')\n",
    "df['EPA Classification'] = df['EPA Classification'].str.replace('Minivan - 2WD', '2WD Minivan')\n",
    "df['EPA Classification'] = df['EPA Classification'].str.replace('4WD Minivans', '4WD Minivan')\n",
    "df['EPA Classification'] = df['EPA Classification'].str.replace('2WD Special Purpose', 'Special Purpose 2WD')\n",
    "df['EPA Classification'] = df['EPA Classification'].str.replace('Midsize S/W', 'Midsize Station Wagon')\n",
    "df['EPA Classification'] = df['EPA Classification'].str.replace('Midsize Wagon', 'Midsize Station Wagon')\n",
    "df['EPA Classification'] = df['EPA Classification'].str.replace('2WD Van', '2WD Minivan')\n",
    "df['EPA Classification'] = df['EPA Classification'].str.replace('Minicompacts', 'Minicompact')\n",
    "df.loc[df['EPA Classification'] == 'Full Size', 'EPA Classification'] = 'Midsize'\n",
    "df.loc[df['EPA Classification'] == 'Wagon', 'EPA Classification'] = 'Small Station Wagon'\n",
    "df.loc[df['EPA Classification'] == 'Small SUV', 'EPA Classification'] = 'SUV'\n",
    "df.loc[df['EPA Classification'] == 'Pickup Trucks', 'EPA Classification'] = np.nan\n",
    "df.loc[df['EPA Classification'] == 'Light-Duty Truck', 'EPA Classification'] = np.nan\n",
    "df.loc[df['EPA Classification'] == '4WD Pickup Trucks', 'EPA Classification'] = np.nan\n",
    "df.loc[df['EPA Classification'] == '4WD Standard Pickup Truck', 'EPA Classification'] = np.nan"
   ]
  },
  {
   "cell_type": "code",
   "execution_count": 71,
   "metadata": {
    "scrolled": true
   },
   "outputs": [
    {
     "data": {
      "text/plain": [
       "Compact                  4110\n",
       "Midsize                  3604\n",
       "SUV 4WD                  2150\n",
       "Subcompact               1766\n",
       "Large                    1628\n",
       "SUV 2WD                  1285\n",
       "Small SUV 4WD            1258\n",
       "Two Seater               1078\n",
       "Small SUV 2WD             881\n",
       "Small Station Wagon       836\n",
       "Minicompact               612\n",
       "Midsize Station Wagon     479\n",
       "2WD Minivan               407\n",
       "SUV                       398\n",
       "Special Purpose           101\n",
       "Special Purpose 2WD        85\n",
       "4WD Minivan                60\n",
       "4WD Special Purpose        10\n",
       "Name: EPA Classification, dtype: int64"
      ]
     },
     "execution_count": 71,
     "metadata": {},
     "output_type": "execute_result"
    }
   ],
   "source": [
    "df['EPA Classification'].value_counts()"
   ]
  },
  {
   "cell_type": "code",
   "execution_count": 72,
   "metadata": {},
   "outputs": [
    {
     "data": {
      "text/plain": [
       "Text(0,0.5,'Count')"
      ]
     },
     "execution_count": 72,
     "metadata": {},
     "output_type": "execute_result"
    },
    {
     "data": {
      "image/png": "[encoded data removed]",
      "text/plain": [
       "<Figure size 432x288 with 1 Axes>"
      ]
     },
     "metadata": {
      "needs_background": "light"
     },
     "output_type": "display_data"
    }
   ],
   "source": [
    "df['EPA Classification'].value_counts().plot(kind='bar')\n",
    "plt.title('EPA Class Count')\n",
    "plt.ylabel('Count')"
   ]
  },
  {
   "cell_type": "code",
   "execution_count": 73,
   "metadata": {},
   "outputs": [
    {
     "data": {
      "text/plain": [
       "10990"
      ]
     },
     "execution_count": 73,
     "metadata": {},
     "output_type": "execute_result"
    }
   ],
   "source": [
    "df['EPA Classification'].isnull().sum()"
   ]
  },
  {
   "cell_type": "markdown",
   "metadata": {},
   "source": [
    "#### `Front shoulder room`"
   ]
  },
  {
   "cell_type": "code",
   "execution_count": 74,
   "metadata": {},
   "outputs": [
    {
     "data": {
      "text/plain": [
       "1335"
      ]
     },
     "execution_count": 74,
     "metadata": {},
     "output_type": "execute_result"
    }
   ],
   "source": [
    "df['Front Shoulder Room (in)'].isnull().sum()"
   ]
  },
  {
   "cell_type": "code",
   "execution_count": 75,
   "metadata": {},
   "outputs": [],
   "source": [
    "df['Front Shoulder Room (in)'] =df['Front Shoulder Room (in)'].astype(float)"
   ]
  },
  {
   "cell_type": "code",
   "execution_count": 76,
   "metadata": {},
   "outputs": [
    {
     "name": "stderr",
     "output_type": "stream",
     "text": [
      "C:\\Users\\Nicolas\\Anaconda3\\lib\\site-packages\\scipy\\stats\\stats.py:1713: FutureWarning: Using a non-tuple sequence for multidimensional indexing is deprecated; use `arr[tuple(seq)]` instead of `arr[seq]`. In the future this will be interpreted as an array index, `arr[np.array(seq)]`, which will result either in an error or a different result.\n",
      "  return np.add.reduce(sorted[indexer] * weights, axis=axis) / sumval\n"
     ]
    },
    {
     "data": {
      "text/plain": [
       "<matplotlib.axes._subplots.AxesSubplot at 0x1a34cff5d68>"
      ]
     },
     "execution_count": 76,
     "metadata": {},
     "output_type": "execute_result"
    },
    {
     "data": {
      "image/png": "[encoded data removed]",
      "text/plain": [
       "<Figure size 432x288 with 1 Axes>"
      ]
     },
     "metadata": {
      "needs_background": "light"
     },
     "output_type": "display_data"
    }
   ],
   "source": [
    "sns.distplot(df['Front Shoulder Room (in)'].dropna(), color='green')"
   ]
  },
  {
   "cell_type": "markdown",
   "metadata": {},
   "source": [
    "Outlier?"
   ]
  },
  {
   "cell_type": "code",
   "execution_count": 77,
   "metadata": {},
   "outputs": [
    {
     "data": {
      "text/plain": [
       "Sport Utility                                        1359\n",
       "Crew Cab Pickup - Standard Bed - Short Bed           1225\n",
       "Crew Cab Pickup - Standard Bed - Standard Bed        1196\n",
       "Regular Cab Pickup - Long Bed                         697\n",
       "Extended Cab Pickup - Standard Bed - Long Bed         692\n",
       "Extended Cab Pickup - Standard Bed - Short Bed        637\n",
       "Crew Cab Pickup - Standard Bed - Long Bed             617\n",
       "Extended Cab Pickup - Standard Bed - Standard Bed     584\n",
       "Mini-van, Passenger                                   445\n",
       "Regular Cab Pickup - Standard Bed                     281\n",
       "Full-size Passenger Van                               278\n",
       "Full-size Cargo Van                                   267\n",
       "Regular Cab Pickup - Short Bed                        183\n",
       "Specialty Vehicle                                     116\n",
       "Mini-van, Cargo                                        42\n",
       "Name: Body Style, dtype: int64"
      ]
     },
     "execution_count": 77,
     "metadata": {},
     "output_type": "execute_result"
    }
   ],
   "source": [
    "df.loc[df['Front Shoulder Room (in)'] > 62]['Body Style'].value_counts()"
   ]
  },
  {
   "cell_type": "markdown",
   "metadata": {},
   "source": [
    "Nah it's only pickups and trucks"
   ]
  },
  {
   "cell_type": "code",
   "execution_count": 78,
   "metadata": {},
   "outputs": [],
   "source": [
    "df['Front Shoulder Room (in)'] = df['Front Shoulder Room (in)'].astype(float)"
   ]
  },
  {
   "cell_type": "markdown",
   "metadata": {},
   "source": [
    "#### `Front head room`"
   ]
  },
  {
   "cell_type": "code",
   "execution_count": 79,
   "metadata": {},
   "outputs": [],
   "source": [
    "df['Front Head Room (in)'] = df['Front Head Room (in)'].astype(float)"
   ]
  },
  {
   "cell_type": "code",
   "execution_count": 80,
   "metadata": {
    "scrolled": true
   },
   "outputs": [
    {
     "name": "stderr",
     "output_type": "stream",
     "text": [
      "C:\\Users\\Nicolas\\Anaconda3\\lib\\site-packages\\scipy\\stats\\stats.py:1713: FutureWarning: Using a non-tuple sequence for multidimensional indexing is deprecated; use `arr[tuple(seq)]` instead of `arr[seq]`. In the future this will be interpreted as an array index, `arr[np.array(seq)]`, which will result either in an error or a different result.\n",
      "  return np.add.reduce(sorted[indexer] * weights, axis=axis) / sumval\n"
     ]
    },
    {
     "data": {
      "text/plain": [
       "<matplotlib.axes._subplots.AxesSubplot at 0x1a3317c0128>"
      ]
     },
     "execution_count": 80,
     "metadata": {},
     "output_type": "execute_result"
    },
    {
     "data": {
      "image/png": "[encoded data removed]",
      "text/plain": [
       "<Figure size 432x288 with 1 Axes>"
      ]
     },
     "metadata": {
      "needs_background": "light"
     },
     "output_type": "display_data"
    }
   ],
   "source": [
    "sns.distplot(df['Front Head Room (in)'].dropna(), color='green')"
   ]
  },
  {
   "cell_type": "markdown",
   "metadata": {},
   "source": [
    "Inspecting apparent outliers"
   ]
  },
  {
   "cell_type": "code",
   "execution_count": 81,
   "metadata": {
    "scrolled": true
   },
   "outputs": [
    {
     "data": {
      "text/plain": [
       "Mini-van, Passenger        3\n",
       "Full-size Passenger Van    2\n",
       "Name: Body Style, dtype: int64"
      ]
     },
     "execution_count": 81,
     "metadata": {},
     "output_type": "execute_result"
    }
   ],
   "source": [
    "df.loc[df['Front Head Room (in)'] > 45].head()['Body Style'].value_counts()"
   ]
  },
  {
   "cell_type": "markdown",
   "metadata": {},
   "source": [
    "#### `Second leg room`"
   ]
  },
  {
   "cell_type": "code",
   "execution_count": 82,
   "metadata": {},
   "outputs": [
    {
     "data": {
      "text/plain": [
       "4551"
      ]
     },
     "execution_count": 82,
     "metadata": {},
     "output_type": "execute_result"
    }
   ],
   "source": [
    "df['Second Leg Room (in)'].isnull().sum()"
   ]
  },
  {
   "cell_type": "code",
   "execution_count": 83,
   "metadata": {},
   "outputs": [],
   "source": [
    "df['Second Leg Room (in)'] = df['Second Leg Room (in)'].str.strip('-TBD-').replace(r'^\\s*$', \n",
    "                                                            np.nan, regex=True).astype(float)"
   ]
  },
  {
   "cell_type": "code",
   "execution_count": 84,
   "metadata": {},
   "outputs": [
    {
     "data": {
      "text/plain": [
       "Series([], Name: Second Leg Room (in), dtype: float64)"
      ]
     },
     "execution_count": 84,
     "metadata": {},
     "output_type": "execute_result"
    }
   ],
   "source": [
    "df[df['Second Leg Room (in)'].apply(lambda x: len(str(x)) >= 6)]['Second Leg Room (in)']"
   ]
  },
  {
   "cell_type": "code",
   "execution_count": 85,
   "metadata": {},
   "outputs": [
    {
     "name": "stderr",
     "output_type": "stream",
     "text": [
      "C:\\Users\\Nicolas\\Anaconda3\\lib\\site-packages\\scipy\\stats\\stats.py:1713: FutureWarning: Using a non-tuple sequence for multidimensional indexing is deprecated; use `arr[tuple(seq)]` instead of `arr[seq]`. In the future this will be interpreted as an array index, `arr[np.array(seq)]`, which will result either in an error or a different result.\n",
      "  return np.add.reduce(sorted[indexer] * weights, axis=axis) / sumval\n"
     ]
    },
    {
     "data": {
      "text/plain": [
       "<matplotlib.axes._subplots.AxesSubplot at 0x1a34db30d30>"
      ]
     },
     "execution_count": 85,
     "metadata": {},
     "output_type": "execute_result"
    },
    {
     "data": {
      "image/png": "[encoded data removed]",
      "text/plain": [
       "<Figure size 432x288 with 1 Axes>"
      ]
     },
     "metadata": {
      "needs_background": "light"
     },
     "output_type": "display_data"
    }
   ],
   "source": [
    "sns.distplot(df['Second Leg Room (in)'].dropna(), color='purple')"
   ]
  },
  {
   "cell_type": "markdown",
   "metadata": {},
   "source": [
    "#### `Front leg room`"
   ]
  },
  {
   "cell_type": "code",
   "execution_count": 86,
   "metadata": {},
   "outputs": [
    {
     "data": {
      "text/plain": [
       "1298"
      ]
     },
     "execution_count": 86,
     "metadata": {},
     "output_type": "execute_result"
    }
   ],
   "source": [
    "df['Front Leg Room (in)'].isnull().sum()"
   ]
  },
  {
   "cell_type": "code",
   "execution_count": 87,
   "metadata": {},
   "outputs": [],
   "source": [
    "df['Front Leg Room (in)'] = df['Front Leg Room (in)'].astype(float)"
   ]
  },
  {
   "cell_type": "code",
   "execution_count": 88,
   "metadata": {
    "scrolled": true
   },
   "outputs": [
    {
     "name": "stderr",
     "output_type": "stream",
     "text": [
      "C:\\Users\\Nicolas\\Anaconda3\\lib\\site-packages\\scipy\\stats\\stats.py:1713: FutureWarning: Using a non-tuple sequence for multidimensional indexing is deprecated; use `arr[tuple(seq)]` instead of `arr[seq]`. In the future this will be interpreted as an array index, `arr[np.array(seq)]`, which will result either in an error or a different result.\n",
      "  return np.add.reduce(sorted[indexer] * weights, axis=axis) / sumval\n"
     ]
    },
    {
     "data": {
      "text/plain": [
       "<matplotlib.axes._subplots.AxesSubplot at 0x1a34d7459b0>"
      ]
     },
     "execution_count": 88,
     "metadata": {},
     "output_type": "execute_result"
    },
    {
     "data": {
      "image/png": "[encoded data removed]",
      "text/plain": [
       "<Figure size 432x288 with 1 Axes>"
      ]
     },
     "metadata": {
      "needs_background": "light"
     },
     "output_type": "display_data"
    }
   ],
   "source": [
    "sns.distplot(df['Front Leg Room (in)'].dropna(), color='navy')"
   ]
  },
  {
   "cell_type": "code",
   "execution_count": 89,
   "metadata": {},
   "outputs": [
    {
     "data": {
      "text/plain": [
       "2011 BMW 5-Series 5-Door 550i Gran Turismo RWD           59.3\n",
       "2011 BMW 5-Series 5-Door 535i Gran Turismo RWD           59.3\n",
       "2011 BMW 5-Series 5-Door 550i xDrive Gran Turismo AWD    59.3\n",
       "2011 BMW 5-Series 5-Door 535i xDrive Gran Turismo AWD    59.3\n",
       "2019 Kia Sedona EX FWD                                   63.9\n",
       "Name: Front Leg Room (in), dtype: float64"
      ]
     },
     "execution_count": 89,
     "metadata": {},
     "output_type": "execute_result"
    }
   ],
   "source": [
    "df.loc[df['Front Leg Room (in)'] > 50].head()['Front Leg Room (in)']"
   ]
  },
  {
   "cell_type": "code",
   "execution_count": 90,
   "metadata": {},
   "outputs": [],
   "source": [
    "df['Front Leg Room (in)'] = df['Front Leg Room (in)'].clip(upper=45)"
   ]
  },
  {
   "cell_type": "markdown",
   "metadata": {},
   "source": [
    "#### `Second shoulder room`"
   ]
  },
  {
   "cell_type": "code",
   "execution_count": 91,
   "metadata": {},
   "outputs": [],
   "source": [
    "df['Second Shoulder Room (in)'] = df['Second Shoulder Room (in)'].str.replace('-TBD-', '').replace(r'^\\s*$', \n",
    "                                                            np.nan, regex=True).astype(float)"
   ]
  },
  {
   "cell_type": "code",
   "execution_count": 92,
   "metadata": {},
   "outputs": [
    {
     "name": "stderr",
     "output_type": "stream",
     "text": [
      "C:\\Users\\Nicolas\\Anaconda3\\lib\\site-packages\\scipy\\stats\\stats.py:1713: FutureWarning: Using a non-tuple sequence for multidimensional indexing is deprecated; use `arr[tuple(seq)]` instead of `arr[seq]`. In the future this will be interpreted as an array index, `arr[np.array(seq)]`, which will result either in an error or a different result.\n",
      "  return np.add.reduce(sorted[indexer] * weights, axis=axis) / sumval\n"
     ]
    },
    {
     "data": {
      "text/plain": [
       "<matplotlib.axes._subplots.AxesSubplot at 0x1a35015e898>"
      ]
     },
     "execution_count": 92,
     "metadata": {},
     "output_type": "execute_result"
    },
    {
     "data": {
      "image/png": "[encoded data removed]",
      "text/plain": [
       "<Figure size 432x288 with 1 Axes>"
      ]
     },
     "metadata": {
      "needs_background": "light"
     },
     "output_type": "display_data"
    }
   ],
   "source": [
    "sns.distplot(df['Second Shoulder Room (in)'].dropna(), color='yellowgreen')"
   ]
  },
  {
   "cell_type": "code",
   "execution_count": 93,
   "metadata": {},
   "outputs": [
    {
     "data": {
      "text/plain": [
       "2011 Ford Ranger 2WD 2-Door SuperCab 126\" Sport    14.1\n",
       "2011 Ford Ranger 4WD 4-Door SuperCab 126\" XLT      14.1\n",
       "2011 Ford Ranger 4WD 4-Door SuperCab 126\" Sport    14.1\n",
       "2011 Ford Ranger 2WD 4-Door SuperCab 126\" XLT      14.1\n",
       "2011 Ford Ranger 2WD 4-Door SuperCab 126\" Sport    14.1\n",
       "Name: Second Shoulder Room (in), dtype: float64"
      ]
     },
     "execution_count": 93,
     "metadata": {},
     "output_type": "execute_result"
    }
   ],
   "source": [
    "df.loc[df['Second Shoulder Room (in)'] < 40].head()['Second Shoulder Room (in)']"
   ]
  },
  {
   "cell_type": "code",
   "execution_count": 94,
   "metadata": {},
   "outputs": [],
   "source": [
    "df['Second Shoulder Room (in)'].clip(lower=40, inplace=True)"
   ]
  },
  {
   "cell_type": "markdown",
   "metadata": {},
   "source": [
    "#### `Second head room`"
   ]
  },
  {
   "cell_type": "code",
   "execution_count": 95,
   "metadata": {},
   "outputs": [],
   "source": [
    "df['Second Head Room (in)'] = df['Second Head Room (in)'].str.replace('-TBD-', '').replace(r'^\\s*$', \n",
    "                                                            np.nan, regex=True).astype(float)"
   ]
  },
  {
   "cell_type": "code",
   "execution_count": 96,
   "metadata": {
    "scrolled": true
   },
   "outputs": [
    {
     "name": "stderr",
     "output_type": "stream",
     "text": [
      "C:\\Users\\Nicolas\\Anaconda3\\lib\\site-packages\\scipy\\stats\\stats.py:1713: FutureWarning: Using a non-tuple sequence for multidimensional indexing is deprecated; use `arr[tuple(seq)]` instead of `arr[seq]`. In the future this will be interpreted as an array index, `arr[np.array(seq)]`, which will result either in an error or a different result.\n",
      "  return np.add.reduce(sorted[indexer] * weights, axis=axis) / sumval\n"
     ]
    },
    {
     "data": {
      "text/plain": [
       "<matplotlib.axes._subplots.AxesSubplot at 0x1a3502081d0>"
      ]
     },
     "execution_count": 96,
     "metadata": {},
     "output_type": "execute_result"
    },
    {
     "data": {
      "image/png": "[encoded data removed]",
      "text/plain": [
       "<Figure size 432x288 with 1 Axes>"
      ]
     },
     "metadata": {
      "needs_background": "light"
     },
     "output_type": "display_data"
    }
   ],
   "source": [
    "sns.distplot(df['Second Head Room (in)'].dropna(), color='magenta')"
   ]
  },
  {
   "cell_type": "code",
   "execution_count": 97,
   "metadata": {},
   "outputs": [],
   "source": [
    "df['Second Head Room (in)'].clip(upper=43, inplace=True)"
   ]
  },
  {
   "cell_type": "markdown",
   "metadata": {},
   "source": [
    "#### `Height`"
   ]
  },
  {
   "cell_type": "code",
   "execution_count": 98,
   "metadata": {},
   "outputs": [],
   "source": [
    "df['Height, Overall (in)'] = df['Height, Overall (in)'].str.split().str.get(0).astype(float)"
   ]
  },
  {
   "cell_type": "code",
   "execution_count": 99,
   "metadata": {
    "scrolled": true
   },
   "outputs": [
    {
     "name": "stderr",
     "output_type": "stream",
     "text": [
      "C:\\Users\\Nicolas\\Anaconda3\\lib\\site-packages\\scipy\\stats\\stats.py:1713: FutureWarning: Using a non-tuple sequence for multidimensional indexing is deprecated; use `arr[tuple(seq)]` instead of `arr[seq]`. In the future this will be interpreted as an array index, `arr[np.array(seq)]`, which will result either in an error or a different result.\n",
      "  return np.add.reduce(sorted[indexer] * weights, axis=axis) / sumval\n"
     ]
    },
    {
     "data": {
      "text/plain": [
       "<matplotlib.axes._subplots.AxesSubplot at 0x1a3501be0b8>"
      ]
     },
     "execution_count": 99,
     "metadata": {},
     "output_type": "execute_result"
    },
    {
     "data": {
      "image/png": "[encoded data removed]",
      "text/plain": [
       "<Figure size 432x288 with 1 Axes>"
      ]
     },
     "metadata": {
      "needs_background": "light"
     },
     "output_type": "display_data"
    }
   ],
   "source": [
    "sns.distplot(df['Height, Overall (in)'].dropna(), color='olivedrab')"
   ]
  },
  {
   "cell_type": "code",
   "execution_count": 100,
   "metadata": {},
   "outputs": [
    {
     "data": {
      "text/plain": [
       "Full-size Cargo Van                  221\n",
       "Full-size Passenger Van               39\n",
       "Mini-van, Cargo                       18\n",
       "Specialty Vehicle                     12\n",
       "Regular Cab Pickup - Standard Bed      8\n",
       "Name: Body Style, dtype: int64"
      ]
     },
     "execution_count": 100,
     "metadata": {},
     "output_type": "execute_result"
    }
   ],
   "source": [
    "df.loc[df['Height, Overall (in)'] > 90]['Body Style'].value_counts()"
   ]
  },
  {
   "cell_type": "code",
   "execution_count": 101,
   "metadata": {},
   "outputs": [
    {
     "data": {
      "text/plain": [
       "432291.81481481483"
      ]
     },
     "execution_count": 101,
     "metadata": {},
     "output_type": "execute_result"
    }
   ],
   "source": [
    "df.loc[df['Height, Overall (in)'] < 45]['MSRP'].mean()"
   ]
  },
  {
   "cell_type": "code",
   "execution_count": 102,
   "metadata": {},
   "outputs": [
    {
     "data": {
      "text/plain": [
       "Text(0.5,1,'MSRP vs. Height')"
      ]
     },
     "execution_count": 102,
     "metadata": {},
     "output_type": "execute_result"
    },
    {
     "data": {
      "image/png": "[encoded data removed]",
      "text/plain": [
       "<Figure size 432x288 with 1 Axes>"
      ]
     },
     "metadata": {
      "needs_background": "light"
     },
     "output_type": "display_data"
    }
   ],
   "source": [
    "fig = plt.figure()\n",
    "ax = plt.gca()\n",
    "ax.scatter(df['MSRP'], df['Height, Overall (in)'] , c='orange', alpha=1)\n",
    "plt.xlabel('MSRP ($)')\n",
    "plt.ylabel('Height (in)')\n",
    "plt.title('MSRP vs. Height')"
   ]
  },
  {
   "cell_type": "markdown",
   "metadata": {},
   "source": [
    "#### `Wheelbase`"
   ]
  },
  {
   "cell_type": "code",
   "execution_count": 103,
   "metadata": {},
   "outputs": [],
   "source": [
    "df['Wheelbase (in)'] = df['Wheelbase (in)'].astype(float)"
   ]
  },
  {
   "cell_type": "code",
   "execution_count": 104,
   "metadata": {
    "scrolled": true
   },
   "outputs": [
    {
     "name": "stderr",
     "output_type": "stream",
     "text": [
      "C:\\Users\\Nicolas\\Anaconda3\\lib\\site-packages\\scipy\\stats\\stats.py:1713: FutureWarning: Using a non-tuple sequence for multidimensional indexing is deprecated; use `arr[tuple(seq)]` instead of `arr[seq]`. In the future this will be interpreted as an array index, `arr[np.array(seq)]`, which will result either in an error or a different result.\n",
      "  return np.add.reduce(sorted[indexer] * weights, axis=axis) / sumval\n"
     ]
    },
    {
     "data": {
      "text/plain": [
       "<matplotlib.axes._subplots.AxesSubplot at 0x1a350131940>"
      ]
     },
     "execution_count": 104,
     "metadata": {},
     "output_type": "execute_result"
    },
    {
     "data": {
      "image/png": "[encoded data removed]",
      "text/plain": [
       "<Figure size 432x288 with 1 Axes>"
      ]
     },
     "metadata": {
      "needs_background": "light"
     },
     "output_type": "display_data"
    }
   ],
   "source": [
    "sns.distplot(df['Wheelbase (in)'].dropna(), color='darkcyan')"
   ]
  },
  {
   "cell_type": "code",
   "execution_count": 105,
   "metadata": {
    "scrolled": true
   },
   "outputs": [
    {
     "data": {
      "text/plain": [
       "Smart    63\n",
       "Name: Make, dtype: int64"
      ]
     },
     "execution_count": 105,
     "metadata": {},
     "output_type": "execute_result"
    }
   ],
   "source": [
    "df.loc[df['Wheelbase (in)'] < 80]['Make'].value_counts()"
   ]
  },
  {
   "cell_type": "markdown",
   "metadata": {},
   "source": [
    "#### `Width`"
   ]
  },
  {
   "cell_type": "code",
   "execution_count": 106,
   "metadata": {},
   "outputs": [],
   "source": [
    "df['Width, Max w/o mirrors (in)'] = df['Width, Max w/o mirrors (in)'].astype(float)"
   ]
  },
  {
   "cell_type": "code",
   "execution_count": 107,
   "metadata": {
    "scrolled": true
   },
   "outputs": [
    {
     "name": "stderr",
     "output_type": "stream",
     "text": [
      "C:\\Users\\Nicolas\\Anaconda3\\lib\\site-packages\\scipy\\stats\\stats.py:1713: FutureWarning: Using a non-tuple sequence for multidimensional indexing is deprecated; use `arr[tuple(seq)]` instead of `arr[seq]`. In the future this will be interpreted as an array index, `arr[np.array(seq)]`, which will result either in an error or a different result.\n",
      "  return np.add.reduce(sorted[indexer] * weights, axis=axis) / sumval\n"
     ]
    },
    {
     "data": {
      "text/plain": [
       "<matplotlib.axes._subplots.AxesSubplot at 0x1a350107080>"
      ]
     },
     "execution_count": 107,
     "metadata": {},
     "output_type": "execute_result"
    },
    {
     "data": {
      "image/png": "[encoded data removed]",
      "text/plain": [
       "<Figure size 432x288 with 1 Axes>"
      ]
     },
     "metadata": {
      "needs_background": "light"
     },
     "output_type": "display_data"
    }
   ],
   "source": [
    "sns.distplot(df['Width, Max w/o mirrors (in)'].dropna(), color='royalblue')"
   ]
  },
  {
   "cell_type": "code",
   "execution_count": 108,
   "metadata": {},
   "outputs": [
    {
     "data": {
      "text/plain": [
       "Grand Cherokee    20\n",
       "F-150             13\n",
       "Taurus            12\n",
       "Ranger            12\n",
       "Edge               6\n",
       "Grand Caravan      2\n",
       "NSX                2\n",
       "Cullinan           1\n",
       "Name: Model, dtype: int64"
      ]
     },
     "execution_count": 108,
     "metadata": {},
     "output_type": "execute_result"
    }
   ],
   "source": [
    "df.loc[df['Width, Max w/o mirrors (in)'] > 84]['Model'].value_counts()"
   ]
  },
  {
   "cell_type": "code",
   "execution_count": 109,
   "metadata": {},
   "outputs": [],
   "source": [
    "df['Width, Max w/o mirrors (in)'].clip(upper=83, inplace=True)"
   ]
  },
  {
   "cell_type": "markdown",
   "metadata": {},
   "source": [
    "#### `Fuel tank capacity`"
   ]
  },
  {
   "cell_type": "code",
   "execution_count": 110,
   "metadata": {},
   "outputs": [],
   "source": [
    "df['Fuel Tank Capacity, Approx (gal)'] = df['Fuel Tank Capacity, Approx (gal)'].str.replace('GGE', '').astype(float)"
   ]
  },
  {
   "cell_type": "code",
   "execution_count": 111,
   "metadata": {},
   "outputs": [
    {
     "name": "stderr",
     "output_type": "stream",
     "text": [
      "C:\\Users\\Nicolas\\Anaconda3\\lib\\site-packages\\scipy\\stats\\stats.py:1713: FutureWarning: Using a non-tuple sequence for multidimensional indexing is deprecated; use `arr[tuple(seq)]` instead of `arr[seq]`. In the future this will be interpreted as an array index, `arr[np.array(seq)]`, which will result either in an error or a different result.\n",
      "  return np.add.reduce(sorted[indexer] * weights, axis=axis) / sumval\n"
     ]
    },
    {
     "data": {
      "text/plain": [
       "<matplotlib.axes._subplots.AxesSubplot at 0x1a3500bbfd0>"
      ]
     },
     "execution_count": 111,
     "metadata": {},
     "output_type": "execute_result"
    },
    {
     "data": {
      "image/png": "[encoded data removed]",
      "text/plain": [
       "<Figure size 432x288 with 1 Axes>"
      ]
     },
     "metadata": {
      "needs_background": "light"
     },
     "output_type": "display_data"
    }
   ],
   "source": [
    "sns.distplot(df['Fuel Tank Capacity, Approx (gal)'].dropna(), color='darkviolet')"
   ]
  },
  {
   "cell_type": "code",
   "execution_count": 112,
   "metadata": {},
   "outputs": [
    {
     "data": {
      "text/plain": [
       "Crew Cab Pickup - Standard Bed - Long Bed    29\n",
       "Sport Utility                                 2\n",
       "Name: Body Style, dtype: int64"
      ]
     },
     "execution_count": 112,
     "metadata": {},
     "output_type": "execute_result"
    }
   ],
   "source": [
    "df.loc[df['Fuel Tank Capacity, Approx (gal)'] > 40]['Body Style'].value_counts()"
   ]
  },
  {
   "cell_type": "code",
   "execution_count": 113,
   "metadata": {
    "scrolled": true
   },
   "outputs": [
    {
     "name": "stderr",
     "output_type": "stream",
     "text": [
      "C:\\Users\\Nicolas\\Anaconda3\\lib\\site-packages\\numpy\\core\\fromnumeric.py:51: FutureWarning: 'argmin' is deprecated, use 'idxmin' instead. The behavior of 'argmin'\n",
      "will be corrected to return the positional minimum in the future.\n",
      "Use 'series.values.argmin' to get the position of the minimum now.\n",
      "  return getattr(obj, method)(*args, **kwds)\n"
     ]
    },
    {
     "data": {
      "text/plain": [
       "'2016 BMW i3 4-Door HB w/Range Extender'"
      ]
     },
     "execution_count": 113,
     "metadata": {},
     "output_type": "execute_result"
    }
   ],
   "source": [
    "np.argmin(df['Fuel Tank Capacity, Approx (gal)'])"
   ]
  },
  {
   "cell_type": "markdown",
   "metadata": {},
   "source": [
    "#### `Fuel economy highway`"
   ]
  },
  {
   "cell_type": "code",
   "execution_count": 114,
   "metadata": {},
   "outputs": [],
   "source": [
    "df['EPA Fuel Economy Est - Hwy (MPG)'] = df['EPA Fuel Economy Est - Hwy (MPG)'].str.split().str.get(0).astype(float)"
   ]
  },
  {
   "cell_type": "code",
   "execution_count": 115,
   "metadata": {
    "scrolled": true
   },
   "outputs": [
    {
     "name": "stderr",
     "output_type": "stream",
     "text": [
      "C:\\Users\\Nicolas\\Anaconda3\\lib\\site-packages\\scipy\\stats\\stats.py:1713: FutureWarning: Using a non-tuple sequence for multidimensional indexing is deprecated; use `arr[tuple(seq)]` instead of `arr[seq]`. In the future this will be interpreted as an array index, `arr[np.array(seq)]`, which will result either in an error or a different result.\n",
      "  return np.add.reduce(sorted[indexer] * weights, axis=axis) / sumval\n"
     ]
    },
    {
     "data": {
      "text/plain": [
       "<matplotlib.axes._subplots.AxesSubplot at 0x1a35000f160>"
      ]
     },
     "execution_count": 115,
     "metadata": {},
     "output_type": "execute_result"
    },
    {
     "data": {
      "image/png": "[encoded data removed]",
      "text/plain": [
       "<Figure size 432x288 with 1 Axes>"
      ]
     },
     "metadata": {
      "needs_background": "light"
     },
     "output_type": "display_data"
    }
   ],
   "source": [
    "sns.distplot(df['EPA Fuel Economy Est - Hwy (MPG)'].dropna(), color='dodgerblue')"
   ]
  },
  {
   "cell_type": "code",
   "execution_count": 116,
   "metadata": {},
   "outputs": [],
   "source": [
    "temp_df = df.loc[:, ['MSRP', 'Country']]\n",
    "temp_df['MSRP'].clip(upper=2e5, inplace=True)"
   ]
  },
  {
   "cell_type": "code",
   "execution_count": 117,
   "metadata": {},
   "outputs": [
    {
     "name": "stderr",
     "output_type": "stream",
     "text": [
      "C:\\Users\\Nicolas\\Anaconda3\\lib\\site-packages\\statsmodels\\nonparametric\\kde.py:448: RuntimeWarning: invalid value encountered in greater\n",
      "  X = X[np.logical_and(X > clip[0], X < clip[1])] # won't work for two columns.\n",
      "C:\\Users\\Nicolas\\Anaconda3\\lib\\site-packages\\statsmodels\\nonparametric\\kde.py:448: RuntimeWarning: invalid value encountered in less\n",
      "  X = X[np.logical_and(X > clip[0], X < clip[1])] # won't work for two columns.\n",
      "C:\\Users\\Nicolas\\Anaconda3\\lib\\site-packages\\scipy\\stats\\stats.py:1713: FutureWarning: Using a non-tuple sequence for multidimensional indexing is deprecated; use `arr[tuple(seq)]` instead of `arr[seq]`. In the future this will be interpreted as an array index, `arr[np.array(seq)]`, which will result either in an error or a different result.\n",
      "  return np.add.reduce(sorted[indexer] * weights, axis=axis) / sumval\n"
     ]
    },
    {
     "data": {
      "text/plain": [
       "<seaborn.axisgrid.PairGrid at 0x1a3500236a0>"
      ]
     },
     "execution_count": 117,
     "metadata": {},
     "output_type": "execute_result"
    },
    {
     "data": {
      "image/png": "[encoded data removed]",
      "text/plain": [
       "<Figure size 589.1x504 with 2 Axes>"
      ]
     },
     "metadata": {
      "needs_background": "light"
     },
     "output_type": "display_data"
    }
   ],
   "source": [
    "sns.pairplot(temp_df, diag_kind='kde', palette=sns.color_palette(\"hls\", 7), hue='Country', height=7)"
   ]
  },
  {
   "cell_type": "markdown",
   "metadata": {},
   "source": [
    "#### `Fuel economy city`"
   ]
  },
  {
   "cell_type": "code",
   "execution_count": 118,
   "metadata": {},
   "outputs": [],
   "source": [
    "df['EPA Fuel Economy Est - City (MPG)'] = df['EPA Fuel Economy Est - City (MPG)'].str.split().str.get(0).astype(float)"
   ]
  },
  {
   "cell_type": "code",
   "execution_count": 119,
   "metadata": {},
   "outputs": [
    {
     "name": "stderr",
     "output_type": "stream",
     "text": [
      "C:\\Users\\Nicolas\\Anaconda3\\lib\\site-packages\\scipy\\stats\\stats.py:1713: FutureWarning: Using a non-tuple sequence for multidimensional indexing is deprecated; use `arr[tuple(seq)]` instead of `arr[seq]`. In the future this will be interpreted as an array index, `arr[np.array(seq)]`, which will result either in an error or a different result.\n",
      "  return np.add.reduce(sorted[indexer] * weights, axis=axis) / sumval\n"
     ]
    },
    {
     "data": {
      "text/plain": [
       "<matplotlib.axes._subplots.AxesSubplot at 0x1a35002a0f0>"
      ]
     },
     "execution_count": 119,
     "metadata": {},
     "output_type": "execute_result"
    },
    {
     "data": {
      "image/png": "[encoded data removed]",
      "text/plain": [
       "<Figure size 432x288 with 1 Axes>"
      ]
     },
     "metadata": {
      "needs_background": "light"
     },
     "output_type": "display_data"
    }
   ],
   "source": [
    "sns.distplot(df['EPA Fuel Economy Est - City (MPG)'].dropna(), color='deeppink')"
   ]
  },
  {
   "cell_type": "code",
   "execution_count": 120,
   "metadata": {},
   "outputs": [
    {
     "data": {
      "text/plain": [
       "1.0    185\n",
       "0.0      1\n",
       "Name: Hybrid Engine, dtype: int64"
      ]
     },
     "execution_count": 120,
     "metadata": {},
     "output_type": "execute_result"
    }
   ],
   "source": [
    "df.loc[df['EPA Fuel Economy Est - City (MPG)'] > 45]['Hybrid Engine'].value_counts()"
   ]
  },
  {
   "cell_type": "markdown",
   "metadata": {},
   "source": [
    "#### `Fuel system`"
   ]
  },
  {
   "cell_type": "code",
   "execution_count": 121,
   "metadata": {},
   "outputs": [
    {
     "data": {
      "text/plain": [
       "Gasoline Direct Injection    5547\n",
       "Sequential MPI               5085\n",
       "Electronic Fuel Injection    3701\n",
       "Direct Injection             2655\n",
       "SFI                          2610\n",
       "SMPI                         2345\n",
       "MPFI                         2012\n",
       "EFI                          1810\n",
       "SEFI                         1075\n",
       "MPI                           824\n",
       "Name: Fuel System, dtype: int64"
      ]
     },
     "execution_count": 121,
     "metadata": {},
     "output_type": "execute_result"
    }
   ],
   "source": [
    "df['Fuel System'].value_counts().head(10)"
   ]
  },
  {
   "cell_type": "code",
   "execution_count": 122,
   "metadata": {},
   "outputs": [],
   "source": [
    "df['Fuel System'] = df['Fuel System'].str.replace('Electronic Fuel Injection', 'EFI')\n",
    "df['Fuel System'] = df['Fuel System'].str.replace('Sequential MPI', 'SMPI')\n",
    "df['Fuel System'] = df['Fuel System'].str.replace('Electronic fuel injection', 'EFI')\n",
    "df['Fuel System'] = df['Fuel System'].str.replace('SEFI', 'SEFI')\n",
    "df['Fuel System'] = df['Fuel System'].str.replace('MFI', 'MPI')\n",
    "df['Fuel System'] = df['Fuel System'].str.replace('MPFI', 'MPI')\n",
    "df['Fuel System'] = df['Fuel System'].str.replace('Electronic Fuel Injectino', 'EFI')"
   ]
  },
  {
   "cell_type": "markdown",
   "metadata": {},
   "source": [
    "#### `Third gear ratio`"
   ]
  },
  {
   "cell_type": "code",
   "execution_count": 123,
   "metadata": {},
   "outputs": [],
   "source": [
    "df['Third Gear Ratio (:1)'] = df['Third Gear Ratio (:1)'].str.replace('-TBD-', '').replace(r'^\\s*$', \n",
    "                                                            np.nan, regex=True).astype(float)"
   ]
  },
  {
   "cell_type": "code",
   "execution_count": 124,
   "metadata": {},
   "outputs": [],
   "source": [
    "df['Third Gear Ratio (:1)'] = df['Third Gear Ratio (:1)'].astype(float)"
   ]
  },
  {
   "cell_type": "code",
   "execution_count": 125,
   "metadata": {},
   "outputs": [
    {
     "data": {
      "text/plain": [
       "Murano          119\n",
       "Altima          104\n",
       "Rogue            98\n",
       "Legacy           89\n",
       "Outback          84\n",
       "Prius            84\n",
       "Pathfinder       76\n",
       "Accord Sedan     74\n",
       "Sentra           72\n",
       "A4               62\n",
       "Titan            60\n",
       "Maxima           58\n",
       "Model S          53\n",
       "Civic Hybrid     52\n",
       "CR-V             50\n",
       "Name: Model, dtype: int64"
      ]
     },
     "execution_count": 125,
     "metadata": {},
     "output_type": "execute_result"
    }
   ],
   "source": [
    "df.loc[df['Third Gear Ratio (:1)'].isnull()]['Model'].value_counts().head(15)"
   ]
  },
  {
   "cell_type": "markdown",
   "metadata": {},
   "source": [
    "#### `First gear ratio`"
   ]
  },
  {
   "cell_type": "code",
   "execution_count": 126,
   "metadata": {},
   "outputs": [],
   "source": [
    "df['First Gear Ratio (:1)'] = df['First Gear Ratio (:1)'].str.split().str.get(0)\n",
    "df['First Gear Ratio (:1)'] = df['First Gear Ratio (:1)'].str.split('-').str.get(0)\n",
    "df['First Gear Ratio (:1)'] = df['First Gear Ratio (:1)'].str.strip('TBD') # not sure here\n",
    "df['First Gear Ratio (:1)'] = df['First Gear Ratio (:1)'].str.replace('-TBD-', '').replace(r'^\\s*$', \n",
    "                                                            np.nan, regex=True).astype(float)"
   ]
  },
  {
   "cell_type": "code",
   "execution_count": 127,
   "metadata": {},
   "outputs": [
    {
     "data": {
      "text/plain": [
       "1872"
      ]
     },
     "execution_count": 127,
     "metadata": {},
     "output_type": "execute_result"
    }
   ],
   "source": [
    "df['First Gear Ratio (:1)'].isnull().sum()"
   ]
  },
  {
   "cell_type": "code",
   "execution_count": 128,
   "metadata": {
    "scrolled": false
   },
   "outputs": [
    {
     "name": "stderr",
     "output_type": "stream",
     "text": [
      "C:\\Users\\Nicolas\\Anaconda3\\lib\\site-packages\\scipy\\stats\\stats.py:1713: FutureWarning: Using a non-tuple sequence for multidimensional indexing is deprecated; use `arr[tuple(seq)]` instead of `arr[seq]`. In the future this will be interpreted as an array index, `arr[np.array(seq)]`, which will result either in an error or a different result.\n",
      "  return np.add.reduce(sorted[indexer] * weights, axis=axis) / sumval\n"
     ]
    },
    {
     "data": {
      "text/plain": [
       "<matplotlib.axes._subplots.AxesSubplot at 0x1a3501fbdd8>"
      ]
     },
     "execution_count": 128,
     "metadata": {},
     "output_type": "execute_result"
    },
    {
     "data": {
      "image/png": "[encoded data removed]",
      "text/plain": [
       "<Figure size 432x288 with 1 Axes>"
      ]
     },
     "metadata": {
      "needs_background": "light"
     },
     "output_type": "display_data"
    }
   ],
   "source": [
    "sns.distplot(df['First Gear Ratio (:1)'].dropna(), color='blueviolet')"
   ]
  },
  {
   "cell_type": "markdown",
   "metadata": {},
   "source": [
    "#### `Fourth gear ratio`"
   ]
  },
  {
   "cell_type": "code",
   "execution_count": 129,
   "metadata": {},
   "outputs": [],
   "source": [
    "df['Fourth Gear Ratio (:1)'] = df['Fourth Gear Ratio (:1)'].str.split('-').str.get(0).str.split('/').str.get(0)\n",
    "df['Fourth Gear Ratio (:1)'] = df['Fourth Gear Ratio (:1)'].str.split().str.get(0).astype(float)"
   ]
  },
  {
   "cell_type": "code",
   "execution_count": 130,
   "metadata": {
    "scrolled": true
   },
   "outputs": [
    {
     "name": "stderr",
     "output_type": "stream",
     "text": [
      "C:\\Users\\Nicolas\\Anaconda3\\lib\\site-packages\\scipy\\stats\\stats.py:1713: FutureWarning: Using a non-tuple sequence for multidimensional indexing is deprecated; use `arr[tuple(seq)]` instead of `arr[seq]`. In the future this will be interpreted as an array index, `arr[np.array(seq)]`, which will result either in an error or a different result.\n",
      "  return np.add.reduce(sorted[indexer] * weights, axis=axis) / sumval\n"
     ]
    },
    {
     "data": {
      "text/plain": [
       "<matplotlib.axes._subplots.AxesSubplot at 0x1a3501cf3c8>"
      ]
     },
     "execution_count": 130,
     "metadata": {},
     "output_type": "execute_result"
    },
    {
     "data": {
      "image/png": "[encoded data removed]",
      "text/plain": [
       "<Figure size 432x288 with 1 Axes>"
      ]
     },
     "metadata": {
      "needs_background": "light"
     },
     "output_type": "display_data"
    }
   ],
   "source": [
    "sns.distplot(df['Fourth Gear Ratio (:1)'].dropna(), color='mediumvioletred')"
   ]
  },
  {
   "cell_type": "code",
   "execution_count": 131,
   "metadata": {},
   "outputs": [],
   "source": [
    "df['Fourth Gear Ratio (:1)'].clip(upper=2.5, inplace=True)"
   ]
  },
  {
   "cell_type": "markdown",
   "metadata": {},
   "source": [
    "#### `Second gear ratio`"
   ]
  },
  {
   "cell_type": "code",
   "execution_count": 132,
   "metadata": {},
   "outputs": [
    {
     "data": {
      "text/plain": [
       "3296"
      ]
     },
     "execution_count": 132,
     "metadata": {},
     "output_type": "execute_result"
    }
   ],
   "source": [
    "df['Second Gear Ratio (:1)'].isnull().sum()"
   ]
  },
  {
   "cell_type": "code",
   "execution_count": 133,
   "metadata": {},
   "outputs": [],
   "source": [
    "df['Second Gear Ratio (:1)'] = df['Second Gear Ratio (:1)'].str.split('-').str.get(0)\n",
    "df['Second Gear Ratio (:1)'] = df['Second Gear Ratio (:1)'].str.split().str.get(0).astype(float)"
   ]
  },
  {
   "cell_type": "code",
   "execution_count": 134,
   "metadata": {},
   "outputs": [
    {
     "name": "stderr",
     "output_type": "stream",
     "text": [
      "C:\\Users\\Nicolas\\Anaconda3\\lib\\site-packages\\scipy\\stats\\stats.py:1713: FutureWarning: Using a non-tuple sequence for multidimensional indexing is deprecated; use `arr[tuple(seq)]` instead of `arr[seq]`. In the future this will be interpreted as an array index, `arr[np.array(seq)]`, which will result either in an error or a different result.\n",
      "  return np.add.reduce(sorted[indexer] * weights, axis=axis) / sumval\n"
     ]
    },
    {
     "data": {
      "text/plain": [
       "<matplotlib.axes._subplots.AxesSubplot at 0x1a34ffd2748>"
      ]
     },
     "execution_count": 134,
     "metadata": {},
     "output_type": "execute_result"
    },
    {
     "data": {
      "image/png": "[encoded data removed]",
      "text/plain": [
       "<Figure size 432x288 with 1 Axes>"
      ]
     },
     "metadata": {
      "needs_background": "light"
     },
     "output_type": "display_data"
    }
   ],
   "source": [
    "sns.distplot(df['Second Gear Ratio (:1)'].dropna(), color='sienna')"
   ]
  },
  {
   "cell_type": "code",
   "execution_count": 135,
   "metadata": {
    "scrolled": true
   },
   "outputs": [
    {
     "data": {
      "text/plain": [
       "2019 Mercedes-Benz A Class A 220 4MATIC Sedan    10.04\n",
       "2019 Mercedes-Benz A Class A 220 Sedan           10.04\n",
       "2005 MINI Cooper 2-Door Coupe                     8.33\n",
       "2005 MINI Cooper 2-Door Coupe S                   7.79\n",
       "2002 MINI Cooper 2-Door Coupe S                   7.18\n",
       "Name: Second Gear Ratio (:1), dtype: float64"
      ]
     },
     "execution_count": 135,
     "metadata": {},
     "output_type": "execute_result"
    }
   ],
   "source": [
    "df.loc[df['Second Gear Ratio (:1)'] > 4]['Second Gear Ratio (:1)']"
   ]
  },
  {
   "cell_type": "markdown",
   "metadata": {},
   "source": [
    "#### `Steering Type`"
   ]
  },
  {
   "cell_type": "code",
   "execution_count": 136,
   "metadata": {},
   "outputs": [
    {
     "data": {
      "text/plain": [
       "58"
      ]
     },
     "execution_count": 136,
     "metadata": {},
     "output_type": "execute_result"
    }
   ],
   "source": [
    "df['Steering Type'].isnull().sum()"
   ]
  },
  {
   "cell_type": "code",
   "execution_count": 137,
   "metadata": {},
   "outputs": [
    {
     "data": {
      "text/plain": [
       "Rack Pinion                                      11457\n",
       "Power Rack Pinion                                11449\n",
       "Power                                             4626\n",
       "Electric Rack Pinion                               937\n",
       "Recirculating Ball                                 747\n",
       "Power Recirculating Ball                           653\n",
       "Variable Assist Power                              239\n",
       "Variable Assist Power Rack Pinion                  217\n",
       "Electric Power                                     174\n",
       "Power Speed Sensitive                              153\n",
       "Electric Power Rack Pinion                         144\n",
       "Variable Assist Power Assist                        89\n",
       "Servotronic Speed Sensitive                         77\n",
       "Power Speed Sensitive Rack Pinion                   77\n",
       "Speed Sensitive                                     76\n",
       "Electric Variable Power Rack Pinion                 76\n",
       "Servotronic                                         55\n",
       "Hydraulic Recirculating Ball                        42\n",
       "Speed Sensitive Rack Pinion                         39\n",
       "Variable Rate Power Rack Pinion                     38\n",
       "Electric                                            38\n",
       "Variable Power Rack Pinion                          32\n",
       "Power Speed Sensitive Recirculating Ball            29\n",
       "Electromechanical                                   26\n",
       "Servotronic Variable Assist Power                   25\n",
       "Variable Effort Power                               22\n",
       "Power Ball And Nut                                  16\n",
       "Power Variable                                      14\n",
       "Power Electric Assist                               14\n",
       "Power Worm & Roller                                 13\n",
       "Hydraulic Power Rack Pinion                         13\n",
       "Performance Rack Pinion                             12\n",
       "Quick Ratio Power Rack Pinion                       11\n",
       "Hydraulic Assist Power                               9\n",
       "Variable Assist Power Recirculating Ball             8\n",
       "Electric Variable Effort Power                       7\n",
       "Performance Tune                                     6\n",
       "Power Rack Pinion W/Electric Variable Assist         5\n",
       "Performance                                          5\n",
       "Hydraulic Power                                      3\n",
       "M Servotronic Variable Assist Power                  2\n",
       "Power Rack Pinion W/Hydraulic Variable Assist        2\n",
       "Servotronic Power Assist                             2\n",
       "4 Wheel Power Rack Pinion                            1\n",
       "Name: Steering Type, dtype: int64"
      ]
     },
     "execution_count": 137,
     "metadata": {},
     "output_type": "execute_result"
    }
   ],
   "source": [
    "df['Steering Type'] = df['Steering Type'].str.title().str.replace('Pwr', 'Power').str.replace('Rack & Pinion', 'Rack-Pinion')\n",
    "df['Steering Type'] = df['Steering Type'].str.replace('Speed Sensitive Power', 'Power Speed Sensitive')\n",
    "df['Steering Type'] = df['Steering Type'].str.replace('Speed-Sensitive Power', 'Power Speed Sensitive')\n",
    "df['Steering Type'] = df['Steering Type'].str.replace('Power Rack-Pinion Steering', 'Power Rack-Pinion')\n",
    "df['Steering Type'] = df['Steering Type'].str.strip('- Tbd -').replace(r'^\\s*$', np.nan, regex=True)\n",
    "df['Steering Type'] = df['Steering Type'].str.replace('Power Rack-&-Pinion', 'Power Rack-Pinion')\n",
    "df['Steering Type'] = df['Steering Type'].str.replace('Power Rack-And-Pinion', 'Power Rack-Pinion')\n",
    "df['Steering Type'] = df['Steering Type'].str.replace('Electric-Assist Rack-Pinion', 'Electric Rack-Pinion')\n",
    "df['Steering Type'] = df['Steering Type'].str.replace('Rack-Pinion Steering', 'Rack-Pinion')\n",
    "df['Steering Type'] = df['Steering Type'].str.replace('Electric Rack-&-Pinion', 'Electric Rack-Pinion')\n",
    "df['Steering Type'] = df['Steering Type'].str.replace('Vehicle-Speed-Sensitive', 'Speed-Sensitive')\n",
    "df['Steering Type'] = df['Steering Type'].str.replace('Vehicle Speed-Sensitive', 'Speed-Sensitive')\n",
    "df['Steering Type'] = df['Steering Type'].str.replace('Electric Power Steering', 'Electric Power')\n",
    "df['Steering Type'] = df['Steering Type'].str.replace('Power, Speed-Sensitive', 'Power Speed Sensitive')\n",
    "df['Steering Type'] = df['Steering Type'].str.replace('Power Speed-Sensitive', 'Power Speed Sensitive')\n",
    "df['Steering Type'] = df['Steering Type'].str.replace('Hyrdaulic', 'Hydraulic')\n",
    "df['Steering Type'] = df['Steering Type'].str.replace('Vehicle-Power Speed Sensitive Rack-Pinion', \n",
    "                                                      'Power Speed Sensitive Rack-Pinion')\n",
    "df['Steering Type'] = df['Steering Type'].str.replace('Power Rack And Pinion', 'Power Rack-Pinion')\n",
    "df['Steering Type'] = df['Steering Type'].str.replace('Variable Power', 'Variable-Assist Power')\n",
    "df['Steering Type'] = df['Steering Type'].str.replace('Var Power Rack-Pinion', 'Variable Power Rack-Pinion')\n",
    "df['Steering Type'] = df['Steering Type'].str.replace('-', ' ')\n",
    "df['Steering Type'] = df['Steering Type'].str.replace('Re Circulating Ball', 'Recirculating Ball')\n",
    "df['Steering Type'] = df['Steering Type'].str.replace('Recir ', 'Recirculating ') \n",
    "df['Steering Type'] = df['Steering Type'].str.replace('Electric Power Assisted Rack Pinion', 'Electric Power Rack Pinion')\n",
    "df['Steering Type'] = df['Steering Type'].str.replace('Power Assiste', 'Power')\n",
    "df['Steering Type'].value_counts()"
   ]
  },
  {
   "cell_type": "code",
   "execution_count": 138,
   "metadata": {},
   "outputs": [
    {
     "data": {
      "text/plain": [
       "<matplotlib.axes._subplots.AxesSubplot at 0x1a34ff08470>"
      ]
     },
     "execution_count": 138,
     "metadata": {},
     "output_type": "execute_result"
    },
    {
     "data": {
      "image/png": "[encoded data removed]",
      "text/plain": [
       "<Figure size 432x288 with 1 Axes>"
      ]
     },
     "metadata": {
      "needs_background": "light"
     },
     "output_type": "display_data"
    }
   ],
   "source": [
    "df['Steering Type'].value_counts().plot(kind='bar')"
   ]
  },
  {
   "cell_type": "markdown",
   "metadata": {},
   "source": [
    "#### `Rear wheel material`"
   ]
  },
  {
   "cell_type": "code",
   "execution_count": 139,
   "metadata": {
    "scrolled": true
   },
   "outputs": [
    {
     "data": {
      "text/plain": [
       "Aluminum           21190\n",
       "Steel               6415\n",
       "Alloy               2659\n",
       "Styled Steel         636\n",
       "Forged Aluminum      561\n",
       "Chrome               256\n",
       "Carbon Fibre           4\n",
       "Name: Rear Wheel Material, dtype: int64"
      ]
     },
     "execution_count": 139,
     "metadata": {},
     "output_type": "execute_result"
    }
   ],
   "source": [
    "df['Rear Wheel Material'] = df['Rear Wheel Material'].str.strip('- TBD -').replace(r'^\\s*$', np.nan, regex=True)\n",
    "df['Rear Wheel Material'].value_counts()"
   ]
  },
  {
   "cell_type": "markdown",
   "metadata": {},
   "source": [
    "#### `Front wheel material`"
   ]
  },
  {
   "cell_type": "code",
   "execution_count": 140,
   "metadata": {},
   "outputs": [
    {
     "data": {
      "text/plain": [
       "Aluminum           21190\n",
       "Steel               6415\n",
       "Alloy               2659\n",
       "Styled Steel         636\n",
       "Forged Aluminum      561\n",
       "Chrome               256\n",
       "Carbon Fibre           4\n",
       "Name: Front Wheel Material, dtype: int64"
      ]
     },
     "execution_count": 140,
     "metadata": {},
     "output_type": "execute_result"
    }
   ],
   "source": [
    "df['Front Wheel Material'] = df['Front Wheel Material'].str.strip('- TBD -').replace(r'^\\s*$', np.nan, regex=True)\n",
    "df['Front Wheel Material'].value_counts()"
   ]
  },
  {
   "cell_type": "markdown",
   "metadata": {},
   "source": [
    "#### `Front suspension type`"
   ]
  },
  {
   "cell_type": "code",
   "execution_count": 141,
   "metadata": {},
   "outputs": [
    {
     "data": {
      "text/plain": [
       "175"
      ]
     },
     "execution_count": 141,
     "metadata": {},
     "output_type": "execute_result"
    }
   ],
   "source": [
    "df['Suspension Type - Front'].isnull().sum()"
   ]
  },
  {
   "cell_type": "code",
   "execution_count": 142,
   "metadata": {
    "scrolled": true
   },
   "outputs": [],
   "source": [
    "df['Suspension Type - Front'] = df['Suspension Type - Front'].str.title().str.replace('- TBD -', '').replace(r'^\\s*$', \n",
    "                                                                                                       np.nan, regex=True)\n",
    "df['Suspension Type - Front'] = df['Suspension Type - Front'].str.replace('Macpherson Strut', 'Macpherson')\n",
    "df['Suspension Type - Front'] = df['Suspension Type - Front'].str.replace('Coil Spring', 'Coil')\n",
    "df['Suspension Type - Front'] = df['Suspension Type - Front'].str.replace('-', ' ')\n",
    "df['Suspension Type - Front'] = df['Suspension Type - Front'].str.replace('4', 'Four')\n",
    "df['Suspension Type - Front'] = df['Suspension Type - Front'].str.replace('5', 'Five')\n",
    "df['Suspension Type - Front'] = df['Suspension Type - Front'].str.replace('Macpherson Type', 'Macpherson')\n",
    "df['Suspension Type - Front'] = df['Suspension Type - Front'].str.replace('Short/Long Arm', 'Short And Long Arm')\n",
    "df['Suspension Type - Front'] = df['Suspension Type - Front'].str.replace('Strut Type', 'Strut')\n",
    "df['Suspension Type - Front'] = df['Suspension Type - Front'].str.replace('Four Wheel Independent', 'Independent')\n",
    "df['Suspension Type - Front'] = df['Suspension Type - Front'].str.replace('Double Whishbone', 'Double Wishbone')\n",
    "df['Suspension Type - Front'] = df['Suspension Type - Front'].str.replace('Four Link', 'Multi Link')\n",
    "df['Suspension Type - Front'] = df['Suspension Type - Front'].str.replace('Short Long Arm', 'Short And Long Arm')\n",
    "df['Suspension Type - Front'] = df['Suspension Type - Front'].str.replace('Independent Four Link', 'Short And Long Arm')\n",
    "df['Suspension Type - Front'] = df['Suspension Type - Front'].str.replace('Five Link', 'Multi Link')\n",
    "df['Suspension Type - Front'] = df['Suspension Type - Front'].str.replace('Independent 3 Link', 'Multi Link')\n",
    "df['Suspension Type - Front'] = df['Suspension Type - Front'].str.replace('Independent Multi Link', 'Multi Link')\n",
    "df['Suspension Type - Front'] = df['Suspension Type - Front'].str.replace('Independent Multi Link', 'Multi Link')\n",
    "df['Suspension Type - Front'] = df['Suspension Type - Front'].str.replace('W/', '').str.replace(',', '').str.strip()\n",
    "df['Suspension Type - Front'] = df['Suspension Type - Front'].str.replace('Indep ', 'Independent ')\n",
    "df['Suspension Type - Front'] = df['Suspension Type - Front'].str.replace('Ind ', 'Independent ')\n",
    "df['Suspension Type - Front'] = df['Suspension Type - Front'].str.replace('Macphersons', 'Macpherson')\n",
    "df['Suspension Type - Front'] = df['Suspension Type - Front'].str.replace('Torsion Bars', 'Torsion Bar')"
   ]
  },
  {
   "cell_type": "code",
   "execution_count": 143,
   "metadata": {},
   "outputs": [],
   "source": [
    "df.drop(['Suspension Type - Rear', 'Front Wheel Material'], axis=1, inplace=True)"
   ]
  },
  {
   "cell_type": "markdown",
   "metadata": {},
   "source": [
    "#### `Front brake rotor diameter`"
   ]
  },
  {
   "cell_type": "code",
   "execution_count": 144,
   "metadata": {},
   "outputs": [
    {
     "data": {
      "text/plain": [
       "2384"
      ]
     },
     "execution_count": 144,
     "metadata": {},
     "output_type": "execute_result"
    }
   ],
   "source": [
    "df['Front Brake Rotor Diam x Thickness (in)'].isnull().sum()"
   ]
  },
  {
   "cell_type": "code",
   "execution_count": 145,
   "metadata": {},
   "outputs": [],
   "source": [
    "df['Front Brake Rotor Diam x Thickness (in)'] = df['Front Brake Rotor Diam x Thickness (in)'].str.split().str.get(0)\n",
    "df['Front Brake Rotor Diam x Thickness (in)'] = df['Front Brake Rotor Diam x Thickness (in)'].str.strip('\"').astype(float)"
   ]
  },
  {
   "cell_type": "code",
   "execution_count": 146,
   "metadata": {},
   "outputs": [
    {
     "name": "stderr",
     "output_type": "stream",
     "text": [
      "C:\\Users\\Nicolas\\Anaconda3\\lib\\site-packages\\scipy\\stats\\stats.py:1713: FutureWarning: Using a non-tuple sequence for multidimensional indexing is deprecated; use `arr[tuple(seq)]` instead of `arr[seq]`. In the future this will be interpreted as an array index, `arr[np.array(seq)]`, which will result either in an error or a different result.\n",
      "  return np.add.reduce(sorted[indexer] * weights, axis=axis) / sumval\n"
     ]
    },
    {
     "data": {
      "text/plain": [
       "<matplotlib.axes._subplots.AxesSubplot at 0x1a34d9e5518>"
      ]
     },
     "execution_count": 146,
     "metadata": {},
     "output_type": "execute_result"
    },
    {
     "data": {
      "image/png": "[encoded data removed]",
      "text/plain": [
       "<Figure size 432x288 with 1 Axes>"
      ]
     },
     "metadata": {
      "needs_background": "light"
     },
     "output_type": "display_data"
    }
   ],
   "source": [
    "sns.distplot(df['Front Brake Rotor Diam x Thickness (in)'].dropna(), color='m')"
   ]
  },
  {
   "cell_type": "markdown",
   "metadata": {},
   "source": [
    "#### Rear brake rotor diameter"
   ]
  },
  {
   "cell_type": "code",
   "execution_count": 147,
   "metadata": {},
   "outputs": [
    {
     "data": {
      "text/plain": [
       "5308"
      ]
     },
     "execution_count": 147,
     "metadata": {},
     "output_type": "execute_result"
    }
   ],
   "source": [
    "df['Rear Brake Rotor Diam x Thickness (in)'].isnull().sum()"
   ]
  },
  {
   "cell_type": "code",
   "execution_count": 148,
   "metadata": {},
   "outputs": [],
   "source": [
    "df['Rear Brake Rotor Diam x Thickness (in)'] = df['Rear Brake Rotor Diam x Thickness (in)'].str.split().str.get(0)\n",
    "df['Rear Brake Rotor Diam x Thickness (in)'] = df['Rear Brake Rotor Diam x Thickness (in)'].str.strip('\"')\n",
    "df['Rear Brake Rotor Diam x Thickness (in)'] = df['Rear Brake Rotor Diam x Thickness (in)'].str.strip('-TBD')\n",
    "df['Rear Brake Rotor Diam x Thickness (in)'] = df['Rear Brake Rotor Diam x Thickness (in)'].replace(r'^\\s*$', \n",
    "                                                                            np.nan, regex=True).astype(float)"
   ]
  },
  {
   "cell_type": "markdown",
   "metadata": {},
   "source": [
    "### Yes/no features"
   ]
  },
  {
   "cell_type": "code",
   "execution_count": 149,
   "metadata": {},
   "outputs": [],
   "source": [
    "specs_binary = ['Air Bag-Frontal-Driver', 'Air Bag-Frontal-Passenger', 'Air Bag-Passenger Switch (On/Off)',\n",
    "       'Air Bag-Side Body-Front', 'Air Bag-Side Body-Rear', 'Air Bag-Side Head-Front', \n",
    "       'Air Bag-Side Head-Rear', 'Brakes-ABS', 'Child Safety Rear Door Locks', 'Daytime Running Lights',\n",
    "       'Traction Control', 'Night Vision', 'Rollover Protection Bars', 'Fog Lamps', \n",
    "       'Parking Aid', 'Tire Pressure Monitor', 'Back-Up Camera', 'Stability Control']"
   ]
  },
  {
   "cell_type": "code",
   "execution_count": 150,
   "metadata": {
    "scrolled": true
   },
   "outputs": [
    {
     "data": {
      "text/plain": [
       "\"for spec in specs_binary:\\n    df[spec] = df[spec].replace('Yes', '1').replace('No', '0')\\n    df[spec] = df[spec].astype(float)\""
      ]
     },
     "execution_count": 150,
     "metadata": {},
     "output_type": "execute_result"
    }
   ],
   "source": [
    "'''for spec in specs_binary:\n",
    "    df[spec] = df[spec].replace('Yes', '1').replace('No', '0')\n",
    "    df[spec] = df[spec].astype(float)'''"
   ]
  },
  {
   "cell_type": "markdown",
   "metadata": {},
   "source": [
    "### Warranty "
   ]
  },
  {
   "cell_type": "code",
   "execution_count": 151,
   "metadata": {},
   "outputs": [],
   "source": [
    "specs_warranty = ['Basic Miles/km', 'Basic Years', 'Corrosion Miles/km', 'Corrosion Years', 'Drivetrain Miles/km',\n",
    "                  'Drivetrain Years', 'Roadside Assistance Miles/km', 'Roadside Assistance Years']"
   ]
  },
  {
   "cell_type": "code",
   "execution_count": 152,
   "metadata": {},
   "outputs": [
    {
     "data": {
      "text/plain": [
       "36000.0     20484\n",
       "50000.0      7731\n",
       "60000.0      2585\n",
       "150000.0      332\n",
       "100000.0      295\n",
       "72000.0       162\n",
       "24000.0       145\n",
       "Name: Basic Miles/km, dtype: int64"
      ]
     },
     "execution_count": 152,
     "metadata": {},
     "output_type": "execute_result"
    }
   ],
   "source": [
    "df['Basic Miles/km'].value_counts()"
   ]
  },
  {
   "cell_type": "code",
   "execution_count": 153,
   "metadata": {},
   "outputs": [
    {
     "data": {
      "text/plain": [
       "3    20789\n",
       "4     7985\n",
       "5     2638\n",
       "6      167\n",
       "2      155\n",
       "Name: Basic Years, dtype: int64"
      ]
     },
     "execution_count": 153,
     "metadata": {},
     "output_type": "execute_result"
    }
   ],
   "source": [
    "df['Basic Years'].value_counts()"
   ]
  },
  {
   "cell_type": "code",
   "execution_count": 154,
   "metadata": {
    "scrolled": true
   },
   "outputs": [
    {
     "data": {
      "text/plain": [
       "150000    22233\n",
       "100000     7785\n",
       "50000      1233\n",
       "60000         6\n",
       "Name: Corrosion Miles/km, dtype: int64"
      ]
     },
     "execution_count": 154,
     "metadata": {},
     "output_type": "execute_result"
    }
   ],
   "source": [
    "df['Corrosion Miles/km'] = df['Corrosion Miles/km'].str.replace(',', '').str.replace('Unlimited', '150000')\n",
    "df['Corrosion Miles/km'].value_counts()"
   ]
  },
  {
   "cell_type": "code",
   "execution_count": 155,
   "metadata": {},
   "outputs": [
    {
     "data": {
      "text/plain": [
       "5     16162\n",
       "6      7181\n",
       "12     4767\n",
       "7      1480\n",
       "4      1097\n",
       "3       258\n",
       "10      239\n",
       "8        63\n",
       "2        10\n",
       "Name: Corrosion Years, dtype: int64"
      ]
     },
     "execution_count": 155,
     "metadata": {},
     "output_type": "execute_result"
    }
   ],
   "source": [
    "df['Corrosion Years'].value_counts()"
   ]
  },
  {
   "cell_type": "code",
   "execution_count": 156,
   "metadata": {},
   "outputs": [
    {
     "data": {
      "text/plain": [
       "60000.0     14060\n",
       "100000.0     6583\n",
       "50000.0      5521\n",
       "36000.0      2912\n",
       "70000.0      1862\n",
       "150000.0      476\n",
       "72000.0       162\n",
       "24000.0        15\n",
       "120000.0        7\n",
       "125000.0        1\n",
       "Name: Drivetrain Miles/km, dtype: int64"
      ]
     },
     "execution_count": 156,
     "metadata": {},
     "output_type": "execute_result"
    }
   ],
   "source": [
    "df['Drivetrain Miles/km'].value_counts()"
   ]
  },
  {
   "cell_type": "code",
   "execution_count": 157,
   "metadata": {},
   "outputs": [
    {
     "data": {
      "text/plain": [
       "5     18479\n",
       "4      5529\n",
       "3      3198\n",
       "10     2138\n",
       "6      1939\n",
       "7       105\n",
       "12      100\n",
       "8        81\n",
       "2        30\n",
       "Name: Drivetrain Years, dtype: int64"
      ]
     },
     "execution_count": 157,
     "metadata": {},
     "output_type": "execute_result"
    }
   ],
   "source": [
    "df['Drivetrain Years'] = df['Drivetrain Years'].str.replace('Unlimited', '12')\n",
    "df['Drivetrain Years'].value_counts()"
   ]
  },
  {
   "cell_type": "code",
   "execution_count": 158,
   "metadata": {},
   "outputs": [
    {
     "data": {
      "text/plain": [
       "100000.0    10402\n",
       "36000.0      7506\n",
       "60000.0      5783\n",
       "50000.0      2681\n",
       "70000.0       767\n",
       "25000.0       401\n",
       "24000.0         3\n",
       "Name: Roadside Assistance Miles/km, dtype: int64"
      ]
     },
     "execution_count": 158,
     "metadata": {},
     "output_type": "execute_result"
    }
   ],
   "source": [
    "df['Roadside Assistance Miles/km'].value_counts()"
   ]
  },
  {
   "cell_type": "code",
   "execution_count": 159,
   "metadata": {},
   "outputs": [
    {
     "data": {
      "text/plain": [
       "5    10701\n",
       "3     7737\n",
       "4     6285\n",
       "2     1425\n",
       "6      767\n",
       "8      631\n",
       "Name: Roadside Assistance Years, dtype: int64"
      ]
     },
     "execution_count": 159,
     "metadata": {},
     "output_type": "execute_result"
    }
   ],
   "source": [
    "df['Roadside Assistance Years'] = df['Roadside Assistance Years'].str.replace('Unlimited', '8')\n",
    "df['Roadside Assistance Years'].value_counts()"
   ]
  },
  {
   "cell_type": "code",
   "execution_count": 160,
   "metadata": {},
   "outputs": [],
   "source": [
    "for spec in specs_warranty:\n",
    "    df[spec] = df[spec].astype(float)"
   ]
  },
  {
   "cell_type": "markdown",
   "metadata": {},
   "source": [
    "### One-hot encoding"
   ]
  },
  {
   "cell_type": "markdown",
   "metadata": {},
   "source": [
    "# AFTER IMPUTATION!"
   ]
  },
  {
   "cell_type": "code",
   "execution_count": 161,
   "metadata": {
    "scrolled": true
   },
   "outputs": [
    {
     "data": {
      "text/plain": [
       "Index(['MSRP', 'Make', 'Model', 'Style Name', 'Drivetrain',\n",
       "       'Passenger Capacity', 'Passenger Doors', 'Body Style',\n",
       "       'EPA Classification', 'Front Shoulder Room (in)',\n",
       "       'Front Head Room (in)', 'Second Leg Room (in)', 'Front Leg Room (in)',\n",
       "       'Second Shoulder Room (in)', 'Second Head Room (in)',\n",
       "       'Height, Overall (in)', 'Wheelbase (in)', 'Width, Max w/o mirrors (in)',\n",
       "       'Fuel Tank Capacity, Approx (gal)', 'EPA Fuel Economy Est - Hwy (MPG)',\n",
       "       'EPA Fuel Economy Est - City (MPG)', 'Fuel System',\n",
       "       'Third Gear Ratio (:1)', 'First Gear Ratio (:1)',\n",
       "       'Fourth Gear Ratio (:1)', 'Second Gear Ratio (:1)',\n",
       "       'Front Brake Rotor Diam x Thickness (in)',\n",
       "       'Rear Brake Rotor Diam x Thickness (in)', 'Steering Type',\n",
       "       'Turning Diameter - Curb to Curb', 'Rear Wheel Material',\n",
       "       'Suspension Type - Front', 'Air Bag-Frontal-Driver',\n",
       "       'Air Bag-Frontal-Passenger', 'Air Bag-Passenger Switch (On/Off)',\n",
       "       'Air Bag-Side Body-Front', 'Air Bag-Side Body-Rear',\n",
       "       'Air Bag-Side Head-Front', 'Air Bag-Side Head-Rear', 'Brakes-ABS',\n",
       "       'Child Safety Rear Door Locks', 'Daytime Running Lights',\n",
       "       'Traction Control', 'Night Vision', 'Rollover Protection Bars',\n",
       "       'Fog Lamps', 'Parking Aid', 'Tire Pressure Monitor', 'Back-Up Camera',\n",
       "       'Stability Control', 'Other Features', 'Basic Miles/km', 'Basic Years',\n",
       "       'Corrosion Miles/km', 'Corrosion Years', 'Drivetrain Miles/km',\n",
       "       'Drivetrain Years', 'Roadside Assistance Miles/km',\n",
       "       'Roadside Assistance Years', 'Hybrid', 'Hybrid Engine', 'Gears',\n",
       "       'Net Horsepower', 'Net Horsepower RPM', 'Net Torque', 'Net Torque RPM',\n",
       "       'Cylinders', 'Engine Configuration', 'Displacement (L)',\n",
       "       'Displacement (cc)', 'Rear Tire Width', 'Front Tire Width',\n",
       "       'Rear Wheel Size', 'Front Wheel Size', 'Tire Rating',\n",
       "       'Tire Width Ratio', 'Wheel Size Ratio', 'Tire Ratio', 'Year', 'Country',\n",
       "       'Country Code', 'Category'],\n",
       "      dtype='object')"
      ]
     },
     "execution_count": 161,
     "metadata": {},
     "output_type": "execute_result"
    }
   ],
   "source": [
    "df.columns"
   ]
  },
  {
   "cell_type": "code",
   "execution_count": 162,
   "metadata": {},
   "outputs": [],
   "source": [
    "df = df.drop('Hybrid', axis=1)"
   ]
  },
  {
   "cell_type": "code",
   "execution_count": 163,
   "metadata": {},
   "outputs": [
    {
     "data": {
      "text/plain": [
       "\"specs_to_dummies = ['Drivetrain', 'Body Style', 'EPA Classification', 'Fuel System', 'Steering Type',  'Rear Wheel Material',  \\n                    'Suspension Type - Front', 'Air Bag-Frontal-Driver', 'Air Bag-Frontal-Passenger', \\n                    'Air Bag-Passenger Switch (On/Off)', 'Air Bag-Side Body-Front', 'Air Bag-Side Body-Rear',\\n                    'Air Bag-Side Head-Front', 'Air Bag-Side Head-Rear', 'Brakes-ABS', \\n                    'Child Safety Rear Door Locks', 'Daytime Running Lights', 'Traction Control', \\n                    'Night Vision', 'Rollover Protection Bars', 'Fog Lamps', 'Parking Aid', \\n                    'Tire Pressure Monitor', 'Back-Up Camera', 'Stability Control', 'Hybrid Engine', \\n                    'Engine Configuration', 'Tire Rating', 'Country', 'Category']\""
      ]
     },
     "execution_count": 163,
     "metadata": {},
     "output_type": "execute_result"
    }
   ],
   "source": [
    "'''specs_to_dummies = ['Drivetrain', 'Body Style', 'EPA Classification', 'Fuel System', 'Steering Type',  'Rear Wheel Material',  \n",
    "                    'Suspension Type - Front', 'Air Bag-Frontal-Driver', 'Air Bag-Frontal-Passenger', \n",
    "                    'Air Bag-Passenger Switch (On/Off)', 'Air Bag-Side Body-Front', 'Air Bag-Side Body-Rear',\n",
    "                    'Air Bag-Side Head-Front', 'Air Bag-Side Head-Rear', 'Brakes-ABS', \n",
    "                    'Child Safety Rear Door Locks', 'Daytime Running Lights', 'Traction Control', \n",
    "                    'Night Vision', 'Rollover Protection Bars', 'Fog Lamps', 'Parking Aid', \n",
    "                    'Tire Pressure Monitor', 'Back-Up Camera', 'Stability Control', 'Hybrid Engine', \n",
    "                    'Engine Configuration', 'Tire Rating', 'Country', 'Category']'''"
   ]
  },
  {
   "cell_type": "code",
   "execution_count": 164,
   "metadata": {},
   "outputs": [
    {
     "data": {
      "text/plain": [
       "\"for item in specs_to_dummies:\\n    dummies = pd.get_dummies(df[item], prefix_sep=': ', prefix=item)\\n    df = pd.concat([df, dummies], sort=False, axis=1)\\n\\n#df = df.drop(specs_to_dummies, axis=1)\\ndf = df.drop('Other Features', axis=1)\""
      ]
     },
     "execution_count": 164,
     "metadata": {},
     "output_type": "execute_result"
    }
   ],
   "source": [
    "'''for item in specs_to_dummies:\n",
    "    dummies = pd.get_dummies(df[item], prefix_sep=': ', prefix=item)\n",
    "    df = pd.concat([df, dummies], sort=False, axis=1)\n",
    "\n",
    "#df = df.drop(specs_to_dummies, axis=1)\n",
    "df = df.drop('Other Features', axis=1)'''"
   ]
  },
  {
   "cell_type": "code",
   "execution_count": 165,
   "metadata": {},
   "outputs": [
    {
     "data": {
      "text/plain": [
       "(31738, 81)"
      ]
     },
     "execution_count": 165,
     "metadata": {},
     "output_type": "execute_result"
    }
   ],
   "source": [
    "df.shape"
   ]
  },
  {
   "cell_type": "code",
   "execution_count": 166,
   "metadata": {},
   "outputs": [
    {
     "name": "stdout",
     "output_type": "stream",
     "text": [
      "<class 'pandas.core.frame.DataFrame'>\n",
      "Index: 31738 entries, 2017 Acura RDX FWD w/Technology/AcuraWatch Plus Pkg to 2015 Volvo V60 Cross Country 2015.5 4-Door Wagon T5 Platinum AWD\n",
      "Data columns (total 81 columns):\n",
      "MSRP                                       31668 non-null float64\n",
      "Make                                       31735 non-null object\n",
      "Model                                      31735 non-null object\n",
      "Style Name                                 31735 non-null object\n",
      "Drivetrain                                 31735 non-null object\n",
      "Passenger Capacity                         31735 non-null float64\n",
      "Passenger Doors                            31735 non-null float64\n",
      "Body Style                                 31733 non-null object\n",
      "EPA Classification                         20748 non-null object\n",
      "Front Shoulder Room (in)                   30403 non-null float64\n",
      "Front Head Room (in)                       30447 non-null float64\n",
      "Second Leg Room (in)                       27187 non-null float64\n",
      "Front Leg Room (in)                        30440 non-null float64\n",
      "Second Shoulder Room (in)                  27123 non-null float64\n",
      "Second Head Room (in)                      27207 non-null float64\n",
      "Height, Overall (in)                       31527 non-null float64\n",
      "Wheelbase (in)                             31685 non-null float64\n",
      "Width, Max w/o mirrors (in)                31587 non-null float64\n",
      "Fuel Tank Capacity, Approx (gal)           31487 non-null float64\n",
      "EPA Fuel Economy Est - Hwy (MPG)           27990 non-null float64\n",
      "EPA Fuel Economy Est - City (MPG)          27994 non-null float64\n",
      "Fuel System                                30829 non-null object\n",
      "Third Gear Ratio (:1)                      28437 non-null float64\n",
      "First Gear Ratio (:1)                      29866 non-null float64\n",
      "Fourth Gear Ratio (:1)                     28430 non-null float64\n",
      "Second Gear Ratio (:1)                     28442 non-null float64\n",
      "Front Brake Rotor Diam x Thickness (in)    29354 non-null float64\n",
      "Rear Brake Rotor Diam x Thickness (in)     26418 non-null float64\n",
      "Steering Type                              31680 non-null object\n",
      "Turning Diameter - Curb to Curb            30159 non-null float64\n",
      "Rear Wheel Material                        31721 non-null object\n",
      "Suspension Type - Front                    31563 non-null object\n",
      "Air Bag-Frontal-Driver                     31735 non-null object\n",
      "Air Bag-Frontal-Passenger                  31735 non-null object\n",
      "Air Bag-Passenger Switch (On/Off)          31735 non-null object\n",
      "Air Bag-Side Body-Front                    31735 non-null object\n",
      "Air Bag-Side Body-Rear                     31735 non-null object\n",
      "Air Bag-Side Head-Front                    31735 non-null object\n",
      "Air Bag-Side Head-Rear                     31735 non-null object\n",
      "Brakes-ABS                                 31735 non-null object\n",
      "Child Safety Rear Door Locks               31735 non-null object\n",
      "Daytime Running Lights                     31735 non-null object\n",
      "Traction Control                           31735 non-null object\n",
      "Night Vision                               31735 non-null object\n",
      "Rollover Protection Bars                   31735 non-null object\n",
      "Fog Lamps                                  31735 non-null object\n",
      "Parking Aid                                31735 non-null object\n",
      "Tire Pressure Monitor                      31735 non-null object\n",
      "Back-Up Camera                             31735 non-null object\n",
      "Stability Control                          31735 non-null object\n",
      "Other Features                             31735 non-null object\n",
      "Basic Miles/km                             31734 non-null float64\n",
      "Basic Years                                31734 non-null float64\n",
      "Corrosion Miles/km                         31257 non-null float64\n",
      "Corrosion Years                            31257 non-null float64\n",
      "Drivetrain Miles/km                        31599 non-null float64\n",
      "Drivetrain Years                           31599 non-null float64\n",
      "Roadside Assistance Miles/km               27543 non-null float64\n",
      "Roadside Assistance Years                  27546 non-null float64\n",
      "Hybrid Engine                              31735 non-null float64\n",
      "Gears                                      28970 non-null float64\n",
      "Net Horsepower                             31694 non-null float64\n",
      "Net Horsepower RPM                         31401 non-null float64\n",
      "Net Torque                                 31633 non-null float64\n",
      "Net Torque RPM                             31275 non-null float64\n",
      "Cylinders                                  31470 non-null float64\n",
      "Engine Configuration                       30792 non-null object\n",
      "Displacement (L)                           31511 non-null float64\n",
      "Displacement (cc)                          30538 non-null float64\n",
      "Rear Tire Width                            31698 non-null float64\n",
      "Front Tire Width                           31699 non-null float64\n",
      "Rear Wheel Size                            28454 non-null float64\n",
      "Front Wheel Size                           28627 non-null float64\n",
      "Tire Rating                                31684 non-null object\n",
      "Tire Width Ratio                           31695 non-null float64\n",
      "Wheel Size Ratio                           28454 non-null float64\n",
      "Tire Ratio                                 31692 non-null float64\n",
      "Year                                       31735 non-null float64\n",
      "Country                                    31735 non-null object\n",
      "Country Code                               31735 non-null float64\n",
      "Category                                   31733 non-null object\n",
      "dtypes: float64(48), object(33)\n",
      "memory usage: 21.1+ MB\n"
     ]
    }
   ],
   "source": [
    "df.info(verbose=True)"
   ]
  },
  {
   "cell_type": "code",
   "execution_count": 168,
   "metadata": {},
   "outputs": [],
   "source": [
    "df.to_csv(r'C:/Users/Nicolas/Documents/Scraping/thecarconnection/raw_data_cleaning_all_may.csv')"
   ]
  },
  {
   "cell_type": "code",
   "execution_count": null,
   "metadata": {},
   "outputs": [],
   "source": [
    "# df.loc[df.isnull().sum(axis=1).sort_values(ascending=False)[:60].index[:30]].isnull().sum(axis=1)"
   ]
  },
  {
   "cell_type": "code",
   "execution_count": 172,
   "metadata": {},
   "outputs": [
    {
     "data": {
      "text/plain": [
       "<matplotlib.axes._subplots.AxesSubplot at 0x1a34da16240>"
      ]
     },
     "execution_count": 172,
     "metadata": {},
     "output_type": "execute_result"
    },
    {
     "data": {
      "image/png": "[encoded data removed]",
      "text/plain": [
       "<Figure size 432x288 with 1 Axes>"
      ]
     },
     "metadata": {
      "needs_background": "light"
     },
     "output_type": "display_data"
    }
   ],
   "source": [
    "sns.boxplot(df['Hybrid Engine'], df['EPA Fuel Economy Est - Hwy (MPG)'], hue=df['Category'])"
   ]
  },
  {
   "cell_type": "code",
   "execution_count": 169,
   "metadata": {
    "scrolled": true
   },
   "outputs": [
    {
     "data": {
      "text/plain": [
       "4dr Car                                              9178\n",
       "Sport Utility                                        8086\n",
       "2dr Car                                              2513\n",
       "Crew Cab Pickup - Standard Bed - Short Bed           1672\n",
       "Convertible                                          1480\n",
       "Crew Cab Pickup - Standard Bed - Standard Bed        1371\n",
       "Extended Cab Pickup - Standard Bed - Short Bed        974\n",
       "Station Wagon                                         915\n",
       "Extended Cab Pickup - Standard Bed - Standard Bed     866\n",
       "Extended Cab Pickup - Standard Bed - Long Bed         836\n",
       "Regular Cab Pickup - Long Bed                         777\n",
       "Crew Cab Pickup - Standard Bed - Long Bed             746\n",
       "Mini-van, Passenger                                   491\n",
       "Regular Cab Pickup - Short Bed                        400\n",
       "Regular Cab Pickup - Standard Bed                     388\n",
       "Full-size Passenger Van                               371\n",
       "Full-size Cargo Van                                   369\n",
       "Specialty Vehicle                                     132\n",
       "Mini-van, Cargo                                       104\n",
       "3dr Car                                                64\n",
       "Name: Body Style, dtype: int64"
      ]
     },
     "execution_count": 169,
     "metadata": {},
     "output_type": "execute_result"
    }
   ],
   "source": [
    "df['Body Style'].value_counts()"
   ]
  },
  {
   "cell_type": "code",
   "execution_count": 174,
   "metadata": {
    "scrolled": true
   },
   "outputs": [
    {
     "data": {
      "text/plain": [
       "2015.0    150\n",
       "2017.0    146\n",
       "2018.0    145\n",
       "2016.0    145\n",
       "2014.0    140\n",
       "2019.0    122\n",
       "2012.0    116\n",
       "2013.0    115\n",
       "2011.0     99\n",
       "Name: Year, dtype: int64"
      ]
     },
     "execution_count": 174,
     "metadata": {},
     "output_type": "execute_result"
    }
   ],
   "source": [
    "df.loc[df['Make'] == 'Ram']['Year'].value_counts()"
   ]
  },
  {
   "cell_type": "code",
   "execution_count": 1,
   "metadata": {},
   "outputs": [
    {
     "ename": "NameError",
     "evalue": "name 'df' is not defined",
     "output_type": "error",
     "traceback": [
      "\u001b[1;31m---------------------------------------------------------------------------\u001b[0m",
      "\u001b[1;31mNameError\u001b[0m                                 Traceback (most recent call last)",
      "\u001b[1;32m<ipython-input-1-c42a15b2c7cf>\u001b[0m in \u001b[0;36m<module>\u001b[1;34m()\u001b[0m\n\u001b[1;32m----> 1\u001b[1;33m \u001b[0mdf\u001b[0m\u001b[1;33m.\u001b[0m\u001b[0mhead\u001b[0m\u001b[1;33m(\u001b[0m\u001b[1;33m)\u001b[0m\u001b[1;33m\u001b[0m\u001b[0m\n\u001b[0m",
      "\u001b[1;31mNameError\u001b[0m: name 'df' is not defined"
     ]
    }
   ],
   "source": [
    "df.head()"
   ]
  }
 ],
 "metadata": {
  "kernelspec": {
   "display_name": "Python 3",
   "language": "python",
   "name": "python3"
  },
  "language_info": {
   "codemirror_mode": {
    "name": "ipython",
    "version": 3
   },
   "file_extension": ".py",
   "mimetype": "text/x-python",
   "name": "python",
   "nbconvert_exporter": "python",
   "pygments_lexer": "ipython3",
   "version": "3.7.0"
  }
 },
 "nbformat": 4,
 "nbformat_minor": 2
}
