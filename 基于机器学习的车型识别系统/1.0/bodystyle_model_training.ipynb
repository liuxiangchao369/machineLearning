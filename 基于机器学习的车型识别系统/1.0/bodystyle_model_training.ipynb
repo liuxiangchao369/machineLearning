{
 "cells": [
  {
   "cell_type": "code",
   "execution_count": 1,
   "metadata": {},
   "outputs": [],
   "source": [
    "# 加载data、label\n",
    "import scipy.io as io\n",
    "data_mat_path = 'mats/'\n",
    "label_mat_path = 'labels/'\n",
    "\n",
    "data_filename = 'data_old.mat'\n",
    "label_filename = 'label_old.mat'\n",
    "data = io.loadmat(data_mat_path+data_filename)[\"name\"]\n",
    "label = io.loadmat(label_mat_path+label_filename)[\"name\"]"
   ]
  },
  {
   "cell_type": "code",
   "execution_count": null,
   "metadata": {},
   "outputs": [],
   "source": []
  },
  {
   "cell_type": "code",
   "execution_count": 2,
   "metadata": {},
   "outputs": [],
   "source": [
    "label = io.loadmat(label_mat_path+label_filename)[\"name\"]"
   ]
  },
  {
   "cell_type": "code",
   "execution_count": 3,
   "metadata": {},
   "outputs": [],
   "source": [
    "for i in range(64467):  # 去除因对齐添加的空格\n",
    "    for j in range(16):\n",
    "        label[i][j] = label[i][j].strip()"
   ]
  },
  {
   "cell_type": "code",
   "execution_count": 4,
   "metadata": {},
   "outputs": [
    {
     "data": {
      "text/plain": [
       "array(['Acura', 'ILX', '2017', '27', '17', '200', '24', '4', '70', '55',\n",
       "       '181', '25', 'FWD', '5', '4', '4dr'], dtype='<U21')"
      ]
     },
     "execution_count": 4,
     "metadata": {},
     "output_type": "execute_result"
    }
   ],
   "source": [
    "label[88]"
   ]
  },
  {
   "cell_type": "code",
   "execution_count": 5,
   "metadata": {},
   "outputs": [],
   "source": [
    "# 取shape一列\n",
    "row=len(label)\n",
    "y=['' for i in range(row)]\n",
    "for i in range(row):\n",
    "    y[i]=label[i][15]\n"
   ]
  },
  {
   "cell_type": "code",
   "execution_count": 6,
   "metadata": {},
   "outputs": [],
   "source": [
    "from sklearn.preprocessing import LabelBinarizer\n",
    "encoder = LabelBinarizer()\n",
    "# y = encoder.fit_transform(y)"
   ]
  },
  {
   "cell_type": "markdown",
   "metadata": {},
   "source": [
    "# 训练"
   ]
  },
  {
   "cell_type": "code",
   "execution_count": null,
   "metadata": {},
   "outputs": [],
   "source": [
    "from sklearn.preprocessing import LabelEncoder\n",
    "y_one_hot = y\n",
    "encoder2 = LabelEncoder()\n",
    "y2 = encoder2.fit_transform(y)"
   ]
  },
  {
   "cell_type": "code",
   "execution_count": 7,
   "metadata": {},
   "outputs": [],
   "source": [
    "# 划分训练集测试集\n",
    "from sklearn.model_selection import train_test_split\n",
    "X_bs_train, X_bs_test, y_bs_train, y_bs_test = train_test_split(\n",
    "    data, y, test_size=0.2)"
   ]
  },
  {
   "cell_type": "code",
   "execution_count": 8,
   "metadata": {},
   "outputs": [],
   "source": [
    "# 归一化\n",
    "X_bs_train=X_bs_train/255\n",
    "X_bs_test=X_bs_test/255"
   ]
  },
  {
   "cell_type": "code",
   "execution_count": 9,
   "metadata": {},
   "outputs": [],
   "source": [
    "import tensorflow as tf\n",
    "from tensorflow.keras.models import Model\n",
    "from tensorflow.keras.models import Sequential\n",
    "from tensorflow.keras.layers import  Conv2D\n",
    "from tensorflow.keras.layers import MaxPooling2D\n",
    "from tensorflow.keras.layers import AveragePooling2D\n",
    "from tensorflow.keras.layers import BatchNormalization\n",
    "from tensorflow.keras.layers import Activation\n",
    "from tensorflow.keras.layers import Dropout\n",
    "from tensorflow.keras.layers import Flatten\n",
    "from tensorflow.keras.layers import Input\n",
    "from tensorflow.keras.layers import Dense\n",
    "from tensorflow.keras.layers import concatenate\n",
    "\n",
    "# Helper libraries\n",
    "import numpy as np\n",
    "import matplotlib.pyplot as plt"
   ]
  },
  {
   "cell_type": "code",
   "execution_count": 10,
   "metadata": {},
   "outputs": [],
   "source": [
    "row,height, width, channel=data.shape\n",
    "input_shape = (height, width, channel)"
   ]
  },
  {
   "cell_type": "code",
   "execution_count": 11,
   "metadata": {},
   "outputs": [
    {
     "data": {
      "text/plain": [
       "(60, 80, 3)"
      ]
     },
     "execution_count": 11,
     "metadata": {},
     "output_type": "execute_result"
    }
   ],
   "source": [
    "input_shape"
   ]
  },
  {
   "cell_type": "code",
   "execution_count": 12,
   "metadata": {},
   "outputs": [],
   "source": [
    "# 减小复杂度解决过拟合\n",
    "# 增加dropout\n",
    "# 构造网络\n",
    "\n",
    "bodyStyleModel = Sequential()\n",
    "# 第一层\n",
    "bodyStyleModel.add(Conv2D(filters=32,\n",
    "                          input_shape=input_shape,\n",
    "                          kernel_size=(3, 3),\n",
    "                          strides=(1, 1),\n",
    "                          activation='relu',\n",
    "                          padding='same'\n",
    "                          )\n",
    "                   )\n",
    "# 中间各层\n",
    "bodyStyleModel.add(Conv2D(filters=32,\n",
    "                          kernel_size=(5, 5),\n",
    "                          strides=(2, 2),\n",
    "                          activation='relu',\n",
    "                          padding='same'\n",
    "                          )\n",
    "                   )\n",
    "\n",
    "bodyStyleModel.add(MaxPooling2D(pool_size=(2, 2)))\n",
    "bodyStyleModel.add(Dropout(0.3))\n",
    "bodyStyleModel.add(Conv2D(filters=64,\n",
    "                          kernel_size=(5, 5),\n",
    "                          strides=(1, 1),\n",
    "                          activation='relu',\n",
    "                          padding='same'\n",
    "                          )\n",
    "                   )\n",
    "bodyStyleModel.add(Conv2D(filters=64,\n",
    "                          kernel_size=(3, 3),\n",
    "                          strides=(2, 2),\n",
    "                          activation='relu',\n",
    "                          padding='same'\n",
    "                          )\n",
    "                   )\n",
    "bodyStyleModel.add(MaxPooling2D(pool_size=(2, 2)))\n",
    "bodyStyleModel.add(Dropout(0.3))\n",
    "bodyStyleModel.add(Flatten())\n",
    "bodyStyleModel.add(Dense(512, activation='relu'))\n",
    "bodyStyleModel.add(Dropout(0.4))\n",
    "bodyStyleModel.add(Dense(len(y[0]), activation='softmax'))\n",
    "\n"
   ]
  },
  {
   "cell_type": "code",
   "execution_count": 13,
   "metadata": {},
   "outputs": [],
   "source": [
    "from tensorflow.keras.optimizers import SGD\n",
    "\n",
    "learning_rate = 0.01\n",
    "decay = 1e-6\n",
    "momentum = 0.8\n",
    "nesterov = True\n",
    "sgd_optimizer = SGD(lr=learning_rate, decay=decay,\n",
    "                    momentum=momentum, nesterov=nesterov)"
   ]
  },
  {
   "cell_type": "code",
   "execution_count": 14,
   "metadata": {},
   "outputs": [
    {
     "name": "stdout",
     "output_type": "stream",
     "text": [
      "Train on 51573 samples\n",
      "Epoch 1/100\n",
      "51573/51573 [==============================] - 22s 418us/sample - loss: 1.6237 - accuracy: 0.3434\n",
      "Epoch 2/100\n",
      "51573/51573 [==============================] - 16s 310us/sample - loss: 1.5095 - accuracy: 0.4157\n",
      "Epoch 3/100\n",
      "51573/51573 [==============================] - 16s 311us/sample - loss: 1.3787 - accuracy: 0.4731\n",
      "Epoch 4/100\n",
      "51573/51573 [==============================] - 17s 334us/sample - loss: 1.2907 - accuracy: 0.5057\n",
      "Epoch 5/100\n",
      "51573/51573 [==============================] - 17s 321us/sample - loss: 1.2327 - accuracy: 0.5290\n",
      "Epoch 6/100\n",
      "51573/51573 [==============================] - 16s 317us/sample - loss: 1.1919 - accuracy: 0.5456\n",
      "Epoch 7/100\n",
      "51573/51573 [==============================] - 17s 336us/sample - loss: 1.1577 - accuracy: 0.5585\n",
      "Epoch 8/100\n",
      "51573/51573 [==============================] - 18s 342us/sample - loss: 1.1250 - accuracy: 0.5695\n",
      "Epoch 9/100\n",
      "51573/51573 [==============================] - 18s 342us/sample - loss: 1.0994 - accuracy: 0.5822\n",
      "Epoch 10/100\n",
      "51573/51573 [==============================] - 18s 340us/sample - loss: 1.0716 - accuracy: 0.5896\n",
      "Epoch 11/100\n",
      "51573/51573 [==============================] - 17s 321us/sample - loss: 1.0499 - accuracy: 0.6003\n",
      "Epoch 12/100\n",
      "51573/51573 [==============================] - 17s 320us/sample - loss: 1.0290 - accuracy: 0.6095\n",
      "Epoch 13/100\n",
      "51573/51573 [==============================] - 17s 323us/sample - loss: 1.0068 - accuracy: 0.6180\n",
      "Epoch 14/100\n",
      "51573/51573 [==============================] - 17s 322us/sample - loss: 0.9872 - accuracy: 0.6273\n",
      "Epoch 15/100\n",
      "51573/51573 [==============================] - 17s 322us/sample - loss: 0.9685 - accuracy: 0.6348\n",
      "Epoch 16/100\n",
      "51573/51573 [==============================] - 17s 326us/sample - loss: 0.9501 - accuracy: 0.6405\n",
      "Epoch 17/100\n",
      "51573/51573 [==============================] - 17s 333us/sample - loss: 0.9296 - accuracy: 0.6480\n",
      "Epoch 18/100\n",
      "51573/51573 [==============================] - 17s 327us/sample - loss: 0.9165 - accuracy: 0.6533\n",
      "Epoch 19/100\n",
      "51573/51573 [==============================] - 17s 326us/sample - loss: 0.8974 - accuracy: 0.6631\n",
      "Epoch 20/100\n",
      "51573/51573 [==============================] - 17s 324us/sample - loss: 0.8833 - accuracy: 0.6643\n",
      "Epoch 21/100\n",
      "51573/51573 [==============================] - 17s 324us/sample - loss: 0.8669 - accuracy: 0.6729\n",
      "Epoch 22/100\n",
      "51573/51573 [==============================] - 17s 325us/sample - loss: 0.8567 - accuracy: 0.6811\n",
      "Epoch 23/100\n",
      "51573/51573 [==============================] - 17s 324us/sample - loss: 0.8390 - accuracy: 0.6859\n",
      "Epoch 24/100\n",
      "51573/51573 [==============================] - 17s 327us/sample - loss: 0.8243 - accuracy: 0.6897\n",
      "Epoch 25/100\n",
      "51573/51573 [==============================] - 17s 339us/sample - loss: 0.8105 - accuracy: 0.6971\n",
      "Epoch 26/100\n",
      "51573/51573 [==============================] - 17s 330us/sample - loss: 0.8014 - accuracy: 0.7015\n",
      "Epoch 27/100\n",
      "51573/51573 [==============================] - 17s 334us/sample - loss: 0.7861 - accuracy: 0.7063\n",
      "Epoch 28/100\n",
      "51573/51573 [==============================] - 17s 337us/sample - loss: 0.7781 - accuracy: 0.7084\n",
      "Epoch 29/100\n",
      "51573/51573 [==============================] - 17s 329us/sample - loss: 0.7650 - accuracy: 0.7137\n",
      "Epoch 30/100\n",
      "51573/51573 [==============================] - 17s 328us/sample - loss: 0.7500 - accuracy: 0.7206\n",
      "Epoch 31/100\n",
      "51573/51573 [==============================] - 18s 340us/sample - loss: 0.7420 - accuracy: 0.7245\n",
      "Epoch 32/100\n",
      "51573/51573 [==============================] - 18s 339us/sample - loss: 0.7346 - accuracy: 0.7246\n",
      "Epoch 33/100\n",
      "51573/51573 [==============================] - 17s 330us/sample - loss: 0.7259 - accuracy: 0.7301\n",
      "Epoch 34/100\n",
      "51573/51573 [==============================] - 17s 326us/sample - loss: 0.7106 - accuracy: 0.7368\n",
      "Epoch 35/100\n",
      "51573/51573 [==============================] - 17s 323us/sample - loss: 0.7038 - accuracy: 0.7378\n",
      "Epoch 36/100\n",
      "51573/51573 [==============================] - 17s 324us/sample - loss: 0.6918 - accuracy: 0.7440\n",
      "Epoch 37/100\n",
      "51573/51573 [==============================] - 17s 336us/sample - loss: 0.6877 - accuracy: 0.7423\n",
      "Epoch 38/100\n",
      "51573/51573 [==============================] - 17s 330us/sample - loss: 0.6790 - accuracy: 0.7481\n",
      "Epoch 39/100\n",
      "51573/51573 [==============================] - 17s 324us/sample - loss: 0.6754 - accuracy: 0.7480\n",
      "Epoch 40/100\n",
      "51573/51573 [==============================] - 17s 324us/sample - loss: 0.6574 - accuracy: 0.7561\n",
      "Epoch 41/100\n",
      "51573/51573 [==============================] - 17s 331us/sample - loss: 0.6529 - accuracy: 0.7557\n",
      "Epoch 42/100\n",
      "51573/51573 [==============================] - 17s 329us/sample - loss: 0.6488 - accuracy: 0.7609\n",
      "Epoch 43/100\n",
      "51573/51573 [==============================] - 17s 324us/sample - loss: 0.6406 - accuracy: 0.7615- los\n",
      "Epoch 44/100\n",
      "51573/51573 [==============================] - 17s 324us/sample - loss: 0.6307 - accuracy: 0.7653\n",
      "Epoch 45/100\n",
      "51573/51573 [==============================] - 17s 325us/sample - loss: 0.6272 - accuracy: 0.7676\n",
      "Epoch 46/100\n",
      "51573/51573 [==============================] - 17s 325us/sample - loss: 0.6204 - accuracy: 0.7695\n",
      "Epoch 47/100\n",
      "51573/51573 [==============================] - 17s 325us/sample - loss: 0.6100 - accuracy: 0.7733\n",
      "Epoch 48/100\n",
      "51573/51573 [==============================] - 17s 326us/sample - loss: 0.6058 - accuracy: 0.7746\n",
      "Epoch 49/100\n",
      "51573/51573 [==============================] - 17s 326us/sample - loss: 0.6017 - accuracy: 0.7767\n",
      "Epoch 50/100\n",
      "51573/51573 [==============================] - 17s 322us/sample - loss: 0.5940 - accuracy: 0.7781\n",
      "Epoch 51/100\n",
      "51573/51573 [==============================] - 17s 333us/sample - loss: 0.5868 - accuracy: 0.7834- loss: 0.5854 \n",
      "Epoch 52/100\n",
      "51573/51573 [==============================] - 18s 341us/sample - loss: 0.5858 - accuracy: 0.7832\n",
      "Epoch 53/100\n",
      "51573/51573 [==============================] - 18s 340us/sample - loss: 0.5805 - accuracy: 0.7873\n",
      "Epoch 54/100\n",
      "51573/51573 [==============================] - 17s 337us/sample - loss: 0.5731 - accuracy: 0.7891\n",
      "Epoch 55/100\n",
      "51573/51573 [==============================] - 16s 316us/sample - loss: 0.5643 - accuracy: 0.7909\n",
      "Epoch 56/100\n",
      "51573/51573 [==============================] - 17s 331us/sample - loss: 0.5708 - accuracy: 0.7906\n",
      "Epoch 57/100\n",
      "51573/51573 [==============================] - 17s 321us/sample - loss: 0.5568 - accuracy: 0.7955\n",
      "Epoch 58/100\n",
      "51573/51573 [==============================] - 16s 318us/sample - loss: 0.5540 - accuracy: 0.7958\n",
      "Epoch 59/100\n",
      "51573/51573 [==============================] - 17s 332us/sample - loss: 0.5473 - accuracy: 0.7982\n",
      "Epoch 60/100\n",
      "51573/51573 [==============================] - 17s 330us/sample - loss: 0.5426 - accuracy: 0.8007\n",
      "Epoch 61/100\n",
      "51573/51573 [==============================] - 17s 329us/sample - loss: 0.5395 - accuracy: 0.8012\n",
      "Epoch 62/100\n",
      "51573/51573 [==============================] - 17s 327us/sample - loss: 0.5392 - accuracy: 0.8014\n",
      "Epoch 63/100\n",
      "51573/51573 [==============================] - 17s 326us/sample - loss: 0.5329 - accuracy: 0.8039\n",
      "Epoch 64/100\n",
      "51573/51573 [==============================] - 17s 326us/sample - loss: 0.5313 - accuracy: 0.8039\n",
      "Epoch 65/100\n",
      "51573/51573 [==============================] - 17s 326us/sample - loss: 0.5265 - accuracy: 0.8062\n",
      "Epoch 66/100\n",
      "51573/51573 [==============================] - 17s 330us/sample - loss: 0.5203 - accuracy: 0.8089\n",
      "Epoch 67/100\n",
      "51573/51573 [==============================] - 17s 331us/sample - loss: 0.5184 - accuracy: 0.8075\n",
      "Epoch 68/100\n",
      "51573/51573 [==============================] - 17s 326us/sample - loss: 0.5152 - accuracy: 0.8117\n",
      "Epoch 69/100\n",
      "51573/51573 [==============================] - 17s 327us/sample - loss: 0.5131 - accuracy: 0.8094\n",
      "Epoch 70/100\n",
      "51573/51573 [==============================] - 17s 326us/sample - loss: 0.5059 - accuracy: 0.8153\n",
      "Epoch 71/100\n",
      "51573/51573 [==============================] - 17s 327us/sample - loss: 0.5006 - accuracy: 0.8178\n",
      "Epoch 72/100\n",
      "51573/51573 [==============================] - 17s 326us/sample - loss: 0.5016 - accuracy: 0.8138\n",
      "Epoch 73/100\n",
      "51573/51573 [==============================] - 17s 330us/sample - loss: 0.5042 - accuracy: 0.8172\n",
      "Epoch 74/100\n"
     ]
    },
    {
     "name": "stdout",
     "output_type": "stream",
     "text": [
      "51573/51573 [==============================] - 17s 336us/sample - loss: 0.4960 - accuracy: 0.8179\n",
      "Epoch 75/100\n",
      "51573/51573 [==============================] - 17s 322us/sample - loss: 0.4944 - accuracy: 0.8181\n",
      "Epoch 76/100\n",
      "51573/51573 [==============================] - 17s 329us/sample - loss: 0.4916 - accuracy: 0.8203\n",
      "Epoch 77/100\n",
      "51573/51573 [==============================] - 17s 327us/sample - loss: 0.4928 - accuracy: 0.8178\n",
      "Epoch 78/100\n",
      "51573/51573 [==============================] - 17s 322us/sample - loss: 0.4810 - accuracy: 0.8221\n",
      "Epoch 79/100\n",
      "51573/51573 [==============================] - 17s 324us/sample - loss: 0.4809 - accuracy: 0.8246\n",
      "Epoch 80/100\n",
      "51573/51573 [==============================] - 17s 324us/sample - loss: 0.4828 - accuracy: 0.8253\n",
      "Epoch 81/100\n",
      "51573/51573 [==============================] - 17s 321us/sample - loss: 0.4790 - accuracy: 0.8268\n",
      "Epoch 82/100\n",
      "51573/51573 [==============================] - 17s 324us/sample - loss: 0.4713 - accuracy: 0.8279\n",
      "Epoch 83/100\n",
      "51573/51573 [==============================] - 17s 327us/sample - loss: 0.4665 - accuracy: 0.8297\n",
      "Epoch 84/100\n",
      "51573/51573 [==============================] - 17s 330us/sample - loss: 0.4670 - accuracy: 0.8295\n",
      "Epoch 85/100\n",
      "51573/51573 [==============================] - 17s 327us/sample - loss: 0.4653 - accuracy: 0.8294\n",
      "Epoch 86/100\n",
      "51573/51573 [==============================] - 17s 333us/sample - loss: 0.4661 - accuracy: 0.8301\n",
      "Epoch 87/100\n",
      "51573/51573 [==============================] - 17s 321us/sample - loss: 0.4592 - accuracy: 0.8314\n",
      "Epoch 88/100\n",
      "51573/51573 [==============================] - 16s 316us/sample - loss: 0.4611 - accuracy: 0.8323\n",
      "Epoch 89/100\n",
      "51573/51573 [==============================] - 17s 327us/sample - loss: 0.4651 - accuracy: 0.8287\n",
      "Epoch 90/100\n",
      "51573/51573 [==============================] - 17s 324us/sample - loss: 0.4569 - accuracy: 0.8323\n",
      "Epoch 91/100\n",
      "51573/51573 [==============================] - 17s 326us/sample - loss: 0.4550 - accuracy: 0.8336\n",
      "Epoch 92/100\n",
      "51573/51573 [==============================] - 17s 326us/sample - loss: 0.4469 - accuracy: 0.8365\n",
      "Epoch 93/100\n",
      "51573/51573 [==============================] - 17s 326us/sample - loss: 0.4592 - accuracy: 0.8333\n",
      "Epoch 94/100\n",
      "51573/51573 [==============================] - 17s 323us/sample - loss: 0.4464 - accuracy: 0.8393\n",
      "Epoch 95/100\n",
      "51573/51573 [==============================] - 17s 328us/sample - loss: 0.4514 - accuracy: 0.8354\n",
      "Epoch 96/100\n",
      "51573/51573 [==============================] - 17s 329us/sample - loss: 0.4432 - accuracy: 0.8380\n",
      "Epoch 97/100\n",
      "51573/51573 [==============================] - 17s 325us/sample - loss: 0.4349 - accuracy: 0.8431- loss: 0.4343 - \n",
      "Epoch 98/100\n",
      "51573/51573 [==============================] - 17s 325us/sample - loss: 0.4442 - accuracy: 0.8372\n",
      "Epoch 99/100\n",
      "51573/51573 [==============================] - 17s 324us/sample - loss: 0.4353 - accuracy: 0.8396\n",
      "Epoch 100/100\n",
      "51573/51573 [==============================] - 17s 325us/sample - loss: 0.4311 - accuracy: 0.8426\n",
      "[0.7886463294606884, 0.746161]\n"
     ]
    }
   ],
   "source": [
    "bodyStyleModel.compile(optimizer=sgd_optimizer,\n",
    "                   loss=\"categorical_crossentropy\",\n",
    "                   metrics=['accuracy']\n",
    "                   )\n",
    "batch_size = 50  # 每批训练数据量的大小\n",
    "epochs = 100\n",
    "bodyStyleModel.fit(X_bs_train,\n",
    "                   y_bs_train,\n",
    "                   epochs=epochs,\n",
    "                   batch_size=batch_size,\n",
    "                   shuffle=True,\n",
    "                   #                    validation_data=(valid_input, valid_output)\n",
    "                   )\n",
    "print(bodyStyleModel.evaluate(X_bs_test,y_bs_test,verbose=0))"
   ]
  },
  {
   "cell_type": "code",
   "execution_count": null,
   "metadata": {},
   "outputs": [],
   "source": [
    "MODEL_PATH = 'model/bodystyle_model_85.h5'\n",
    "bodyStyleModel.save(MODEL_PATH)"
   ]
  },
  {
   "cell_type": "markdown",
   "metadata": {},
   "source": [
    "# 字典"
   ]
  },
  {
   "cell_type": "code",
   "execution_count": 15,
   "metadata": {},
   "outputs": [],
   "source": [
    "y_one_hot = y"
   ]
  },
  {
   "cell_type": "code",
   "execution_count": 19,
   "metadata": {},
   "outputs": [],
   "source": [
    "label = io.loadmat(label_mat_path+label_filename)[\"name\"]\n",
    "for i in range(64467):  # 去除因对齐添加的空格\n",
    "    for j in range(16):\n",
    "        label[i][j] = label[i][j].strip()\n",
    "# 取shape一列\n",
    "row=len(label)\n",
    "y=['' for i in range(row)]\n",
    "for i in range(row):\n",
    "    y[i]=label[i][15]"
   ]
  },
  {
   "cell_type": "code",
   "execution_count": 27,
   "metadata": {},
   "outputs": [],
   "source": [
    "# for items in y:\n",
    "#     if items in ('2dr','4dr','SUV','Convertible','Pickup','Station Wagon','Van','nan'):\n",
    "#         pass\n",
    "#     else:\n",
    "#         print(i,items)"
   ]
  },
  {
   "cell_type": "code",
   "execution_count": null,
   "metadata": {},
   "outputs": [],
   "source": []
  },
  {
   "cell_type": "code",
   "execution_count": 22,
   "metadata": {},
   "outputs": [
    {
     "data": {
      "text/plain": [
       "9"
      ]
     },
     "execution_count": 22,
     "metadata": {},
     "output_type": "execute_result"
    }
   ],
   "source": [
    "len(y_one_hot[0])"
   ]
  },
  {
   "cell_type": "code",
   "execution_count": null,
   "metadata": {},
   "outputs": [],
   "source": []
  },
  {
   "cell_type": "code",
   "execution_count": null,
   "metadata": {},
   "outputs": [],
   "source": [
    "# 保存到文件 避免下次重复计算\n",
    "import scipy.io as io\n",
    "dict_mat_path = 'dicts/bodystyle'\n",
    "io.savemat(dict_mat_path, {'name': dict_bs})\n"
   ]
  }
 ],
 "metadata": {
  "kernelspec": {
   "display_name": "Python 3",
   "language": "python",
   "name": "python3"
  },
  "language_info": {
   "codemirror_mode": {
    "name": "ipython",
    "version": 3
   },
   "file_extension": ".py",
   "mimetype": "text/x-python",
   "name": "python",
   "nbconvert_exporter": "python",
   "pygments_lexer": "ipython3",
   "version": "3.7.4"
  },
  "toc": {
   "base_numbering": 1,
   "nav_menu": {},
   "number_sections": true,
   "sideBar": true,
   "skip_h1_title": false,
   "title_cell": "Table of Contents",
   "title_sidebar": "Contents",
   "toc_cell": false,
   "toc_position": {},
   "toc_section_display": true,
   "toc_window_display": true
  }
 },
 "nbformat": 4,
 "nbformat_minor": 2
}
