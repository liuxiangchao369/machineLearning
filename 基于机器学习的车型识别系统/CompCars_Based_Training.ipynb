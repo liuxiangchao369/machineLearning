{
 "cells": [
  {
   "cell_type": "code",
   "execution_count": 8,
   "metadata": {},
   "outputs": [],
   "source": [
    "import scipy.io #导入读取文件的库\n",
    "\n",
    "train_annos_mat_path=\"compcars\\devkit\\cars_train_annos.mat\"\n",
    "data_annos=scipy.io.loadmat(train_annos_mat_path)"
   ]
  },
  {
   "cell_type": "code",
   "execution_count": 3,
   "metadata": {},
   "outputs": [],
   "source": [
    "annotions=data_annos[\"annotations\"]"
   ]
  },
  {
   "cell_type": "code",
   "execution_count": 9,
   "metadata": {},
   "outputs": [
    {
     "data": {
      "text/plain": [
       "array([[3]], dtype=uint8)"
      ]
     },
     "execution_count": 9,
     "metadata": {},
     "output_type": "execute_result"
    }
   ],
   "source": [
    "annotions.item(1)[4]"
   ]
  },
  {
   "cell_type": "code",
   "execution_count": 19,
   "metadata": {},
   "outputs": [
    {
     "name": "stdout",
     "output_type": "stream",
     "text": [
      "196\n"
     ]
    }
   ],
   "source": [
    "maxitem=0\n",
    "for i in range (8144):\n",
    "    items=annotions.item(i)[4][0][0]\n",
    "    if items>maxitem:\n",
    "        maxitem=items\n",
    "print(maxitem)"
   ]
  },
  {
   "cell_type": "code",
   "execution_count": 1,
   "metadata": {},
   "outputs": [
    {
     "ename": "ModuleNotFoundError",
     "evalue": "No module named 'tensorflow'",
     "output_type": "error",
     "traceback": [
      "\u001b[1;31m---------------------------------------------------------------------------\u001b[0m",
      "\u001b[1;31mModuleNotFoundError\u001b[0m                       Traceback (most recent call last)",
      "\u001b[1;32m<ipython-input-1-27fb78d207ac>\u001b[0m in \u001b[0;36m<module>\u001b[1;34m\u001b[0m\n\u001b[0;32m      2\u001b[0m \u001b[1;32mimport\u001b[0m \u001b[0mglob\u001b[0m  \u001b[1;31m#glob 文件通配符模块\u001b[0m\u001b[1;33m\u001b[0m\u001b[1;33m\u001b[0m\u001b[0m\n\u001b[0;32m      3\u001b[0m \u001b[1;32mimport\u001b[0m \u001b[0mos\u001b[0m    \u001b[1;31m#os 处理文件和目录的模块\u001b[0m\u001b[1;33m\u001b[0m\u001b[1;33m\u001b[0m\u001b[0m\n\u001b[1;32m----> 4\u001b[1;33m \u001b[1;32mimport\u001b[0m \u001b[0mtensorflow\u001b[0m \u001b[1;32mas\u001b[0m \u001b[0mtf\u001b[0m\u001b[1;33m\u001b[0m\u001b[1;33m\u001b[0m\u001b[0m\n\u001b[0m\u001b[0;32m      5\u001b[0m \u001b[1;32mimport\u001b[0m \u001b[0mnumpy\u001b[0m \u001b[1;32mas\u001b[0m \u001b[0mnp\u001b[0m   \u001b[1;31m#多维数据处理模块\u001b[0m\u001b[1;33m\u001b[0m\u001b[1;33m\u001b[0m\u001b[0m\n\u001b[0;32m      6\u001b[0m \u001b[1;32mimport\u001b[0m \u001b[0mtime\u001b[0m\u001b[1;33m\u001b[0m\u001b[1;33m\u001b[0m\u001b[0m\n",
      "\u001b[1;31mModuleNotFoundError\u001b[0m: No module named 'tensorflow'"
     ]
    }
   ],
   "source": [
    "from skimage import io,transform #skimage模块下的io transform(图像的形变与缩放)模块\n",
    "import glob  #glob 文件通配符模块\n",
    "import os    #os 处理文件和目录的模块\n",
    "import tensorflow as tf \n",
    "import numpy as np   #多维数据处理模块\n",
    "import time\n",
    "                      \n",
    "#数据集地址\n",
    "path='compcars\\cars_test'\n",
    "#模型保存地址\n",
    "model_path='model/fc_model.ckpt'\n",
    " \n",
    "#将所有的图片resize成80*60\n",
    "w=80\n",
    "h=60\n",
    "c=3\n",
    " \n",
    " \n",
    "#读取图片+数据处理                    \n",
    "def read_img(path):\n",
    "    #os.listdir(path) 返回path指定的文件夹包含的文件或文件夹的名字的列表\n",
    "    #os.path.isdir(path)判断path是否是目录\n",
    "    #b = [x+x for x in list1 if x+x<15 ]  列表生成式,循环list1，当if为真时，将x+x加入列表b\n",
    "    cate=[path+x for x in os.listdir(path) if os.path.isdir(path+x)]\n",
    "    imgs=[]\n",
    "    labels=[]\n",
    "    for idx,folder in enumerate(cate):\n",
    "        #glob.glob(s+'*.py') 从目录通配符搜索中生成文件列表 \n",
    "        for im in glob.glob(folder+'/*.jpg'):\n",
    "            #输出读取的图片的名称  \n",
    "            print('reading the images:%s'%(im))\n",
    "            #io.imread(im)读取单张RGB图片 skimage.io.imread(fname,as_grey=True)读取单张灰度图片\n",
    "            #读取的图片 \n",
    "            img=io.imread(im)\n",
    "            #skimage.transform.resize(image, output_shape)改变图片的尺寸\n",
    "            img=transform.resize(img,(w,h))\n",
    "            #将读取的图片数据加载到imgs[]列表中\n",
    "            imgs.append(img)\n",
    "            #将图片的label加载到labels[]中，与上方的imgs索引对应\n",
    "            labels.append(idx)\n",
    "   #将读取的图片和labels信息，转化为numpy结构的ndarr(N维数组对象（矩阵）)数据信息\n",
    "    return np.asarray(imgs,np.float32),np.asarray(labels,np.int32)\n",
    " #调用读取图片的函数，得到图片和labels的数据集   \n",
    "data,label=read_img(path)"
   ]
  },
  {
   "cell_type": "code",
   "execution_count": null,
   "metadata": {},
   "outputs": [],
   "source": []
  }
 ],
 "metadata": {
  "kernelspec": {
   "display_name": "Python 3",
   "language": "python",
   "name": "python3"
  },
  "language_info": {
   "codemirror_mode": {
    "name": "ipython",
    "version": 3
   },
   "file_extension": ".py",
   "mimetype": "text/x-python",
   "name": "python",
   "nbconvert_exporter": "python",
   "pygments_lexer": "ipython3",
   "version": "3.7.4"
  },
  "toc": {
   "base_numbering": 1,
   "nav_menu": {},
   "number_sections": true,
   "sideBar": true,
   "skip_h1_title": false,
   "title_cell": "Table of Contents",
   "title_sidebar": "Contents",
   "toc_cell": false,
   "toc_position": {},
   "toc_section_display": true,
   "toc_window_display": false
  }
 },
 "nbformat": 4,
 "nbformat_minor": 2
}
